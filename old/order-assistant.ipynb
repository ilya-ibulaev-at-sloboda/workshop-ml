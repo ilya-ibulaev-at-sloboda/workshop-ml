{
 "cells": [
  {
   "cell_type": "code",
   "id": "initial_id",
   "metadata": {
    "collapsed": true,
    "ExecuteTime": {
     "end_time": "2024-07-26T10:11:03.275359Z",
     "start_time": "2024-07-26T10:11:03.270163Z"
    }
   },
   "source": [
    "import dotenv, os\n",
    "import csv\n",
    "from openai import OpenAI"
   ],
   "outputs": [],
   "execution_count": 93
  },
  {
   "metadata": {
    "ExecuteTime": {
     "end_time": "2024-07-26T10:11:04.998292Z",
     "start_time": "2024-07-26T10:11:04.993903Z"
    }
   },
   "cell_type": "code",
   "source": [
    "dotenv.load_dotenv(\".env\")\n",
    "print(os.getenv(\"OPENAI_API_KEY\"))"
   ],
   "id": "5a7fa73e60289e9",
   "outputs": [
    {
     "name": "stdout",
     "output_type": "stream",
     "text": [
      "sk-proj-ooeZThAsO3CjYCoBKQtvT3BlbkFJlvwUmwpAuvMjGj5lC7Sx\n"
     ]
    }
   ],
   "execution_count": 94
  },
  {
   "metadata": {
    "ExecuteTime": {
     "end_time": "2024-07-26T10:11:06.702440Z",
     "start_time": "2024-07-26T10:11:06.676036Z"
    }
   },
   "cell_type": "code",
   "source": [
    "MODEL=\"gpt-4o-mini\"\n",
    "client = OpenAI()"
   ],
   "id": "fe1f130baa413b2e",
   "outputs": [],
   "execution_count": 95
  },
  {
   "metadata": {
    "ExecuteTime": {
     "end_time": "2024-07-26T10:11:14.959752Z",
     "start_time": "2024-07-26T10:11:14.956003Z"
    }
   },
   "cell_type": "code",
   "source": [
    "def get_orders():\n",
    "  with open(os.getcwd()+'/data/orders.csv', mode='r') as infile:\n",
    "    reader = csv.reader(infile)\n",
    "    next(reader, None)\n",
    "    # create orders dict with key first column \n",
    "    orders = {str(row[0]):[row[1], row[2]] for row in reader}\n",
    "    \n",
    "  # print(orders)\n",
    "  return orders\n",
    "  \n",
    "def get_order_info_by_number(number:str):\n",
    "  orders = get_orders()\n",
    "  try:\n",
    "    return str(orders[str(number)][0])\n",
    "  except KeyError:\n",
    "    return \"NA\"\n",
    "  \n",
    "# get_order_info_by_number('3004')"
   ],
   "id": "57810f90591e241e",
   "outputs": [],
   "execution_count": 96
  },
  {
   "metadata": {
    "ExecuteTime": {
     "end_time": "2024-07-26T10:11:41.229993Z",
     "start_time": "2024-07-26T10:11:40.422804Z"
    }
   },
   "cell_type": "code",
   "source": [
    " \n",
    "assistant = client.beta.assistants.create(\n",
    "  instructions=\"You are a e-shop order assistant. You can provide information about user's orders\",\n",
    "  model=MODEL,\n",
    "  tools=[\n",
    "    {\n",
    "      \"type\": \"function\",\n",
    "      \"function\": {\n",
    "        \"name\": \"get_order_info\",\n",
    "        \"description\": \"Get the order status\",\n",
    "        \"parameters\": {\n",
    "          \"type\": \"object\",\n",
    "          \"properties\": {\n",
    "            \"order_number\": {\n",
    "              \"type\": \"string\",\n",
    "              \"description\": \"The order number containing 4 digits and staring from 3\"\n",
    "            }\n",
    "          },\n",
    "          \"required\": [\"order_number\",]\n",
    "        }\n",
    "      }\n",
    "    },\n",
    "  ]\n",
    ")"
   ],
   "id": "7859b25dd5a29125",
   "outputs": [],
   "execution_count": 97
  },
  {
   "metadata": {
    "ExecuteTime": {
     "end_time": "2024-07-26T10:11:42.577894Z",
     "start_time": "2024-07-26T10:11:42.159555Z"
    }
   },
   "cell_type": "code",
   "source": "thread = client.beta.threads.create()",
   "id": "d2317675ddd5a839",
   "outputs": [],
   "execution_count": 98
  },
  {
   "metadata": {
    "ExecuteTime": {
     "end_time": "2024-07-26T10:13:10.675301Z",
     "start_time": "2024-07-26T10:13:10.160497Z"
    }
   },
   "cell_type": "code",
   "source": [
    "message = client.beta.threads.messages.create(\n",
    "  thread_id=thread.id,\n",
    "  role=\"user\",\n",
    "  content=\"What is the status of my order 1876238762401?\",\n",
    ")"
   ],
   "id": "267c8ca67aeba9fb",
   "outputs": [],
   "execution_count": 111
  },
  {
   "metadata": {
    "ExecuteTime": {
     "end_time": "2024-07-26T10:13:17.535780Z",
     "start_time": "2024-07-26T10:13:11.374555Z"
    }
   },
   "cell_type": "code",
   "source": [
    "run = client.beta.threads.runs.create_and_poll(\n",
    "  thread_id=thread.id,\n",
    "  assistant_id=assistant.id,\n",
    ")"
   ],
   "id": "c97722deb9879fb7",
   "outputs": [],
   "execution_count": 112
  },
  {
   "metadata": {
    "ExecuteTime": {
     "end_time": "2024-07-26T10:13:19.612521Z",
     "start_time": "2024-07-26T10:13:19.327148Z"
    }
   },
   "cell_type": "code",
   "source": [
    "if run.status == 'completed':\n",
    "  messages = client.beta.threads.messages.list(\n",
    "    thread_id=thread.id\n",
    "  )\n",
    "  print(messages)\n",
    "else:\n",
    "  print(run.status)"
   ],
   "id": "5adfd490f4b80483",
   "outputs": [
    {
     "name": "stdout",
     "output_type": "stream",
     "text": [
      "SyncCursorPage[Message](data=[Message(id='msg_hhUVZE9a0e4FCm4bNZ4EDbmy', assistant_id='asst_Qo8j9N72VyiC0Y000Y6aZjN1', attachments=[], completed_at=None, content=[TextContentBlock(text=Text(annotations=[], value='It looks like the order number you provided is not valid. Please check and provide an order number that is 4 digits long and starts with the number 3.'), type='text')], created_at=1721988793, incomplete_at=None, incomplete_details=None, metadata={}, object='thread.message', role='assistant', run_id='run_lba5v9U0MgUinrTthZFvjDEd', status=None, thread_id='thread_6G7wbcR97kTbLXKpAr4noQWx'), Message(id='msg_u0pA7mXPrJK2g8r7iaP85RU8', assistant_id=None, attachments=[], completed_at=None, content=[TextContentBlock(text=Text(annotations=[], value='What is the status of my order 1876238762401?'), type='text')], created_at=1721988790, incomplete_at=None, incomplete_details=None, metadata={}, object='thread.message', role='user', run_id=None, status=None, thread_id='thread_6G7wbcR97kTbLXKpAr4noQWx'), Message(id='msg_UxniNtxdjLgkPdql28KZPtjU', assistant_id='asst_Qo8j9N72VyiC0Y000Y6aZjN1', attachments=[], completed_at=None, content=[TextContentBlock(text=Text(annotations=[], value='Your order 3001 has been delivered.'), type='text')], created_at=1721988769, incomplete_at=None, incomplete_details=None, metadata={}, object='thread.message', role='assistant', run_id='run_R2tGBj5Lq4cRp6bkwqDQxna1', status=None, thread_id='thread_6G7wbcR97kTbLXKpAr4noQWx'), Message(id='msg_AwZ6KWrmeF8aBbnQPHIRd7Er', assistant_id=None, attachments=[], completed_at=None, content=[TextContentBlock(text=Text(annotations=[], value='What is the status of my order 3001?'), type='text')], created_at=1721988760, incomplete_at=None, incomplete_details=None, metadata={}, object='thread.message', role='user', run_id=None, status=None, thread_id='thread_6G7wbcR97kTbLXKpAr4noQWx'), Message(id='msg_2sk6cfPBX2zg6Vr1cTBbGpx5', assistant_id='asst_Qo8j9N72VyiC0Y000Y6aZjN1', attachments=[], completed_at=None, content=[TextContentBlock(text=Text(annotations=[], value='Your order 3004 has been shipped.'), type='text')], created_at=1721988742, incomplete_at=None, incomplete_details=None, metadata={}, object='thread.message', role='assistant', run_id='run_8l128yIXJQUVH1QoQ39lXCGn', status=None, thread_id='thread_6G7wbcR97kTbLXKpAr4noQWx'), Message(id='msg_3G8lhuXbQWCk2f6fHpzjDDYw', assistant_id=None, attachments=[], completed_at=None, content=[TextContentBlock(text=Text(annotations=[], value='What is the status of my order 3004?'), type='text')], created_at=1721988712, incomplete_at=None, incomplete_details=None, metadata={}, object='thread.message', role='user', run_id=None, status=None, thread_id='thread_6G7wbcR97kTbLXKpAr4noQWx')], object='list', first_id='msg_hhUVZE9a0e4FCm4bNZ4EDbmy', last_id='msg_3G8lhuXbQWCk2f6fHpzjDDYw', has_more=False)\n"
     ]
    }
   ],
   "execution_count": 113
  },
  {
   "metadata": {
    "ExecuteTime": {
     "end_time": "2024-07-26T10:12:45.256140Z",
     "start_time": "2024-07-26T10:12:45.252008Z"
    }
   },
   "cell_type": "code",
   "source": [
    "# Define the list to store tool outputs\n",
    "tool_outputs = []\n",
    " \n",
    "# Loop through each tool in the required action section\n",
    "for tool in run.required_action.submit_tool_outputs.tool_calls:\n",
    "  if tool.function.name == \"get_order_info\":\n",
    "    \n",
    "    kargs = eval(tool.function.arguments)\n",
    "    print(kargs)\n",
    "    \n",
    "    tool_outputs.append({\n",
    "      \"tool_call_id\": tool.id,\n",
    "      \"output\": get_order_info_by_number(kargs['order_number'])\n",
    "    })\n",
    "      \n",
    "# print(tool_outputs)"
   ],
   "id": "83ed4a0e0db6ad37",
   "outputs": [
    {
     "name": "stdout",
     "output_type": "stream",
     "text": [
      "{'order_number': '3001'}\n"
     ]
    }
   ],
   "execution_count": 108
  },
  {
   "metadata": {
    "ExecuteTime": {
     "end_time": "2024-07-26T10:12:50.193079Z",
     "start_time": "2024-07-26T10:12:46.597092Z"
    }
   },
   "cell_type": "code",
   "source": [
    "# Submit all tool outputs at once after collecting them in a list\n",
    "if tool_outputs:\n",
    "  try:\n",
    "    run = client.beta.threads.runs.submit_tool_outputs_and_poll(\n",
    "      thread_id=thread.id,\n",
    "      run_id=run.id,\n",
    "      tool_outputs=tool_outputs\n",
    "    )\n",
    "    print(\"Tool outputs submitted successfully.\")\n",
    "  except Exception as e:\n",
    "    print(\"Failed to submit tool outputs:\", e)\n",
    "else:\n",
    "  print(\"No tool outputs to submit.\")\n",
    " \n",
    "if run.status == 'completed':\n",
    "  messages = client.beta.threads.messages.list(\n",
    "    thread_id=thread.id\n",
    "  )\n",
    "  print(messages)\n",
    "else:\n",
    "  print(run.status)"
   ],
   "id": "4e649546ed1369bb",
   "outputs": [
    {
     "name": "stdout",
     "output_type": "stream",
     "text": [
      "Tool outputs submitted successfully.\n",
      "SyncCursorPage[Message](data=[Message(id='msg_UxniNtxdjLgkPdql28KZPtjU', assistant_id='asst_Qo8j9N72VyiC0Y000Y6aZjN1', attachments=[], completed_at=None, content=[TextContentBlock(text=Text(annotations=[], value='Your order 3001 has been delivered.'), type='text')], created_at=1721988769, incomplete_at=None, incomplete_details=None, metadata={}, object='thread.message', role='assistant', run_id='run_R2tGBj5Lq4cRp6bkwqDQxna1', status=None, thread_id='thread_6G7wbcR97kTbLXKpAr4noQWx'), Message(id='msg_AwZ6KWrmeF8aBbnQPHIRd7Er', assistant_id=None, attachments=[], completed_at=None, content=[TextContentBlock(text=Text(annotations=[], value='What is the status of my order 3001?'), type='text')], created_at=1721988760, incomplete_at=None, incomplete_details=None, metadata={}, object='thread.message', role='user', run_id=None, status=None, thread_id='thread_6G7wbcR97kTbLXKpAr4noQWx'), Message(id='msg_2sk6cfPBX2zg6Vr1cTBbGpx5', assistant_id='asst_Qo8j9N72VyiC0Y000Y6aZjN1', attachments=[], completed_at=None, content=[TextContentBlock(text=Text(annotations=[], value='Your order 3004 has been shipped.'), type='text')], created_at=1721988742, incomplete_at=None, incomplete_details=None, metadata={}, object='thread.message', role='assistant', run_id='run_8l128yIXJQUVH1QoQ39lXCGn', status=None, thread_id='thread_6G7wbcR97kTbLXKpAr4noQWx'), Message(id='msg_3G8lhuXbQWCk2f6fHpzjDDYw', assistant_id=None, attachments=[], completed_at=None, content=[TextContentBlock(text=Text(annotations=[], value='What is the status of my order 3004?'), type='text')], created_at=1721988712, incomplete_at=None, incomplete_details=None, metadata={}, object='thread.message', role='user', run_id=None, status=None, thread_id='thread_6G7wbcR97kTbLXKpAr4noQWx')], object='list', first_id='msg_UxniNtxdjLgkPdql28KZPtjU', last_id='msg_3G8lhuXbQWCk2f6fHpzjDDYw', has_more=False)\n"
     ]
    }
   ],
   "execution_count": 109
  },
  {
   "metadata": {
    "ExecuteTime": {
     "end_time": "2024-07-26T10:12:51.302979Z",
     "start_time": "2024-07-26T10:12:51.300432Z"
    }
   },
   "cell_type": "code",
   "source": "print(messages.data[0].content[0].text.value)",
   "id": "3246bfa389c8ee3a",
   "outputs": [
    {
     "name": "stdout",
     "output_type": "stream",
     "text": [
      "Your order 3001 has been delivered.\n"
     ]
    }
   ],
   "execution_count": 110
  },
  {
   "metadata": {},
   "cell_type": "code",
   "outputs": [],
   "execution_count": null,
   "source": "",
   "id": "edcb75b652ce9b69"
  }
 ],
 "metadata": {
  "kernelspec": {
   "display_name": "Python 3",
   "language": "python",
   "name": "python3"
  },
  "language_info": {
   "codemirror_mode": {
    "name": "ipython",
    "version": 2
   },
   "file_extension": ".py",
   "mimetype": "text/x-python",
   "name": "python",
   "nbconvert_exporter": "python",
   "pygments_lexer": "ipython2",
   "version": "2.7.6"
  }
 },
 "nbformat": 4,
 "nbformat_minor": 5
}
