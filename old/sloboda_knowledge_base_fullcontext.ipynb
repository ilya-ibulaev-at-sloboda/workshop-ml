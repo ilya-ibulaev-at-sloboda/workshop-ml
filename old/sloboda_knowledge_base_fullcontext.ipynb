{
 "cells": [
  {
   "metadata": {
    "ExecuteTime": {
     "end_time": "2024-07-25T11:13:11.650034Z",
     "start_time": "2024-07-25T11:13:11.633841Z"
    }
   },
   "cell_type": "code",
   "source": [
    "# imports\n",
    "from openai import OpenAI # for calling the OpenAI API\n",
    "import dotenv  # for loading environment variables\n",
    "import os # for getting API token from env variable OPENAI_API_KEY\n",
    "\n",
    "dotenv.load_dotenv(\".env\")\n",
    "\n",
    "\n",
    "# models\n",
    "GPT_MODEL = \"gpt-4o-mini\"\n",
    "\n",
    "client = OpenAI(api_key=os.environ.get(\"OPENAI_API_KEY\", \"<your OpenAI API key if not set as env var>\"))"
   ],
   "id": "bd9ea3a2ef4e78bc",
   "outputs": [],
   "execution_count": 12
  },
  {
   "metadata": {},
   "cell_type": "markdown",
   "source": [
    "# Let's start by asking a simple question\n",
    "\n",
    "We need to provide the model with a role to help it understand the context of the question. "
   ],
   "id": "b1ed12566f89b06d"
  },
  {
   "metadata": {
    "ExecuteTime": {
     "end_time": "2024-07-25T11:13:13.711183Z",
     "start_time": "2024-07-25T11:13:13.708677Z"
    }
   },
   "cell_type": "code",
   "source": [
    "# an example question about the 2022 Olympics\n",
    "system_role = \"You answer questions about Sloboda-studio internal rules\"\n",
    "question = 'How many sunflowers can you get for mentoring?'"
   ],
   "id": "initial_id",
   "outputs": [],
   "execution_count": 13
  },
  {
   "metadata": {
    "ExecuteTime": {
     "end_time": "2024-07-25T11:13:16.422240Z",
     "start_time": "2024-07-25T11:13:14.855195Z"
    }
   },
   "cell_type": "code",
   "source": [
    "response = client.chat.completions.create(\n",
    "    messages=[\n",
    "        {'role': 'system', 'content': system_role},\n",
    "        {'role': 'user', 'content': question},\n",
    "    ],\n",
    "    model=GPT_MODEL,\n",
    "    temperature=0,\n",
    ")\n",
    "\n",
    "print(response.choices[0].message.content)"
   ],
   "id": "4b7ccb81b36d5d19",
   "outputs": [
    {
     "name": "stdout",
     "output_type": "stream",
     "text": [
      "I'm sorry, but I don't have specific information about the number of sunflowers awarded for mentoring at Sloboda-studio. You may want to check the internal guidelines or ask a colleague for the most accurate and up-to-date information.\n"
     ]
    }
   ],
   "execution_count": 14
  },
  {
   "metadata": {},
   "cell_type": "markdown",
   "source": "In this case, the model has no knowledge Sloboda and is unable to answer the question correctly.",
   "id": "4ac5bb52ed5a216a"
  },
  {
   "metadata": {},
   "cell_type": "markdown",
   "source": [
    "\n",
    "## Let's provide a context\n",
    " \n",
    "You can give GPT knowledge about a topic by inserting it into an input message\n",
    "\n",
    "To help give the model knowledge, we can copy and paste the top half of a relevant article into our message:"
   ],
   "id": "2bf15f39238e5b87"
  },
  {
   "metadata": {
    "ExecuteTime": {
     "end_time": "2024-07-25T11:13:40.295946Z",
     "start_time": "2024-07-25T11:13:40.290940Z"
    }
   },
   "cell_type": "code",
   "source": [
    "# I didn't bother to format or clean the text, but GPT will still understand it\n",
    "\n",
    "sunflower_game_rules = \"\"\"\n",
    "Sunflower game\n",
    "At Sloboda Studio, we believe the foundation of success is the collective effort and creativity of our team. You're not just doing your job; you're fueling our growth by recommending us, sharing our vision, innovating for our future, and so much more.\n",
    "We're immensely grateful for your contributions - and we think it's important that your efforts blossomed into rewards. Enter the Sunflower Game, a playful yet rewarding way to earn delightful perks.\n",
    "How It Works\n",
    "As you shine in your role and sprinkle a little extra magic, you'll gather Sunflower Points ( ) across various categories. These points can be exchanged for enticing rewards from our prize pool.\n",
    "Earning Sunflower Points\n",
    "Here’s how you can brighten your garden:\n",
    "Categories and options:\n",
    "☀\n",
    " \n",
    "Category\n",
    "Details\n",
    "Points\n",
    "Company Development Idea\n",
    "Propose new processes, tools for improved department functionality, or innovative languages. Share your thoughts with the CEO, HR, or PM.\n",
    "10\n",
    "☀\n",
    "Project Enhancement Idea\n",
    "Suggest new features, analytics enhancements, solutions, frameworks, or logic overhauls.\n",
    "10\n",
    "☀\n",
    "      Client Appreciation\n",
    "Earn it for outstanding work or fostering positive interactions.\n",
    "15\n",
    "☀\n",
    "Peer Appreciation\n",
    "For lending a hand, offering support, or enhancing our work environment.\n",
    "10\n",
    "☀\n",
    "Mentorship\n",
    "Take on the mentor role and guide our growing talents.\n",
    "10\n",
    "☀\n",
    "Candidate Referral\n",
    "Recommend a friend or acquaintance to join our team.\n",
    "20\n",
    "☀\n",
    "Marketing Article Assistance\n",
    "Support our marketing team with your technical expertise.\n",
    "20\n",
    "☀\n",
    "Public Speaking\n",
    "Represent us at conferences, meetups, or internal trainings.\n",
    "50\n",
    "☀\n",
    "Writing Articles for Our Discourse\n",
    "Contribute your expertise and insights by writing articles for our Discourse platform, enriching our community's knowledge and engagement.\n",
    "10\n",
    "☀\n",
    "Social Media Engagement\n",
    "Participate in flash mobs or mention us in your posts using our hashtags.\n",
    "15\n",
    "☀\n",
    "Company Post Reposting\n",
    "Share our social media publications.\n",
    "5\n",
    "☀\n",
    "              Upsell\n",
    "Help expand our current project scope or account by signaling client interests to managers.\n",
    "20\n",
    "☀\n",
    "Overtime (Discouraged)\n",
    "Recognized at the end of each month for additional hours contributed.\n",
    "10\n",
    "☀\n",
    "  Nomination and Redemption\n",
    "Points can be nominated by:\n",
    "● Your Manager: For project ideas, client thanks, etc.\n",
    "\n",
    "● HR: For mentorship, social media posts or etc.\n",
    "● You: Directly, for appreciating a colleague's effort or initiating\n",
    "help/ideas.\n",
    "To exchange points or for any queries and suggestions, reach out to Daryna Kuzmenko .\n",
    "\"\"\""
   ],
   "id": "5d9952ebc45a3713",
   "outputs": [],
   "execution_count": 15
  },
  {
   "metadata": {
    "ExecuteTime": {
     "end_time": "2024-07-25T11:14:04.893334Z",
     "start_time": "2024-07-25T11:14:03.213511Z"
    }
   },
   "cell_type": "code",
   "source": [
    "question = \"What is the fastest way to earn Sunflower Points?\"\n",
    "query = f\"\"\"Use the below article to answer the subsequent question. If the answer cannot be found, write \"I don't know.\"\n",
    "\n",
    "Article:\n",
    "\\\"\\\"\\\"\n",
    "{sunflower_game_rules}\n",
    "\\\"\\\"\\\"\n",
    "\n",
    "Question: {question}\"\"\"\n",
    "\n",
    "response = client.chat.completions.create(\n",
    "    messages=[\n",
    "        {'role': 'system', 'content': system_role},\n",
    "        {'role': 'user', 'content': query},\n",
    "    ],\n",
    "    model=GPT_MODEL,\n",
    "    temperature=0,\n",
    ")\n",
    "\n",
    "print(response.choices[0].message.content)"
   ],
   "id": "a0b3f98e086118e4",
   "outputs": [
    {
     "name": "stdout",
     "output_type": "stream",
     "text": [
      "The fastest way to earn Sunflower Points is by participating in Public Speaking, which allows you to earn 50 points by representing the company at conferences, meetups, or internal trainings.\n"
     ]
    }
   ],
   "execution_count": 16
  },
  {
   "metadata": {},
   "cell_type": "markdown",
   "source": "Now the model has the context it needs to answer the question correctly. But let's check how many tokens were used to generate the response.",
   "id": "44d58bba77f6280c"
  },
  {
   "metadata": {
    "ExecuteTime": {
     "end_time": "2024-07-24T20:25:22.359212Z",
     "start_time": "2024-07-24T20:25:22.354268Z"
    }
   },
   "cell_type": "code",
   "source": "response.usage",
   "id": "247fffb89db4f107",
   "outputs": [
    {
     "data": {
      "text/plain": [
       "CompletionUsage(completion_tokens=38, prompt_tokens=623, total_tokens=661)"
      ]
     },
     "execution_count": 9,
     "metadata": {},
     "output_type": "execute_result"
    }
   ],
   "execution_count": 9
  },
  {
   "metadata": {},
   "cell_type": "markdown",
   "source": "So we can assume that the model used 1 token per word to generate the response. In that case we can not put all our knowledge into the input message. ",
   "id": "28625570d8345d4"
  },
  {
   "metadata": {},
   "cell_type": "code",
   "outputs": [],
   "execution_count": null,
   "source": "",
   "id": "46ed8241cd08d22e"
  }
 ],
 "metadata": {
  "kernelspec": {
   "display_name": "Python 3",
   "language": "python",
   "name": "python3"
  },
  "language_info": {
   "codemirror_mode": {
    "name": "ipython",
    "version": 2
   },
   "file_extension": ".py",
   "mimetype": "text/x-python",
   "name": "python",
   "nbconvert_exporter": "python",
   "pygments_lexer": "ipython2",
   "version": "2.7.6"
  }
 },
 "nbformat": 4,
 "nbformat_minor": 5
}
