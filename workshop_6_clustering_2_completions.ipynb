{
 "cells": [
  {
   "metadata": {},
   "cell_type": "markdown",
   "source": "# Clustering with OpenAI completions",
   "id": "6c9fab63b68c9141"
  },
  {
   "cell_type": "code",
   "id": "968416a7e0faaee2",
   "metadata": {
    "collapsed": true,
    "ExecuteTime": {
     "end_time": "2024-10-16T13:59:01.945290Z",
     "start_time": "2024-10-16T13:58:57.595197Z"
    }
   },
   "source": [
    "import openai\n",
    "import json\n",
    "import dotenv\n",
    "\n",
    "dotenv.load_dotenv()\n",
    "\n",
    "client = openai.Client()\n",
    "\n",
    "# Sample data: List of movie reviews\n",
    "reviews = [\n",
    "    \"I loved the movie! The performances were stellar and the plot was gripping.\",\n",
    "    \"Terrible film. It was a waste of time and the acting was subpar.\",\n",
    "    \"An average movie with some good moments but overall forgettable.\",\n",
    "    \"Fantastic! A masterpiece of storytelling and visual effects.\",\n",
    "    \"Not bad, but I wouldn't watch it again. Mediocre at best.\",\n",
    "    \"Absolutely wonderful. A must-watch for everyone!\"\n",
    "]\n",
    "\n",
    "# Construct prompt for categorization\n",
    "# prompt = \"Categorize the following movie reviews into 'Positive', 'Negative', or 'Neutral'.\\n\\n\"\n",
    "prompt = \"Clusterize the following movie reviews into groups. Determine the groups by your own'.\\n\\n\"\n",
    "for i, review in enumerate(reviews, 1):\n",
    "    prompt += f\"{i}. {review}\\n\"\n",
    "\n",
    "prompt += \"\\nProvide the categories in a JSON format like {\\\"1\\\": \\\"Positive\\\", \\\"2\\\": \\\"Negative\\\", ...}.\"\n",
    "\n",
    "# Make API call\n",
    "response = client.chat.completions.create(\n",
    "    model=\"gpt-4\",\n",
    "    messages=[\n",
    "        {\"role\": \"system\", \"content\": \"You are a helpful assistant.\"},\n",
    "        {\"role\": \"user\", \"content\": prompt}\n",
    "    ],\n",
    "    temperature=0  # For deterministic output\n",
    ")\n",
    "\n",
    "response"
   ],
   "outputs": [
    {
     "data": {
      "text/plain": [
       "ChatCompletion(id='chatcmpl-AIyqAQdDzcfUUh4CMOzzp3pLpwDJC', choices=[Choice(finish_reason='stop', index=0, logprobs=None, message=ChatCompletionMessage(content='{\\n\"1\": \"Positive\",\\n\"2\": \"Negative\",\\n\"3\": \"Neutral\",\\n\"4\": \"Positive\",\\n\"5\": \"Neutral\",\\n\"6\": \"Positive\"\\n}', role='assistant', function_call=None, tool_calls=None, refusal=None))], created=1729087138, model='gpt-4-0613', object='chat.completion', service_tier=None, system_fingerprint=None, usage=CompletionUsage(completion_tokens=38, prompt_tokens=146, total_tokens=184, prompt_tokens_details={'cached_tokens': 0}, completion_tokens_details={'reasoning_tokens': 0}))"
      ]
     },
     "execution_count": 12,
     "metadata": {},
     "output_type": "execute_result"
    }
   ],
   "execution_count": 12
  },
  {
   "metadata": {
    "ExecuteTime": {
     "end_time": "2024-10-16T13:59:04.952917Z",
     "start_time": "2024-10-16T13:59:04.949398Z"
    }
   },
   "cell_type": "code",
   "source": "response.choices[0].message.content",
   "id": "fd314b5ae88bc363",
   "outputs": [
    {
     "data": {
      "text/plain": [
       "'{\\n\"1\": \"Positive\",\\n\"2\": \"Negative\",\\n\"3\": \"Neutral\",\\n\"4\": \"Positive\",\\n\"5\": \"Neutral\",\\n\"6\": \"Positive\"\\n}'"
      ]
     },
     "execution_count": 13,
     "metadata": {},
     "output_type": "execute_result"
    }
   ],
   "execution_count": 13
  },
  {
   "metadata": {
    "ExecuteTime": {
     "end_time": "2024-10-16T13:59:06.113055Z",
     "start_time": "2024-10-16T13:59:06.108879Z"
    }
   },
   "cell_type": "code",
   "source": [
    "# Parse the response\n",
    "try:\n",
    "    categories = json.loads(response.choices[0].message.content)\n",
    "except json.JSONDecodeError:\n",
    "    categories = {}\n",
    "    print(\"Failed to parse JSON response.\")\n",
    "\n",
    "\n",
    "categories"
   ],
   "id": "initial_id",
   "outputs": [
    {
     "data": {
      "text/plain": [
       "{'1': 'Positive',\n",
       " '2': 'Negative',\n",
       " '3': 'Neutral',\n",
       " '4': 'Positive',\n",
       " '5': 'Neutral',\n",
       " '6': 'Positive'}"
      ]
     },
     "execution_count": 14,
     "metadata": {},
     "output_type": "execute_result"
    }
   ],
   "execution_count": 14
  },
  {
   "metadata": {},
   "cell_type": "code",
   "outputs": [],
   "execution_count": null,
   "source": "",
   "id": "537339a05074212d"
  }
 ],
 "metadata": {
  "kernelspec": {
   "display_name": "Python 3",
   "language": "python",
   "name": "python3"
  },
  "language_info": {
   "codemirror_mode": {
    "name": "ipython",
    "version": 2
   },
   "file_extension": ".py",
   "mimetype": "text/x-python",
   "name": "python",
   "nbconvert_exporter": "python",
   "pygments_lexer": "ipython2",
   "version": "2.7.6"
  }
 },
 "nbformat": 4,
 "nbformat_minor": 5
}
