{
 "cells": [
  {
   "metadata": {},
   "cell_type": "markdown",
   "source": "# Regression",
   "id": "78338f05e2a26aaa"
  },
  {
   "metadata": {},
   "cell_type": "markdown",
   "source": [
    "## Classic regression solution using Scikit-Learn\n",
    "\n",
    "Let's use the California housing dataset. You can get it from Scikit-Learn library. Description of the dataset is available [here](https://scikit-learn.org/stable/modules/generated/sklearn.datasets.fetch_california_housing.html#sklearn.datasets.fetch_california_housing)"
   ],
   "id": "f63f9bd150ddebd8"
  },
  {
   "metadata": {
    "ExecuteTime": {
     "end_time": "2024-10-16T09:07:21.932885Z",
     "start_time": "2024-10-16T09:07:21.928545Z"
    }
   },
   "cell_type": "code",
   "source": [
    "# Dirty patch to fix SSL error\n",
    "import os, ssl\n",
    "if (not os.environ.get('PYTHONHTTPSVERIFY', '') and\n",
    "    getattr(ssl, '_create_unverified_context', None)): \n",
    "    ssl._create_default_https_context = ssl._create_unverified_context"
   ],
   "id": "ab003339d3513220",
   "outputs": [],
   "execution_count": 1
  },
  {
   "metadata": {
    "ExecuteTime": {
     "end_time": "2024-10-16T09:20:15.183829Z",
     "start_time": "2024-10-16T09:20:15.171391Z"
    }
   },
   "cell_type": "code",
   "source": [
    "# Import the California housing dataset\n",
    "from sklearn.datasets import fetch_california_housing\n",
    "housing = fetch_california_housing()\n",
    "\n",
    "print(housing.DESCR)"
   ],
   "id": "e5034ffe5f7bc197",
   "outputs": [
    {
     "name": "stdout",
     "output_type": "stream",
     "text": [
      ".. _california_housing_dataset:\n",
      "\n",
      "California Housing dataset\n",
      "--------------------------\n",
      "\n",
      "**Data Set Characteristics:**\n",
      "\n",
      ":Number of Instances: 20640\n",
      "\n",
      ":Number of Attributes: 8 numeric, predictive attributes and the target\n",
      "\n",
      ":Attribute Information:\n",
      "    - MedInc        median income in block group\n",
      "    - HouseAge      median house age in block group\n",
      "    - AveRooms      average number of rooms per household\n",
      "    - AveBedrms     average number of bedrooms per household\n",
      "    - Population    block group population\n",
      "    - AveOccup      average number of household members\n",
      "    - Latitude      block group latitude\n",
      "    - Longitude     block group longitude\n",
      "\n",
      ":Missing Attribute Values: None\n",
      "\n",
      "This dataset was obtained from the StatLib repository.\n",
      "https://www.dcc.fc.up.pt/~ltorgo/Regression/cal_housing.html\n",
      "\n",
      "The target variable is the median house value for California districts,\n",
      "expressed in hundreds of thousands of dollars ($100,000).\n",
      "\n",
      "This dataset was derived from the 1990 U.S. census, using one row per census\n",
      "block group. A block group is the smallest geographical unit for which the U.S.\n",
      "Census Bureau publishes sample data (a block group typically has a population\n",
      "of 600 to 3,000 people).\n",
      "\n",
      "A household is a group of people residing within a home. Since the average\n",
      "number of rooms and bedrooms in this dataset are provided per household, these\n",
      "columns may take surprisingly large values for block groups with few households\n",
      "and many empty houses, such as vacation resorts.\n",
      "\n",
      "It can be downloaded/loaded using the\n",
      ":func:`sklearn.datasets.fetch_california_housing` function.\n",
      "\n",
      ".. rubric:: References\n",
      "\n",
      "- Pace, R. Kelley and Ronald Barry, Sparse Spatial Autoregressions,\n",
      "  Statistics and Probability Letters, 33 (1997) 291-297\n",
      "\n"
     ]
    }
   ],
   "execution_count": 11
  },
  {
   "metadata": {
    "ExecuteTime": {
     "end_time": "2024-10-16T09:07:52.947764Z",
     "start_time": "2024-10-16T09:07:52.928484Z"
    }
   },
   "cell_type": "code",
   "source": [
    "import pandas as pd\n",
    "\n",
    "housing_df = pd.DataFrame(housing.data, columns=housing.feature_names)\n",
    "housing_df"
   ],
   "id": "17be06f2741df991",
   "outputs": [
    {
     "data": {
      "text/plain": [
       "       MedInc  HouseAge  AveRooms  AveBedrms  Population  AveOccup  Latitude  \\\n",
       "0      8.3252      41.0  6.984127   1.023810       322.0  2.555556     37.88   \n",
       "1      8.3014      21.0  6.238137   0.971880      2401.0  2.109842     37.86   \n",
       "2      7.2574      52.0  8.288136   1.073446       496.0  2.802260     37.85   \n",
       "3      5.6431      52.0  5.817352   1.073059       558.0  2.547945     37.85   \n",
       "4      3.8462      52.0  6.281853   1.081081       565.0  2.181467     37.85   \n",
       "...       ...       ...       ...        ...         ...       ...       ...   \n",
       "20635  1.5603      25.0  5.045455   1.133333       845.0  2.560606     39.48   \n",
       "20636  2.5568      18.0  6.114035   1.315789       356.0  3.122807     39.49   \n",
       "20637  1.7000      17.0  5.205543   1.120092      1007.0  2.325635     39.43   \n",
       "20638  1.8672      18.0  5.329513   1.171920       741.0  2.123209     39.43   \n",
       "20639  2.3886      16.0  5.254717   1.162264      1387.0  2.616981     39.37   \n",
       "\n",
       "       Longitude  \n",
       "0        -122.23  \n",
       "1        -122.22  \n",
       "2        -122.24  \n",
       "3        -122.25  \n",
       "4        -122.25  \n",
       "...          ...  \n",
       "20635    -121.09  \n",
       "20636    -121.21  \n",
       "20637    -121.22  \n",
       "20638    -121.32  \n",
       "20639    -121.24  \n",
       "\n",
       "[20640 rows x 8 columns]"
      ],
      "text/html": [
       "<div>\n",
       "<style scoped>\n",
       "    .dataframe tbody tr th:only-of-type {\n",
       "        vertical-align: middle;\n",
       "    }\n",
       "\n",
       "    .dataframe tbody tr th {\n",
       "        vertical-align: top;\n",
       "    }\n",
       "\n",
       "    .dataframe thead th {\n",
       "        text-align: right;\n",
       "    }\n",
       "</style>\n",
       "<table border=\"1\" class=\"dataframe\">\n",
       "  <thead>\n",
       "    <tr style=\"text-align: right;\">\n",
       "      <th></th>\n",
       "      <th>MedInc</th>\n",
       "      <th>HouseAge</th>\n",
       "      <th>AveRooms</th>\n",
       "      <th>AveBedrms</th>\n",
       "      <th>Population</th>\n",
       "      <th>AveOccup</th>\n",
       "      <th>Latitude</th>\n",
       "      <th>Longitude</th>\n",
       "    </tr>\n",
       "  </thead>\n",
       "  <tbody>\n",
       "    <tr>\n",
       "      <th>0</th>\n",
       "      <td>8.3252</td>\n",
       "      <td>41.0</td>\n",
       "      <td>6.984127</td>\n",
       "      <td>1.023810</td>\n",
       "      <td>322.0</td>\n",
       "      <td>2.555556</td>\n",
       "      <td>37.88</td>\n",
       "      <td>-122.23</td>\n",
       "    </tr>\n",
       "    <tr>\n",
       "      <th>1</th>\n",
       "      <td>8.3014</td>\n",
       "      <td>21.0</td>\n",
       "      <td>6.238137</td>\n",
       "      <td>0.971880</td>\n",
       "      <td>2401.0</td>\n",
       "      <td>2.109842</td>\n",
       "      <td>37.86</td>\n",
       "      <td>-122.22</td>\n",
       "    </tr>\n",
       "    <tr>\n",
       "      <th>2</th>\n",
       "      <td>7.2574</td>\n",
       "      <td>52.0</td>\n",
       "      <td>8.288136</td>\n",
       "      <td>1.073446</td>\n",
       "      <td>496.0</td>\n",
       "      <td>2.802260</td>\n",
       "      <td>37.85</td>\n",
       "      <td>-122.24</td>\n",
       "    </tr>\n",
       "    <tr>\n",
       "      <th>3</th>\n",
       "      <td>5.6431</td>\n",
       "      <td>52.0</td>\n",
       "      <td>5.817352</td>\n",
       "      <td>1.073059</td>\n",
       "      <td>558.0</td>\n",
       "      <td>2.547945</td>\n",
       "      <td>37.85</td>\n",
       "      <td>-122.25</td>\n",
       "    </tr>\n",
       "    <tr>\n",
       "      <th>4</th>\n",
       "      <td>3.8462</td>\n",
       "      <td>52.0</td>\n",
       "      <td>6.281853</td>\n",
       "      <td>1.081081</td>\n",
       "      <td>565.0</td>\n",
       "      <td>2.181467</td>\n",
       "      <td>37.85</td>\n",
       "      <td>-122.25</td>\n",
       "    </tr>\n",
       "    <tr>\n",
       "      <th>...</th>\n",
       "      <td>...</td>\n",
       "      <td>...</td>\n",
       "      <td>...</td>\n",
       "      <td>...</td>\n",
       "      <td>...</td>\n",
       "      <td>...</td>\n",
       "      <td>...</td>\n",
       "      <td>...</td>\n",
       "    </tr>\n",
       "    <tr>\n",
       "      <th>20635</th>\n",
       "      <td>1.5603</td>\n",
       "      <td>25.0</td>\n",
       "      <td>5.045455</td>\n",
       "      <td>1.133333</td>\n",
       "      <td>845.0</td>\n",
       "      <td>2.560606</td>\n",
       "      <td>39.48</td>\n",
       "      <td>-121.09</td>\n",
       "    </tr>\n",
       "    <tr>\n",
       "      <th>20636</th>\n",
       "      <td>2.5568</td>\n",
       "      <td>18.0</td>\n",
       "      <td>6.114035</td>\n",
       "      <td>1.315789</td>\n",
       "      <td>356.0</td>\n",
       "      <td>3.122807</td>\n",
       "      <td>39.49</td>\n",
       "      <td>-121.21</td>\n",
       "    </tr>\n",
       "    <tr>\n",
       "      <th>20637</th>\n",
       "      <td>1.7000</td>\n",
       "      <td>17.0</td>\n",
       "      <td>5.205543</td>\n",
       "      <td>1.120092</td>\n",
       "      <td>1007.0</td>\n",
       "      <td>2.325635</td>\n",
       "      <td>39.43</td>\n",
       "      <td>-121.22</td>\n",
       "    </tr>\n",
       "    <tr>\n",
       "      <th>20638</th>\n",
       "      <td>1.8672</td>\n",
       "      <td>18.0</td>\n",
       "      <td>5.329513</td>\n",
       "      <td>1.171920</td>\n",
       "      <td>741.0</td>\n",
       "      <td>2.123209</td>\n",
       "      <td>39.43</td>\n",
       "      <td>-121.32</td>\n",
       "    </tr>\n",
       "    <tr>\n",
       "      <th>20639</th>\n",
       "      <td>2.3886</td>\n",
       "      <td>16.0</td>\n",
       "      <td>5.254717</td>\n",
       "      <td>1.162264</td>\n",
       "      <td>1387.0</td>\n",
       "      <td>2.616981</td>\n",
       "      <td>39.37</td>\n",
       "      <td>-121.24</td>\n",
       "    </tr>\n",
       "  </tbody>\n",
       "</table>\n",
       "<p>20640 rows × 8 columns</p>\n",
       "</div>"
      ]
     },
     "execution_count": 3,
     "metadata": {},
     "output_type": "execute_result"
    }
   ],
   "execution_count": 3
  },
  {
   "metadata": {
    "ExecuteTime": {
     "end_time": "2024-10-16T09:08:31.639173Z",
     "start_time": "2024-10-16T09:08:31.631911Z"
    }
   },
   "cell_type": "code",
   "source": [
    "housing_df['target'] = housing.target\n",
    "housing_df.head()"
   ],
   "id": "17c3fae66940c329",
   "outputs": [
    {
     "data": {
      "text/plain": [
       "   MedInc  HouseAge  AveRooms  AveBedrms  Population  AveOccup  Latitude  \\\n",
       "0  8.3252      41.0  6.984127   1.023810       322.0  2.555556     37.88   \n",
       "1  8.3014      21.0  6.238137   0.971880      2401.0  2.109842     37.86   \n",
       "2  7.2574      52.0  8.288136   1.073446       496.0  2.802260     37.85   \n",
       "3  5.6431      52.0  5.817352   1.073059       558.0  2.547945     37.85   \n",
       "4  3.8462      52.0  6.281853   1.081081       565.0  2.181467     37.85   \n",
       "\n",
       "   Longitude  target  \n",
       "0    -122.23   4.526  \n",
       "1    -122.22   3.585  \n",
       "2    -122.24   3.521  \n",
       "3    -122.25   3.413  \n",
       "4    -122.25   3.422  "
      ],
      "text/html": [
       "<div>\n",
       "<style scoped>\n",
       "    .dataframe tbody tr th:only-of-type {\n",
       "        vertical-align: middle;\n",
       "    }\n",
       "\n",
       "    .dataframe tbody tr th {\n",
       "        vertical-align: top;\n",
       "    }\n",
       "\n",
       "    .dataframe thead th {\n",
       "        text-align: right;\n",
       "    }\n",
       "</style>\n",
       "<table border=\"1\" class=\"dataframe\">\n",
       "  <thead>\n",
       "    <tr style=\"text-align: right;\">\n",
       "      <th></th>\n",
       "      <th>MedInc</th>\n",
       "      <th>HouseAge</th>\n",
       "      <th>AveRooms</th>\n",
       "      <th>AveBedrms</th>\n",
       "      <th>Population</th>\n",
       "      <th>AveOccup</th>\n",
       "      <th>Latitude</th>\n",
       "      <th>Longitude</th>\n",
       "      <th>target</th>\n",
       "    </tr>\n",
       "  </thead>\n",
       "  <tbody>\n",
       "    <tr>\n",
       "      <th>0</th>\n",
       "      <td>8.3252</td>\n",
       "      <td>41.0</td>\n",
       "      <td>6.984127</td>\n",
       "      <td>1.023810</td>\n",
       "      <td>322.0</td>\n",
       "      <td>2.555556</td>\n",
       "      <td>37.88</td>\n",
       "      <td>-122.23</td>\n",
       "      <td>4.526</td>\n",
       "    </tr>\n",
       "    <tr>\n",
       "      <th>1</th>\n",
       "      <td>8.3014</td>\n",
       "      <td>21.0</td>\n",
       "      <td>6.238137</td>\n",
       "      <td>0.971880</td>\n",
       "      <td>2401.0</td>\n",
       "      <td>2.109842</td>\n",
       "      <td>37.86</td>\n",
       "      <td>-122.22</td>\n",
       "      <td>3.585</td>\n",
       "    </tr>\n",
       "    <tr>\n",
       "      <th>2</th>\n",
       "      <td>7.2574</td>\n",
       "      <td>52.0</td>\n",
       "      <td>8.288136</td>\n",
       "      <td>1.073446</td>\n",
       "      <td>496.0</td>\n",
       "      <td>2.802260</td>\n",
       "      <td>37.85</td>\n",
       "      <td>-122.24</td>\n",
       "      <td>3.521</td>\n",
       "    </tr>\n",
       "    <tr>\n",
       "      <th>3</th>\n",
       "      <td>5.6431</td>\n",
       "      <td>52.0</td>\n",
       "      <td>5.817352</td>\n",
       "      <td>1.073059</td>\n",
       "      <td>558.0</td>\n",
       "      <td>2.547945</td>\n",
       "      <td>37.85</td>\n",
       "      <td>-122.25</td>\n",
       "      <td>3.413</td>\n",
       "    </tr>\n",
       "    <tr>\n",
       "      <th>4</th>\n",
       "      <td>3.8462</td>\n",
       "      <td>52.0</td>\n",
       "      <td>6.281853</td>\n",
       "      <td>1.081081</td>\n",
       "      <td>565.0</td>\n",
       "      <td>2.181467</td>\n",
       "      <td>37.85</td>\n",
       "      <td>-122.25</td>\n",
       "      <td>3.422</td>\n",
       "    </tr>\n",
       "  </tbody>\n",
       "</table>\n",
       "</div>"
      ]
     },
     "execution_count": 4,
     "metadata": {},
     "output_type": "execute_result"
    }
   ],
   "execution_count": 4
  },
  {
   "metadata": {},
   "cell_type": "markdown",
   "source": [
    "What if Ridge wasn't working?\n",
    "\n",
    "We could always try another model, \n",
    "    \n",
    "How about to try ensemble model (an ensemble model is a model made up of many models)"
   ],
   "id": "8e97643ce9dc83e0"
  },
  {
   "metadata": {
    "ExecuteTime": {
     "end_time": "2024-10-16T09:09:22.891958Z",
     "start_time": "2024-10-16T09:09:16.761905Z"
    }
   },
   "cell_type": "code",
   "source": [
    "# Let's try the Random Forest Regressor\n",
    "import numpy as np\n",
    "from sklearn.model_selection import train_test_split\n",
    "from sklearn.ensemble import RandomForestRegressor\n",
    "\n",
    "# Setup random seed\n",
    "np.random.seed(42)\n",
    "\n",
    "# Create the data\n",
    "X = housing_df.drop(\"target\", axis=1)\n",
    "y = housing_df[\"target\"]\n",
    "\n",
    "# split into training and test\n",
    "X_train, X_test, y_train, y_test = train_test_split(X, y, test_size=0.2)\n",
    "\n",
    "# Instantiate Random Forest Regressor\n",
    "rf = RandomForestRegressor()\n",
    "rf.fit(X_train, y_train)\n",
    "\n",
    "# Check the score of the Random Forest Regressor model on test data\n",
    "rf.score(X_test, y_test)"
   ],
   "id": "f6f0985116d568cf",
   "outputs": [
    {
     "data": {
      "text/plain": [
       "0.8059809073051385"
      ]
     },
     "execution_count": 5,
     "metadata": {},
     "output_type": "execute_result"
    }
   ],
   "execution_count": 5
  },
  {
   "metadata": {
    "ExecuteTime": {
     "end_time": "2024-10-16T09:21:49.130033Z",
     "start_time": "2024-10-16T09:21:49.091653Z"
    }
   },
   "cell_type": "code",
   "source": [
    "# let's predict the first 10 rows of the test data\n",
    "rf.predict(X_test[:10])"
   ],
   "id": "d18da58bda7d276c",
   "outputs": [
    {
     "data": {
      "text/plain": [
       "array([0.49058  , 0.75989  , 4.9350165, 2.55864  , 2.33461  , 1.6580801,\n",
       "       2.34237  , 1.66708  , 2.5609601, 4.8519781])"
      ]
     },
     "execution_count": 12,
     "metadata": {},
     "output_type": "execute_result"
    }
   ],
   "execution_count": 12
  },
  {
   "metadata": {
    "ExecuteTime": {
     "end_time": "2024-10-16T09:22:17.957501Z",
     "start_time": "2024-10-16T09:22:17.952685Z"
    }
   },
   "cell_type": "code",
   "source": [
    "# Compare the predictions to the actual values\n",
    "np.array(y_test[:10])"
   ],
   "id": "a1ac99ad12df2f0b",
   "outputs": [
    {
     "data": {
      "text/plain": [
       "array([0.477  , 0.458  , 5.00001, 2.186  , 2.78   , 1.587  , 1.982  ,\n",
       "       1.575  , 3.4    , 4.466  ])"
      ]
     },
     "execution_count": 13,
     "metadata": {},
     "output_type": "execute_result"
    }
   ],
   "execution_count": 13
  },
  {
   "metadata": {},
   "cell_type": "markdown",
   "source": "# Let's try to do the sa,e with OpenAI",
   "id": "7e94016377dcccac"
  },
  {
   "metadata": {},
   "cell_type": "markdown",
   "source": [
    "let's prepare a dataset for OpenAI model to train\n",
    "\n",
    "We will use the same dataset as above, but we will split it into training and test datasets"
   ],
   "id": "f2e5bce3462fd14c"
  },
  {
   "metadata": {
    "ExecuteTime": {
     "end_time": "2024-10-16T10:29:14.924899Z",
     "start_time": "2024-10-16T10:29:14.921385Z"
    }
   },
   "cell_type": "code",
   "source": [
    "# get first 1000 rows for training\n",
    "housing_df_train = housing_df[:1000].copy()\n",
    "\n",
    "# get the 20 of the rest for testing\n",
    "housing_df_test = housing_df[1000:1020].copy()"
   ],
   "id": "7b3e1a63d621a1fe",
   "outputs": [],
   "execution_count": 74
  },
  {
   "metadata": {
    "ExecuteTime": {
     "end_time": "2024-10-16T10:29:16.182250Z",
     "start_time": "2024-10-16T10:29:16.172245Z"
    }
   },
   "cell_type": "code",
   "source": [
    "# save the training dataset to csv file\n",
    "housing_df_train.to_csv('data/regression/housing_train.csv', index=False)\n",
    "\n",
    "# remove the target column from the test dataset\n",
    "targets = housing_df_test['target']\n",
    "\n",
    "# fill the target column with zeros\n",
    "housing_df_test[\"target\"] = 0\n",
    "\n",
    "# save the test dataset to csv file\n",
    "housing_df_test.to_csv('data/regression/housing_test.csv', index=False)"
   ],
   "id": "e006cd4bdf543d0d",
   "outputs": [],
   "execution_count": 75
  },
  {
   "metadata": {
    "ExecuteTime": {
     "end_time": "2024-10-16T10:19:22.699545Z",
     "start_time": "2024-10-16T10:19:22.697888Z"
    }
   },
   "cell_type": "code",
   "source": [
    "# check the data\n",
    "# housing_df_train.head()\n",
    "# housing_df_test"
   ],
   "id": "e259e32a6bef38f1",
   "outputs": [],
   "execution_count": 56
  },
  {
   "metadata": {
    "ExecuteTime": {
     "end_time": "2024-10-16T09:54:25.119582Z",
     "start_time": "2024-10-16T09:54:24.826283Z"
    }
   },
   "cell_type": "code",
   "source": [
    "# Load OpenAI\n",
    "import dotenv\n",
    "from openai import OpenAI\n",
    "\n",
    "dotenv.load_dotenv()\n",
    "\n",
    "client = OpenAI()"
   ],
   "id": "56cb4f8187b91fec",
   "outputs": [],
   "execution_count": 18
  },
  {
   "metadata": {
    "ExecuteTime": {
     "end_time": "2024-10-16T09:55:53.876657Z",
     "start_time": "2024-10-16T09:55:52.671264Z"
    }
   },
   "cell_type": "code",
   "source": [
    "# upload the file to OpenAI\n",
    "file = client.files.create(file=open(\"data/regression/housing_train.csv\", \"rb\"), purpose=\"assistants\")"
   ],
   "id": "a2e136fb8771c309",
   "outputs": [],
   "execution_count": 20
  },
  {
   "metadata": {
    "ExecuteTime": {
     "end_time": "2024-10-16T10:26:48.270647Z",
     "start_time": "2024-10-16T10:26:47.014947Z"
    }
   },
   "cell_type": "code",
   "source": [
    "# create an assistant\n",
    "assistant = client.beta.assistants.create(\n",
    "  instructions=\"You are a linear regression tool. \"\n",
    "               \"You have a training dataset file with the California housing dataset. It contains 1000 rows and 9 columns. \"\n",
    "               \"The columns are: MedInc, HouseAge, AveRooms, AveBedrms, Population, AveOccup, Latitude, Longitude, target. \"\n",
    "                \"The target column is the target variable. \"\n",
    "                \"Your task is to analyze the data and provide the best possible linear regression model to predict the target variable for the file, provided by user in the next message. \"\n",
    "               \"Tou have to return the json object with the same structure as the input file, but with the target column filled with the predictions instead of zeros\"\n",
    "               \"Please respond only in json_object format. Do not add any additional information above or below.\",\n",
    "  model=\"gpt-4o-mini\",\n",
    "  tools=[{\"type\": \"code_interpreter\"}],\n",
    "  tool_resources={\n",
    "    \"code_interpreter\": {\n",
    "      \"file_ids\": [file.id]\n",
    "    }\n",
    "  }\n",
    ")"
   ],
   "id": "783004002cd1e939",
   "outputs": [],
   "execution_count": 68
  },
  {
   "metadata": {
    "ExecuteTime": {
     "end_time": "2024-10-16T10:21:41.147048Z",
     "start_time": "2024-10-16T10:21:40.269380Z"
    }
   },
   "cell_type": "code",
   "source": [
    "# upload the test file to OpenAI\n",
    "file_test = client.files.create(file=open(\"data/regression/housing_test.csv\", \"rb\"), purpose=\"assistants\")"
   ],
   "id": "18c8a1da18139be8",
   "outputs": [],
   "execution_count": 63
  },
  {
   "metadata": {
    "ExecuteTime": {
     "end_time": "2024-10-16T10:26:52.069587Z",
     "start_time": "2024-10-16T10:26:51.104919Z"
    }
   },
   "cell_type": "code",
   "source": [
    "thread = client.beta.threads.create(\n",
    "  messages=[\n",
    "    {\n",
    "      \"role\": \"user\",\n",
    "      \"content\": \"Read the provided CSV file with California housing data without a terget column. Make a target column prediction based on the training dataset\",\n",
    "      \"attachments\": [\n",
    "        {\n",
    "          \"file_id\": file_test.id,\n",
    "          \"tools\": [{\"type\": \"code_interpreter\"}]\n",
    "        }\n",
    "      ],\n",
    "    }\n",
    "  ]\n",
    ")"
   ],
   "id": "181dc91cd5aa9e32",
   "outputs": [],
   "execution_count": 69
  },
  {
   "metadata": {
    "ExecuteTime": {
     "end_time": "2024-10-16T10:28:06.140288Z",
     "start_time": "2024-10-16T10:26:53.010216Z"
    }
   },
   "cell_type": "code",
   "source": [
    "run = client.beta.threads.runs.create_and_poll(\n",
    "    thread_id=thread.id, \n",
    "    assistant_id=assistant.id,\n",
    ")\n",
    "\n",
    "messages = list(client.beta.threads.messages.list(thread_id=thread.id, run_id=run.id))"
   ],
   "id": "61c7d0cd9a88e800",
   "outputs": [],
   "execution_count": 70
  },
  {
   "metadata": {
    "ExecuteTime": {
     "end_time": "2024-10-16T10:28:08.745786Z",
     "start_time": "2024-10-16T10:28:08.743569Z"
    }
   },
   "cell_type": "code",
   "source": "messages[0].content[0].text.value",
   "id": "def17e875c32e94",
   "outputs": [
    {
     "data": {
      "text/plain": [
       "'[{\"MedInc\":3.3841,\"HouseAge\":29.0,\"AveRooms\":4.8420310296,\"AveBedrms\":1.0028208745,\"Population\":1919.0,\"AveOccup\":2.706629055,\"Latitude\":37.69,\"Longitude\":-121.76,\"target\":2.1294933233},{\"MedInc\":3.5532,\"HouseAge\":36.0,\"AveRooms\":4.5349462366,\"AveBedrms\":1.0,\"Population\":950.0,\"AveOccup\":2.5537634409,\"Latitude\":37.68,\"Longitude\":-121.77,\"target\":2.103695646},{\"MedInc\":3.3618,\"HouseAge\":34.0,\"AveRooms\":5.114967462,\"AveBedrms\":1.0802603037,\"Population\":1157.0,\"AveOccup\":2.5097613883,\"Latitude\":37.69,\"Longitude\":-121.78,\"target\":2.063115922},{\"MedInc\":4.3533,\"HouseAge\":35.0,\"AveRooms\":4.9877622378,\"AveBedrms\":1.027972028,\"Population\":1761.0,\"AveOccup\":3.0786713287,\"Latitude\":37.69,\"Longitude\":-121.78,\"target\":2.4223743787},{\"MedInc\":4.5357,\"HouseAge\":25.0,\"AveRooms\":6.0133715377,\"AveBedrms\":1.0334288443,\"Population\":3200.0,\"AveOccup\":3.0563514804,\"Latitude\":37.69,\"Longitude\":-121.79,\"target\":2.6087812997},{\"MedInc\":5.7068,\"HouseAge\":9.0,\"AveRooms\":5.8615611193,\"AveBedrms\":1.0839469809,\"Population\":1705.0,\"AveOccup\":2.5110456554,\"Latitude\":37.7,\"Longitude\":-121.76,\"target\":3.0317640844},{\"MedInc\":3.7212,\"HouseAge\":26.0,\"AveRooms\":5.0708812261,\"AveBedrms\":1.0268199234,\"Population\":1422.0,\"AveOccup\":2.724137931,\"Latitude\":37.69,\"Longitude\":-121.75,\"target\":2.2129483562},{\"MedInc\":5.2443,\"HouseAge\":35.0,\"AveRooms\":6.6730038023,\"AveBedrms\":1.1368821293,\"Population\":702.0,\"AveOccup\":2.6692015209,\"Latitude\":37.68,\"Longitude\":-121.75,\"target\":2.7037047523},{\"MedInc\":4.2361,\"HouseAge\":35.0,\"AveRooms\":5.340974212,\"AveBedrms\":1.0229226361,\"Population\":1189.0,\"AveOccup\":3.4068767908,\"Latitude\":37.68,\"Longitude\":-121.76,\"target\":2.2657313518},{\"MedInc\":3.1856,\"HouseAge\":32.0,\"AveRooms\":5.4720812183,\"AveBedrms\":1.0507614213,\"Population\":555.0,\"AveOccup\":2.8172588832,\"Latitude\":37.68,\"Longitude\":-121.76,\"target\":1.8837323336},{\"MedInc\":5.4496,\"HouseAge\":17.0,\"AveRooms\":6.1809899787,\"AveBedrms\":1.0607348922,\"Population\":8768.0,\"AveOccup\":2.6626176739,\"Latitude\":37.68,\"Longitude\":-121.73,\"target\":3.541059233},{\"MedInc\":3.0222,\"HouseAge\":17.0,\"AveRooms\":4.5764705882,\"AveBedrms\":1.2823529412,\"Population\":1392.0,\"AveOccup\":2.0470588235,\"Latitude\":37.68,\"Longitude\":-121.78,\"target\":1.9896380601},{\"MedInc\":2.6667,\"HouseAge\":44.0,\"AveRooms\":4.5412844037,\"AveBedrms\":1.0275229358,\"Population\":277.0,\"AveOccup\":2.5412844037,\"Latitude\":37.68,\"Longitude\":-121.77,\"target\":1.7053532834},{\"MedInc\":3.7301,\"HouseAge\":52.0,\"AveRooms\":5.1479713604,\"AveBedrms\":0.9976133652,\"Population\":929.0,\"AveOccup\":2.2171837709,\"Latitude\":37.68,\"Longitude\":-121.76,\"target\":2.2251972238},{\"MedInc\":4.6806,\"HouseAge\":41.0,\"AveRooms\":5.2118055556,\"AveBedrms\":1.0381944444,\"Population\":629.0,\"AveOccup\":2.1840277778,\"Latitude\":37.68,\"Longitude\":-121.77,\"target\":2.5544119146},{\"MedInc\":5.7907,\"HouseAge\":20.0,\"AveRooms\":6.4082605242,\"AveBedrms\":0.9666401906,\"Population\":3489.0,\"AveOccup\":2.7712470214,\"Latitude\":37.67,\"Longitude\":-121.77,\"target\":3.1225371793},{\"MedInc\":6.3705,\"HouseAge\":6.0,\"AveRooms\":6.4594017094,\"AveBedrms\":1.1068376068,\"Population\":1225.0,\"AveOccup\":2.6175213675,\"Latitude\":37.67,\"Longitude\":-121.76,\"target\":3.1536421104},{\"MedInc\":5.2649,\"HouseAge\":26.0,\"AveRooms\":6.8878504673,\"AveBedrms\":1.0716510903,\"Population\":1024.0,\"AveOccup\":3.1900311526,\"Latitude\":37.67,\"Longitude\":-121.78,\"target\":2.6224742618},{\"MedInc\":6.0797,\"HouseAge\":26.0,\"AveRooms\":6.2514450867,\"AveBedrms\":0.9797687861,\"Population\":947.0,\"AveOccup\":2.7369942197,\"Latitude\":37.67,\"Longitude\":-121.79,\"target\":2.9940670871},{\"MedInc\":4.8571,\"HouseAge\":28.0,\"AveRooms\":6.5910780669,\"AveBedrms\":1.0334572491,\"Population\":804.0,\"AveOccup\":2.9888475836,\"Latitude\":37.67,\"Longitude\":-121.78,\"target\":2.4784510802}]'"
      ]
     },
     "execution_count": 71,
     "metadata": {},
     "output_type": "execute_result"
    }
   ],
   "execution_count": 71
  },
  {
   "metadata": {
    "ExecuteTime": {
     "end_time": "2024-10-16T10:28:11.385305Z",
     "start_time": "2024-10-16T10:28:11.380673Z"
    }
   },
   "cell_type": "code",
   "source": [
    "import json\n",
    "\n",
    "response = messages[0].content[0].text.value\n",
    "response = response.replace(\"```json\\n\", \"\").replace(\"```\", \"\")\n",
    "\n",
    "# Parse the response\n",
    "try:\n",
    "    predictions = json.loads(response)\n",
    "except json.JSONDecodeError:\n",
    "    clusters = {}\n",
    "    print(\"Failed to parse JSON response.\")\n",
    "\n",
    "\n",
    "predictions"
   ],
   "id": "d76d91d5d7bcc3fb",
   "outputs": [
    {
     "data": {
      "text/plain": [
       "[{'MedInc': 3.3841,\n",
       "  'HouseAge': 29.0,\n",
       "  'AveRooms': 4.8420310296,\n",
       "  'AveBedrms': 1.0028208745,\n",
       "  'Population': 1919.0,\n",
       "  'AveOccup': 2.706629055,\n",
       "  'Latitude': 37.69,\n",
       "  'Longitude': -121.76,\n",
       "  'target': 2.1294933233},\n",
       " {'MedInc': 3.5532,\n",
       "  'HouseAge': 36.0,\n",
       "  'AveRooms': 4.5349462366,\n",
       "  'AveBedrms': 1.0,\n",
       "  'Population': 950.0,\n",
       "  'AveOccup': 2.5537634409,\n",
       "  'Latitude': 37.68,\n",
       "  'Longitude': -121.77,\n",
       "  'target': 2.103695646},\n",
       " {'MedInc': 3.3618,\n",
       "  'HouseAge': 34.0,\n",
       "  'AveRooms': 5.114967462,\n",
       "  'AveBedrms': 1.0802603037,\n",
       "  'Population': 1157.0,\n",
       "  'AveOccup': 2.5097613883,\n",
       "  'Latitude': 37.69,\n",
       "  'Longitude': -121.78,\n",
       "  'target': 2.063115922},\n",
       " {'MedInc': 4.3533,\n",
       "  'HouseAge': 35.0,\n",
       "  'AveRooms': 4.9877622378,\n",
       "  'AveBedrms': 1.027972028,\n",
       "  'Population': 1761.0,\n",
       "  'AveOccup': 3.0786713287,\n",
       "  'Latitude': 37.69,\n",
       "  'Longitude': -121.78,\n",
       "  'target': 2.4223743787},\n",
       " {'MedInc': 4.5357,\n",
       "  'HouseAge': 25.0,\n",
       "  'AveRooms': 6.0133715377,\n",
       "  'AveBedrms': 1.0334288443,\n",
       "  'Population': 3200.0,\n",
       "  'AveOccup': 3.0563514804,\n",
       "  'Latitude': 37.69,\n",
       "  'Longitude': -121.79,\n",
       "  'target': 2.6087812997},\n",
       " {'MedInc': 5.7068,\n",
       "  'HouseAge': 9.0,\n",
       "  'AveRooms': 5.8615611193,\n",
       "  'AveBedrms': 1.0839469809,\n",
       "  'Population': 1705.0,\n",
       "  'AveOccup': 2.5110456554,\n",
       "  'Latitude': 37.7,\n",
       "  'Longitude': -121.76,\n",
       "  'target': 3.0317640844},\n",
       " {'MedInc': 3.7212,\n",
       "  'HouseAge': 26.0,\n",
       "  'AveRooms': 5.0708812261,\n",
       "  'AveBedrms': 1.0268199234,\n",
       "  'Population': 1422.0,\n",
       "  'AveOccup': 2.724137931,\n",
       "  'Latitude': 37.69,\n",
       "  'Longitude': -121.75,\n",
       "  'target': 2.2129483562},\n",
       " {'MedInc': 5.2443,\n",
       "  'HouseAge': 35.0,\n",
       "  'AveRooms': 6.6730038023,\n",
       "  'AveBedrms': 1.1368821293,\n",
       "  'Population': 702.0,\n",
       "  'AveOccup': 2.6692015209,\n",
       "  'Latitude': 37.68,\n",
       "  'Longitude': -121.75,\n",
       "  'target': 2.7037047523},\n",
       " {'MedInc': 4.2361,\n",
       "  'HouseAge': 35.0,\n",
       "  'AveRooms': 5.340974212,\n",
       "  'AveBedrms': 1.0229226361,\n",
       "  'Population': 1189.0,\n",
       "  'AveOccup': 3.4068767908,\n",
       "  'Latitude': 37.68,\n",
       "  'Longitude': -121.76,\n",
       "  'target': 2.2657313518},\n",
       " {'MedInc': 3.1856,\n",
       "  'HouseAge': 32.0,\n",
       "  'AveRooms': 5.4720812183,\n",
       "  'AveBedrms': 1.0507614213,\n",
       "  'Population': 555.0,\n",
       "  'AveOccup': 2.8172588832,\n",
       "  'Latitude': 37.68,\n",
       "  'Longitude': -121.76,\n",
       "  'target': 1.8837323336},\n",
       " {'MedInc': 5.4496,\n",
       "  'HouseAge': 17.0,\n",
       "  'AveRooms': 6.1809899787,\n",
       "  'AveBedrms': 1.0607348922,\n",
       "  'Population': 8768.0,\n",
       "  'AveOccup': 2.6626176739,\n",
       "  'Latitude': 37.68,\n",
       "  'Longitude': -121.73,\n",
       "  'target': 3.541059233},\n",
       " {'MedInc': 3.0222,\n",
       "  'HouseAge': 17.0,\n",
       "  'AveRooms': 4.5764705882,\n",
       "  'AveBedrms': 1.2823529412,\n",
       "  'Population': 1392.0,\n",
       "  'AveOccup': 2.0470588235,\n",
       "  'Latitude': 37.68,\n",
       "  'Longitude': -121.78,\n",
       "  'target': 1.9896380601},\n",
       " {'MedInc': 2.6667,\n",
       "  'HouseAge': 44.0,\n",
       "  'AveRooms': 4.5412844037,\n",
       "  'AveBedrms': 1.0275229358,\n",
       "  'Population': 277.0,\n",
       "  'AveOccup': 2.5412844037,\n",
       "  'Latitude': 37.68,\n",
       "  'Longitude': -121.77,\n",
       "  'target': 1.7053532834},\n",
       " {'MedInc': 3.7301,\n",
       "  'HouseAge': 52.0,\n",
       "  'AveRooms': 5.1479713604,\n",
       "  'AveBedrms': 0.9976133652,\n",
       "  'Population': 929.0,\n",
       "  'AveOccup': 2.2171837709,\n",
       "  'Latitude': 37.68,\n",
       "  'Longitude': -121.76,\n",
       "  'target': 2.2251972238},\n",
       " {'MedInc': 4.6806,\n",
       "  'HouseAge': 41.0,\n",
       "  'AveRooms': 5.2118055556,\n",
       "  'AveBedrms': 1.0381944444,\n",
       "  'Population': 629.0,\n",
       "  'AveOccup': 2.1840277778,\n",
       "  'Latitude': 37.68,\n",
       "  'Longitude': -121.77,\n",
       "  'target': 2.5544119146},\n",
       " {'MedInc': 5.7907,\n",
       "  'HouseAge': 20.0,\n",
       "  'AveRooms': 6.4082605242,\n",
       "  'AveBedrms': 0.9666401906,\n",
       "  'Population': 3489.0,\n",
       "  'AveOccup': 2.7712470214,\n",
       "  'Latitude': 37.67,\n",
       "  'Longitude': -121.77,\n",
       "  'target': 3.1225371793},\n",
       " {'MedInc': 6.3705,\n",
       "  'HouseAge': 6.0,\n",
       "  'AveRooms': 6.4594017094,\n",
       "  'AveBedrms': 1.1068376068,\n",
       "  'Population': 1225.0,\n",
       "  'AveOccup': 2.6175213675,\n",
       "  'Latitude': 37.67,\n",
       "  'Longitude': -121.76,\n",
       "  'target': 3.1536421104},\n",
       " {'MedInc': 5.2649,\n",
       "  'HouseAge': 26.0,\n",
       "  'AveRooms': 6.8878504673,\n",
       "  'AveBedrms': 1.0716510903,\n",
       "  'Population': 1024.0,\n",
       "  'AveOccup': 3.1900311526,\n",
       "  'Latitude': 37.67,\n",
       "  'Longitude': -121.78,\n",
       "  'target': 2.6224742618},\n",
       " {'MedInc': 6.0797,\n",
       "  'HouseAge': 26.0,\n",
       "  'AveRooms': 6.2514450867,\n",
       "  'AveBedrms': 0.9797687861,\n",
       "  'Population': 947.0,\n",
       "  'AveOccup': 2.7369942197,\n",
       "  'Latitude': 37.67,\n",
       "  'Longitude': -121.79,\n",
       "  'target': 2.9940670871},\n",
       " {'MedInc': 4.8571,\n",
       "  'HouseAge': 28.0,\n",
       "  'AveRooms': 6.5910780669,\n",
       "  'AveBedrms': 1.0334572491,\n",
       "  'Population': 804.0,\n",
       "  'AveOccup': 2.9888475836,\n",
       "  'Latitude': 37.67,\n",
       "  'Longitude': -121.78,\n",
       "  'target': 2.4784510802}]"
      ]
     },
     "execution_count": 72,
     "metadata": {},
     "output_type": "execute_result"
    }
   ],
   "execution_count": 72
  },
  {
   "metadata": {
    "ExecuteTime": {
     "end_time": "2024-10-16T10:31:18.607527Z",
     "start_time": "2024-10-16T10:31:18.604862Z"
    }
   },
   "cell_type": "code",
   "source": [
    "# output the predictions target column\n",
    "predicted_targets = [row['target'] for row in predictions]\n",
    "predicted_targets"
   ],
   "id": "b389b93e53179954",
   "outputs": [
    {
     "data": {
      "text/plain": [
       "[2.1294933233,\n",
       " 2.103695646,\n",
       " 2.063115922,\n",
       " 2.4223743787,\n",
       " 2.6087812997,\n",
       " 3.0317640844,\n",
       " 2.2129483562,\n",
       " 2.7037047523,\n",
       " 2.2657313518,\n",
       " 1.8837323336,\n",
       " 3.541059233,\n",
       " 1.9896380601,\n",
       " 1.7053532834,\n",
       " 2.2251972238,\n",
       " 2.5544119146,\n",
       " 3.1225371793,\n",
       " 3.1536421104,\n",
       " 2.6224742618,\n",
       " 2.9940670871,\n",
       " 2.4784510802]"
      ]
     },
     "execution_count": 79,
     "metadata": {},
     "output_type": "execute_result"
    }
   ],
   "execution_count": 79
  },
  {
   "metadata": {
    "ExecuteTime": {
     "end_time": "2024-10-16T10:29:23.648809Z",
     "start_time": "2024-10-16T10:29:23.644308Z"
    }
   },
   "cell_type": "code",
   "source": "targets",
   "id": "afd301e50d5b0872",
   "outputs": [
    {
     "data": {
      "text/plain": [
       "1000    1.844\n",
       "1001    1.584\n",
       "1002    1.746\n",
       "1003    1.684\n",
       "1004    1.884\n",
       "1005    2.567\n",
       "1006    1.838\n",
       "1007    1.834\n",
       "1008    1.775\n",
       "1009    1.869\n",
       "1010    2.389\n",
       "1011    1.725\n",
       "1012    1.792\n",
       "1013    2.044\n",
       "1014    2.094\n",
       "1015    2.642\n",
       "1016    3.500\n",
       "1017    1.998\n",
       "1018    2.110\n",
       "1019    2.011\n",
       "Name: target, dtype: float64"
      ]
     },
     "execution_count": 76,
     "metadata": {},
     "output_type": "execute_result"
    }
   ],
   "execution_count": 76
  },
  {
   "metadata": {},
   "cell_type": "markdown",
   "source": [
    "## Summary\n",
    "\n",
    "This is not a perfect solution to use OpenAI for regression tasks"
   ],
   "id": "fbac93705cf360b4"
  },
  {
   "metadata": {},
   "cell_type": "code",
   "outputs": [],
   "execution_count": null,
   "source": "",
   "id": "f8e21f9ca7ce7662"
  }
 ],
 "metadata": {
  "kernelspec": {
   "display_name": "Python 3",
   "language": "python",
   "name": "python3"
  },
  "language_info": {
   "codemirror_mode": {
    "name": "ipython",
    "version": 2
   },
   "file_extension": ".py",
   "mimetype": "text/x-python",
   "name": "python",
   "nbconvert_exporter": "python",
   "pygments_lexer": "ipython2",
   "version": "2.7.6"
  }
 },
 "nbformat": 4,
 "nbformat_minor": 5
}
