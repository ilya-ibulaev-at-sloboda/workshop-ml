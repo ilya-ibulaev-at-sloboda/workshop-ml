{
 "cells": [
  {
   "metadata": {},
   "cell_type": "markdown",
   "source": "# Completion API",
   "id": "a365321f0d4da858"
  },
  {
   "cell_type": "code",
   "id": "initial_id",
   "metadata": {
    "collapsed": true,
    "ExecuteTime": {
     "end_time": "2024-10-17T13:48:26.152973Z",
     "start_time": "2024-10-17T13:48:26.146069Z"
    }
   },
   "source": [
    "import dotenv\n",
    "from openai import OpenAI\n",
    "from decimal import Decimal"
   ],
   "outputs": [],
   "execution_count": 2
  },
  {
   "metadata": {
    "ExecuteTime": {
     "end_time": "2024-10-17T13:48:27.421771Z",
     "start_time": "2024-10-17T13:48:27.418068Z"
    }
   },
   "cell_type": "code",
   "source": [
    "dotenv.load_dotenv(\".env\")\n",
    "\n",
    "GPT_MODEL = \"gpt-4o-mini\""
   ],
   "id": "6ee9ed41c33fc320",
   "outputs": [],
   "execution_count": 3
  },
  {
   "metadata": {
    "ExecuteTime": {
     "end_time": "2024-10-17T13:48:29.092948Z",
     "start_time": "2024-10-17T13:48:29.060271Z"
    }
   },
   "cell_type": "code",
   "source": "client = OpenAI()",
   "id": "1de4f884b3773093",
   "outputs": [],
   "execution_count": 4
  },
  {
   "metadata": {},
   "cell_type": "markdown",
   "source": "We are just defining a system role and adding a question.",
   "id": "f67ce7317772a927"
  },
  {
   "metadata": {
    "ExecuteTime": {
     "end_time": "2024-10-17T13:48:33.086881Z",
     "start_time": "2024-10-17T13:48:33.084360Z"
    }
   },
   "cell_type": "code",
   "source": [
    "system_role = \"You are a helpful assistant in a mystery sphere.\"\n",
    "question = \"What do you think about UFOs?\""
   ],
   "id": "164dbd6c71629766",
   "outputs": [],
   "execution_count": 5
  },
  {
   "metadata": {},
   "cell_type": "markdown",
   "source": "Every request have to contain all the context of the conversation. In this case, we have to include the system role and the question.",
   "id": "6e84aa1e49b06dd2"
  },
  {
   "metadata": {
    "ExecuteTime": {
     "end_time": "2024-10-17T13:48:48.311666Z",
     "start_time": "2024-10-17T13:48:44.717036Z"
    }
   },
   "cell_type": "code",
   "source": [
    "response = client.chat.completions.create(\n",
    "    messages=[\n",
    "        {'role': 'system', 'content': system_role},\n",
    "        {'role': 'user', 'content': question},\n",
    "    ],\n",
    "    model=GPT_MODEL,\n",
    "    # temperature=0.2,\n",
    "    # max_tokens=40,\n",
    ")"
   ],
   "id": "9541f2cc4cd0f0b1",
   "outputs": [],
   "execution_count": 6
  },
  {
   "metadata": {
    "ExecuteTime": {
     "end_time": "2024-10-17T13:50:08.951383Z",
     "start_time": "2024-10-17T13:50:08.948450Z"
    }
   },
   "cell_type": "code",
   "source": [
    "# Whole response\n",
    "print(response)"
   ],
   "id": "78568f481905c5be",
   "outputs": [
    {
     "name": "stdout",
     "output_type": "stream",
     "text": [
      "ChatCompletion(id='chatcmpl-AJL9phpqlkHdIoIdjO1Ciw2OKOL1C', choices=[Choice(finish_reason='stop', index=0, logprobs=None, message=ChatCompletionMessage(content='UFOs, or Unidentified Flying Objects, often spark intrigue and speculation regarding extraterrestrial life and advanced technology. While many sightings can be attributed to natural phenomena, misidentified aircraft, or man-made objects, some remain unexplained. The recent disclosure of military reports on UFO encounters has reignited public interest and discussion about what these sightings could mean.\\n\\nIn a mystery context, UFOs can symbolize the unknown and the human desire to explore and understand the universe. They also raise questions about the implications of potential extraterrestrial life and our place in the cosmos. Ultimately, the fascination with UFOs combines elements of science, mythology, and the human spirit of curiosity. What are your thoughts on the subject?', refusal=None, role='assistant', function_call=None, tool_calls=None))], created=1729172925, model='gpt-4o-mini-2024-07-18', object='chat.completion', service_tier=None, system_fingerprint='fp_e2bde53e6e', usage=CompletionUsage(completion_tokens=140, prompt_tokens=29, total_tokens=169, completion_tokens_details=CompletionTokensDetails(audio_tokens=None, reasoning_tokens=0), prompt_tokens_details=PromptTokensDetails(audio_tokens=None, cached_tokens=0)))\n"
     ]
    }
   ],
   "execution_count": 7
  },
  {
   "metadata": {
    "ExecuteTime": {
     "end_time": "2024-10-17T13:50:25.203203Z",
     "start_time": "2024-10-17T13:50:25.200243Z"
    }
   },
   "cell_type": "code",
   "source": [
    "# The text of the response\n",
    "print(response.choices[0].message.content)"
   ],
   "id": "d7d501977961a9ab",
   "outputs": [
    {
     "name": "stdout",
     "output_type": "stream",
     "text": [
      "UFOs, or Unidentified Flying Objects, often spark intrigue and speculation regarding extraterrestrial life and advanced technology. While many sightings can be attributed to natural phenomena, misidentified aircraft, or man-made objects, some remain unexplained. The recent disclosure of military reports on UFO encounters has reignited public interest and discussion about what these sightings could mean.\n",
      "\n",
      "In a mystery context, UFOs can symbolize the unknown and the human desire to explore and understand the universe. They also raise questions about the implications of potential extraterrestrial life and our place in the cosmos. Ultimately, the fascination with UFOs combines elements of science, mythology, and the human spirit of curiosity. What are your thoughts on the subject?\n"
     ]
    }
   ],
   "execution_count": 9
  },
  {
   "metadata": {},
   "cell_type": "markdown",
   "source": "### Let's check the usage of the API",
   "id": "fbdd25d40df9b6e0"
  },
  {
   "metadata": {
    "ExecuteTime": {
     "end_time": "2024-10-17T13:50:39.412106Z",
     "start_time": "2024-10-17T13:50:39.409974Z"
    }
   },
   "cell_type": "code",
   "source": "print(response.usage)",
   "id": "81e09e3424e90039",
   "outputs": [
    {
     "name": "stdout",
     "output_type": "stream",
     "text": [
      "CompletionUsage(completion_tokens=140, prompt_tokens=29, total_tokens=169, completion_tokens_details=CompletionTokensDetails(audio_tokens=None, reasoning_tokens=0), prompt_tokens_details=PromptTokensDetails(audio_tokens=None, cached_tokens=0))\n"
     ]
    }
   ],
   "execution_count": 10
  },
  {
   "metadata": {
    "ExecuteTime": {
     "end_time": "2024-10-17T13:53:07.653679Z",
     "start_time": "2024-10-17T13:53:07.650379Z"
    }
   },
   "cell_type": "code",
   "source": [
    "pricing = {\"input\": 0.6 / 1000000, \"output\": 0.3 / 1000000}\n",
    "usage = f\"Cost: ${Decimal(response.usage.prompt_tokens * pricing['input']) + Decimal(response.usage.completion_tokens * pricing['output']):.6f}\"\n",
    "usage"
   ],
   "id": "747fe93379b5e5ae",
   "outputs": [
    {
     "data": {
      "text/plain": [
       "'Cost: $0.000059'"
      ]
     },
     "execution_count": 14,
     "metadata": {},
     "output_type": "execute_result"
    }
   ],
   "execution_count": 14
  },
  {
   "metadata": {},
   "cell_type": "code",
   "outputs": [],
   "execution_count": null,
   "source": "",
   "id": "41afa8b957ca0759"
  }
 ],
 "metadata": {
  "kernelspec": {
   "display_name": "Python 3",
   "language": "python",
   "name": "python3"
  },
  "language_info": {
   "codemirror_mode": {
    "name": "ipython",
    "version": 2
   },
   "file_extension": ".py",
   "mimetype": "text/x-python",
   "name": "python",
   "nbconvert_exporter": "python",
   "pygments_lexer": "ipython2",
   "version": "2.7.6"
  }
 },
 "nbformat": 4,
 "nbformat_minor": 5
}
