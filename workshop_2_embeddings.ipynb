{
 "cells": [
  {
   "metadata": {},
   "cell_type": "markdown",
   "source": [
    "# Question answering using embeddings-based search\n",
    "\n",
    "This notebook demonstrates a two-step Search-Ask method for enabling GPT to answer questions using a library of reference text.\n",
    "\n",
    "1. **Search:** search your library of text for relevant text sections\n",
    "2. **Ask:** insert the retrieved text sections into a message to GPT and ask it the question"
   ],
   "id": "d0e22c0d38c51167"
  },
  {
   "metadata": {
    "ExecuteTime": {
     "end_time": "2024-10-15T06:08:44.964842Z",
     "start_time": "2024-10-15T06:08:44.941152Z"
    }
   },
   "cell_type": "code",
   "source": [
    "import ast  # for converting embeddings saved as strings back to arrays\n",
    "import openai  # for generating embeddings\n",
    "import os  # for environment variables\n",
    "import pandas as pd  # for DataFrames to store article sections and embeddings\n",
    "import tiktoken  # for counting tokens\n",
    "import dotenv  # for loading environment variables\n",
    "from scipy import spatial  # for calculating vector similarities for search\n",
    "import pymupdf # for parsing PDFs\n",
    "\n",
    "dotenv.load_dotenv(\".env\")\n",
    "\n",
    "client = openai.OpenAI()"
   ],
   "id": "a22c6545a43dc102",
   "outputs": [],
   "execution_count": 10
  },
  {
   "metadata": {
    "ExecuteTime": {
     "end_time": "2024-10-15T06:08:47.072982Z",
     "start_time": "2024-10-15T06:08:47.070137Z"
    }
   },
   "cell_type": "code",
   "source": [
    "# Variables section\n",
    "DOCUMENTS_FOLDER = os.getcwd() + \"/data/raw\" # the folder wit rqw PDFs\n",
    "GPT_MODEL = \"gpt-4o-mini\"  # only matters insofar as it selects which tokenizer to use\n",
    "EMBEDDING_MODEL = \"text-embedding-3-small\" # the model to create embeddings (have to be the same during database preparation and asking)\n",
    "MAX_TOKENS = 800 # the number of tokens allowed for one string in tokenizer\n",
    "BATCH_SIZE = 500  # you can submit up to 2048 embedding inputs per request\n",
    "EMBEDDING_PATH = os.getcwd() + \"/data/sloboda_knowledge_base.csv\""
   ],
   "id": "8da51287f07c9048",
   "outputs": [],
   "execution_count": 11
  },
  {
   "metadata": {},
   "cell_type": "markdown",
   "source": [
    "# 1. Embedding Sloboda-studio articles for search\n",
    "\n",
    "This part shows how we prepared a dataset of internal articles for search\n",
    "\n",
    "Procedure:\n",
    "\n",
    "1. Collect: We parse texts from PDFs\n",
    "2. Embed: Each section is embedded with the OpenAI API\n",
    "3. Store: Embeddings are saved in a CSV file (for large datasets, use a vector database)"
   ],
   "id": "8ee7befb24de57d1"
  },
  {
   "metadata": {},
   "cell_type": "markdown",
   "source": [
    "## 1.1. Collect documents\n",
    "\n",
    "We parse texts from PDF"
   ],
   "id": "171b0e52ed4febb3"
  },
  {
   "metadata": {
    "ExecuteTime": {
     "end_time": "2024-10-15T06:08:55.678469Z",
     "start_time": "2024-10-15T06:08:55.613844Z"
    }
   },
   "cell_type": "code",
   "source": [
    "# open data/raw directory and iterate over docs\n",
    "docs = []\n",
    "\n",
    "for filename in os.listdir(DOCUMENTS_FOLDER):\n",
    "    print(\"-- filename\", filename)\n",
    "    \n",
    "    text = \"\"\n",
    "    with pymupdf.open(os.path.join(DOCUMENTS_FOLDER, filename)) as doc:\n",
    "        for page in doc: # iterate the document pages\n",
    "            text += page.get_text()\n",
    "            \n",
    "    docs.append(([[filename], text]))\n",
    "            \n",
    "# print(\"docs: \", docs)"
   ],
   "id": "5fc29ec898e443cc",
   "outputs": [
    {
     "name": "stdout",
     "output_type": "stream",
     "text": [
      "-- filename Certification & Education reimbursement policy.pdf\n",
      "-- filename Time tracking People Force .pdf\n",
      "-- filename Onboarding Presentation 2024.pdf\n",
      "-- filename Sunflower game.pdf\n",
      "-- filename Vacation policy.pdf\n",
      "-- filename Hardware provision policy.pdf\n"
     ]
    }
   ],
   "execution_count": 12
  },
  {
   "metadata": {},
   "cell_type": "markdown",
   "source": [
    "Next, we'll recursively split long sections into smaller sections.\n",
    "\n",
    "There's no perfect recipe for splitting text into sections.\n",
    "\n",
    "Some tradeoffs include:\n",
    "- Longer sections may be better for questions that require more context\n",
    "- Longer sections may be worse for retrieval, as they may have more topics muddled together\n",
    "- Shorter sections are better for reducing costs (which are proportional to the number of tokens)\n",
    "- Shorter sections allow more sections to be retrieved, which may help with recall\n",
    "- Overlapping sections may help prevent answers from being cut by section boundaries\n",
    "\n",
    "Here, we'll use a simple approach and limit sections to 1,600 tokens each, recursively halving any sections that are too long. To avoid cutting in the middle of useful sentences, we'll split along paragraph boundaries when possible."
   ],
   "id": "4658a75327cb4696"
  },
  {
   "metadata": {
    "ExecuteTime": {
     "end_time": "2024-10-15T06:09:02.109804Z",
     "start_time": "2024-10-15T06:09:02.102231Z"
    }
   },
   "cell_type": "code",
   "source": [
    "def num_tokens(text: str, model: str = GPT_MODEL) -> int:\n",
    "    \"\"\"Return the number of tokens in a string.\"\"\"\n",
    "    encoding = tiktoken.encoding_for_model(model)\n",
    "    return len(encoding.encode(text))\n",
    "\n",
    "\n",
    "def halved_by_delimiter(string: str, delimiter: str = \"\\n\") -> list[str, str]:\n",
    "    \"\"\"Split a string in two, on a delimiter, trying to balance tokens on each side.\"\"\"\n",
    "    chunks = string.split(delimiter)\n",
    "    if len(chunks) == 1:\n",
    "        return [string, \"\"]  # no delimiter found\n",
    "    elif len(chunks) == 2:\n",
    "        return chunks  # no need to search for halfway point\n",
    "    else:\n",
    "        total_tokens = num_tokens(string)\n",
    "        halfway = total_tokens // 2\n",
    "        best_diff = halfway\n",
    "        for i, chunk in enumerate(chunks):\n",
    "            left = delimiter.join(chunks[: i + 1])\n",
    "            left_tokens = num_tokens(left)\n",
    "            diff = abs(halfway - left_tokens)\n",
    "            if diff >= best_diff:\n",
    "                break\n",
    "            else:\n",
    "                best_diff = diff\n",
    "        left = delimiter.join(chunks[:i])\n",
    "        right = delimiter.join(chunks[i:])\n",
    "        return [left, right]\n",
    "\n",
    "\n",
    "def truncated_string(\n",
    "    string: str,\n",
    "    model: str,\n",
    "    max_tokens: int,\n",
    "    print_warning: bool = True,\n",
    ") -> str:\n",
    "    \"\"\"Truncate a string to a maximum number of tokens.\"\"\"\n",
    "    encoding = tiktoken.encoding_for_model(model)\n",
    "    encoded_string = encoding.encode(string)\n",
    "    truncated_string = encoding.decode(encoded_string[:max_tokens])\n",
    "    if print_warning and len(encoded_string) > max_tokens:\n",
    "        print(f\"Warning: Truncated string from {len(encoded_string)} tokens to {max_tokens} tokens.\")\n",
    "    return truncated_string\n",
    "\n",
    "\n",
    "def split_strings_from_subsection(\n",
    "    subsection: tuple[list[str], str],\n",
    "    max_tokens: int = 1000,\n",
    "    model: str = GPT_MODEL,\n",
    "    max_recursion: int = 5,\n",
    ") -> list[str]:\n",
    "    \"\"\"\n",
    "    Split a subsection into a list of subsections, each with no more than max_tokens.\n",
    "    Each subsection is a tuple of parent titles [H1, H2, ...] and text (str).\n",
    "    \"\"\"\n",
    "    titles, text = subsection\n",
    "    string = \"\\n\\n\".join(titles + [text])\n",
    "    num_tokens_in_string = num_tokens(string)\n",
    "    # if length is fine, return string\n",
    "    if num_tokens_in_string <= max_tokens:\n",
    "        return [string]\n",
    "    # if recursion hasn't found a split after X iterations, just truncate\n",
    "    elif max_recursion == 0:\n",
    "        return [truncated_string(string, model=model, max_tokens=max_tokens)]\n",
    "    # otherwise, split in half and recurse\n",
    "    else:\n",
    "        titles, text = subsection\n",
    "        for delimiter in [\"\\n\\n\", \"\\n\", \". \"]:\n",
    "            left, right = halved_by_delimiter(text, delimiter=delimiter)\n",
    "            if left == \"\" or right == \"\":\n",
    "                # if either half is empty, retry with a more fine-grained delimiter\n",
    "                continue\n",
    "            else:\n",
    "                # recurse on each half\n",
    "                results = []\n",
    "                for half in [left, right]:\n",
    "                    half_subsection = (titles, half)\n",
    "                    half_strings = split_strings_from_subsection(\n",
    "                        half_subsection,\n",
    "                        max_tokens=max_tokens,\n",
    "                        model=model,\n",
    "                        max_recursion=max_recursion - 1,\n",
    "                    )\n",
    "                    results.extend(half_strings)\n",
    "                return results\n",
    "    # otherwise no split was found, so just truncate (should be very rare)\n",
    "    return [truncated_string(string, model=model, max_tokens=max_tokens)]"
   ],
   "id": "6d85d4c4073dd7df",
   "outputs": [],
   "execution_count": 13
  },
  {
   "metadata": {
    "ExecuteTime": {
     "end_time": "2024-10-15T06:09:08.070558Z",
     "start_time": "2024-10-15T06:09:07.847139Z"
    }
   },
   "cell_type": "code",
   "source": [
    "document_strings = []\n",
    "for section in docs:\n",
    "    document_strings.extend(split_strings_from_subsection(section, max_tokens=MAX_TOKENS))\n",
    "\n",
    "print(f\"{len(docs)} Document sections split into {len(document_strings)} strings.\")"
   ],
   "id": "5c4719a0b96895e3",
   "outputs": [
    {
     "name": "stdout",
     "output_type": "stream",
     "text": [
      "6 Document sections split into 16 strings.\n"
     ]
    }
   ],
   "execution_count": 14
  },
  {
   "metadata": {
    "ExecuteTime": {
     "end_time": "2024-10-15T06:09:19.698843Z",
     "start_time": "2024-10-15T06:09:19.695097Z"
    }
   },
   "cell_type": "code",
   "source": "document_strings",
   "id": "a9c7199c2a8fc9f1",
   "outputs": [
    {
     "data": {
      "text/plain": [
       "[\"Certification & Education reimbursement policy.pdf\\n\\nCertification & Education Reimbursement Policy\\nAt Sloboda Studio, we're all about helping you grow professionally. That's why we've set\\nup a simple policy to support you in attending external courses and conferences or\\ngetting certifications that boost your skills.\\nWho's Eligible?\\nFull-time employees, with us for 6+ months.\\nHow to Apply?\\nJust chat with HR before starting your certification journey.\\nMoney Matters\\nFor Certification\\n●\\nPass the Certification: We cover the full cost (up to $1,000).\\n●\\nDon't Pass? No worries, we still cover half the cost within abovementioned limit.\\nFor external Courses\\n●\\nWe cover half the cost (up to $1,000).\\nFor Conferences\\n●\\nWe cover the full cost (up to $1,000) *\\n* prior Direct Manager approval is needed\\nRemember!\\nAfter the completion / pass: Show your certificate to HR, and we'll handle the payment.\\nEvery case is unique. We're here to discuss and assist further if you need it. Just reach\\nout to HR.\\n\",\n",
       " 'Time tracking People Force .pdf\\n\\nTime tracking People Force\\nTime tracking. General rules\\nТайм трекінг співробітників та підрядників компанії відбувається у системі People\\nForce.\\nОсновні принципи процесу тайм трекінгу є загальними для всіх департаментів, а\\nсаме:\\n1.\\nДля\\nстворення\\nможливості трекінгу годин, необхідно створити Проект,\\nдодати на нього Таски відповідно до поточної інструкції, а також заасайніти\\nспівробітника, який реально буде працювати на поточному Проекті.\\n2.\\nТайм трекінг здійснюється за наступними видами Проектів:\\n- Commercial Projects - проекти, за якими виставляються інвойси клієнтам\\nкомпанії;\\n- Internal Projects - внутрішні проекти компанії.\\n3.\\nЗаведення Internal Projects у систему здійснює HR у відділі People partner.\\nЗаведення Commercial Projects у систему здійснює заасайніний на проект Project\\nManager у відділі Delivery.\\n4.\\nАпрув\\nгодин\\nздійснюється\\nМенеджером\\nспівробітника,\\nякий\\nбув\\nзаасайнений на нього в системі, а не на певному Проекті.\\n5.\\nТайм трекінг здійснюється кожним співробітником та підрядником компанії.\\n6.\\nПерелік поточних Internal Projects викладено у таблиці нижче. У випадку,\\nколи Менеджеру співробітника потрібно заапрувити години в системі по одному з\\nвнутрішніх\\nпроектів,\\nйому необхідно звернутись до Менеджера відповідного\\nДепартамента\\n(щоб\\nперевірити,\\nщо\\nгодини\\nзатрекані\\nкоректно\\nі\\nщо\\nвін\\nпідтверджує їх кількість та зміст зробленої роботи), на задачу якого було залучено',\n",
       " 'Time tracking People Force .pdf\\n\\nспівробітника.\\nInternal Projects\\nProject\\nTasks\\nDescription\\nDepartment\\nManager\\nBench\\nBench\\nтрекінг годин бенча\\nDelivery\\nPM\\nVacation\\nVacation\\nтрекінг годин оплачуваної\\nвідпустки\\nPeople\\npartner\\nHR\\nSick leave\\nSick leave\\nтрекінг годин\\nоплачуваного лікарняного\\nPeople\\npartner\\nHR\\nUnpaid leave\\nUnpaid leave*\\nтрекінг не оплачуваних\\nгодин відсутності (години\\nвідпустки або лікарняних\\nпонад кількість\\nоплачуваних компанією,\\nсаббатикал)\\nPeople\\npartner\\nHR\\nHR\\nPeople management\\nтрекінг годин відділу\\nPeople partner, пов’язаних\\nз функцією People\\nmanagement, а також:\\nOrg meetings\\nPeople\\npartner\\nHRD\\nTime tracking People Force\\nSloboda talk\\nSloboda updates\\n1-to 1\\nHH\\nRecruiting\\nтрекінг годин відділу\\nPeople partner, пов’язаних\\nз функцією Recruiting, а\\nтакож наступними\\nактивностями:\\nInterview for performance\\nreview\\nInterview of potential\\ncandidates\\nPeople\\npartner\\nHRD\\nMarketing\\nSEO\\nCopywriting\\nLinkbuilding\\nManagement\\nтрекінг годин відділу\\nMarketing\\nMarketing\\nHead of\\nMarketing\\nDev-Marketin\\ng\\nDev-Marketing\\nтрекінг годин відділу\\nMarketing, пов’язаних з\\nнаступними\\nактивностями:\\nDesign for marketing\\ndocuments\\nDev-Marketing Sync\\nMarketing\\nHead of\\nMarketing\\nPM\\nProject Management\\nтрекінг годин відділу\\nDelivery\\nDelivery\\nPM\\nCEO\\nCEO Management\\nтрекінг годин Chief\\nExecutive Officer\\nCEO\\nCEO\\nFin\\nFin\\nтрекінг годин відділу\\nFinance\\nFinance\\nHead of\\nFinance\\nSales\\nLeadGen\\nClosing\\nтрекінг годин відділу Sales Sales',\n",
       " 'Time tracking People Force .pdf\\n\\nHead of Sales\\nPresale\\nPresale\\nтрекінг годин відділу\\nPre-sales по наступним\\nактивностям:\\nPresale\\nEstimation for potential\\nclient\\nCall with potential client\\nOther presale activities\\nResearch for potential client Pre-sales\\nHead of\\nPre-sales\\nExpertise\\nExpertise\\nтрекінг годин відділу\\nDelivery по наступним\\nактивностям:\\nRnD\\nEducation (approved by\\nmanager)\\nArticle writing (internal)\\nDelivery\\nPM\\nOther\\nOther\\nтрекінг годин, пов’язаних\\nPeople\\nHRD\\nTime tracking People Force\\n* тайм трекінг за таскою Unpaid leave не здійснюється підрядниками та парт-тайм\\nспівробітниками компанії.\\n7.\\nТайм трекінг здійснюється та відправляється на апрув кожної п’ятниці або\\nостаннього робочого дня тижня, проте можливість внести години та відправити на\\nапрув за поточний тиждень зберігається до неділі.\\n8.\\nТрекінг годин по проектам Vacation, Sick leave та Unpaid leave здійснюється\\nпаралельно з процесом створення Request Time-off у системі. При чому, необхідно\\nпопереджати про Vacation та Unpaid leave за 2 тижні до запланованої дати. Request\\nTime-off у системі здійснюється тими співробітниками, в профілі яких додана така\\nопція. Г\\nодини по таким проектам встановлюється на весь робочий день, тобто 8\\nгодин. Інші затрекані в день дей оффу години вважаються овергодинами та\\nпотребують додаткового узгодження.\\nВажливо! Апрув Request Time-off у системі здійснює HR після того, як\\nотримає апрув від менеджера співробітника (здійснивши комунікацію з',\n",
       " 'Time tracking People Force .pdf\\n\\nцього приводу). Паралельно менеджер, заасайніний на співробітника у\\nсистемі, здійснює апрув годин по проектам Vacation, Sick leave та Unpaid\\nleave.\\n9.\\nАпрув тайм щітів співробітників здійснюється не пізніше 12:00 другого\\nробочого\\nдня\\nтижня,\\nякий\\nслідує\\nза\\nтижнем,\\nякий\\nнеобхідно\\nзаапрувити.\\nНаприклад, апрув робочого тижня з 15го квітня (Пн) по 19е квітня (Пт) здійснюється\\nу Вт 22 квітня. У випадку, якщо необхідно внести зміни в певний тайм щіт, це\\nможливо зробити протягом звітнього місяця. Після закриття місяця, а саме апруву\\nостаннього\\nробочого\\nтижня\\nмісяця,\\nзміни\\nв\\nтайм\\nщіти\\nне\\nвносяться.\\nПри\\nвиникненні\\nнестандартної\\nситуації,\\nМенеджеру,\\nякий\\nне\\nмає\\nможливості\\nзаапрувити тайм щіт в установлений період, необхідно звернутися до Менеджеру\\nдепартаменту та донести до його відома деталі такої ситуації.\\nTime tracking. For Project Managers\\nДля\\nстворення\\nможливості\\nтрекінгу\\nчасу\\nу\\nсистемі\\nPeople\\nForce\\nнеобхідно\\nздійснити наступні кроки.\\nСтворення Проекту (Commercial)\\nПерш ніж створити Проект необхідно додати у систему Клієнта. Створення Клієнта\\nта Проекту відбувається у модулі Project.\\nДля створення Клієнта необхідно перейти в модуль Project та клікнути Manage\\nclients.',\n",
       " 'Time tracking People Force .pdf\\n\\nз іншими не вказаними\\nвище активностями\\npartner\\nTime tracking People Force\\nДалі клікнути New client та у новому віконці заповнити назву Клієнта та клікнути\\nSave. Нового Клієнта створено у системі.\\nДалі необхідно створити Project. В модулі Project клікаємо Add Project та у вікні\\nстворення нового проекту заповнюємо наступні поля: Name, Client, Project type. Інші\\nполя заповнюємо за потребою. Клікаємо Save.\\nВажливо!\\nПоля Name та Client повинні повністю співпадати із даними у Project\\nChecklist, що надається Sales департаментом (включаючи регістри).\\nTime tracking People Force\\nПроект створено. Переходимо до наступного кроку.\\nСтворення Tasks\\nНеобхідно у новостворений Проект додати Tasks. Обираємо функцію Edit.\\nУ вікні редагування Проекту необхідно додати групи Тасків (клікаємо Add group) -\\nстворюємо групу Commercial Billable Tasks.\\nTime tracking People Force\\n.\\nДалі необхідно додати Таски (клікаємо Add Task) - додаємо Таски за наступним\\nпереліком:\\nCommercial\\nBillable Tasks\\nDescription\\nCommercial\\nnon-Billable Tasks\\nDescription\\nDevelopment\\nNon-billable activity\\nактивності, що не\\nвключатимуться\\nдо інвойсу\\nTesting\\nDevOps\\nBusiness analysis\\nDesign\\nTechnical consultation\\n(including Research, Tech\\nsync etc.)\\nProject management\\nOrg Sync\\nSync with HR\\nSync with PM\\nSync with Account\\nmanager\\nTime tracking People Force\\nінші аналогічні\\nактивності\\nУ вікні створення Тасків обираємо Task group, вказуємо Name та встановлюємо\\nфлажок Billable при створенні Billable Тасків. Клікаємо Save.',\n",
       " 'Time tracking People Force .pdf\\n\\nTasks створені та виглядають наступним чином.\\nПереходимо до наступного кроку.\\nСтворення Team\\nУ\\nвікні\\nредагування\\nПроекту переходимо у розділ Team додати всіх членів\\nкоманди, які будуть задіяні на проекті а також вказати Project Manager: обираємо зі\\nсписку необхідного employee, клікаємо Add employee, вказуємо Project Manager\\n(встановлюємо галочку Project Manager) та клікаємо Save.\\nTime tracking People Force\\nПісля того, як додані всі employees, які будуть працювати на Проекті, у них з’явиться\\nможливість здійснювати Тайм трекінг по цьому Проекту.\\nТайм трекінг\\nДля здійснення трекінгу годин необхідно перейти у модуль Clock in, клікнути Add\\nrow. У вікні налаштування timesheet row необхідно обрати Project та Task, по яким\\nпланується здійснити тайм трекінг та встановити кількість відпрацьованих годин.\\nПри чому вид таску обирається згідно з позицією (тайтлом) співробітника в\\nкомпанії, наприклад, Ruby on Rails Developer необхідно обрати таск Development,\\nQuality Assurance Specialist необхідно обрати таск Testing. Такі таски, як Technical\\nconsultation та Org Sync обираються за необхідність без привʼязки до тайтла, тобто\\nза сутністю виконаної задачі.\\nТакі самі дії потрібно здійснити по кожному Проекту, на якому необхідно затрекати\\nгодини.\\nПісля здійснення трекінгу годин по всім Проектам необхідно відправити запит на\\nапрув, клікнувши Submit week for approval.\\nTime tracking People Force\\nВажливо!\\nУ випадку, коли інженеру потрібно затрекати години по Internal проекту, інженер',\n",
       " 'Time tracking People Force .pdf\\n\\nповідомляє Менеджеру (в цьому випадку Project manager), який встановлений в\\nПрофілі інженера як основний, що буде здійснювати ту чи іншу задачу. В свою\\nчергу, Project manager додає інженера до необхідного Проекту у системі, після чого\\nінженер здійснює трекінг годин за вказаним вище процесом. За результатами\\nданих\\nтайм\\nтрекінгу\\nпо\\nтаскам\\nInternal проектів, Project manager необхідно\\nотримати апрув від відповідного Менеджера департаменту, який залучав інженера\\nдо задачі.\\nАпрув годин\\nФінальним кроком у процесі тайм трекінгу є Апрув годин.\\nДля здійснення апруву годин Project manager необхідно перейти в модуль Clock in\\nв розділ Pending та заапрувити вхідні запити.\\nУ випадку необхідності уточнення деталей запиту по годинам, які були затрекані на\\nInternal\\nпроекти,\\nProject\\nmanager\\nнеобхідно\\nзвернутися\\nдо\\nМенеджера того\\nДепартаменту, для якого була зроблена задача. Перелік Internal проектів та\\nвідповідних Departments та Managers вказано у розділі Time tracking. General rules -\\nInternal Projects.\\nЯкщо девелопер залучений більше ніж на 1 Commercial проекті, то для уточнення\\nдеталей\\nзапиту\\nпо годинам додаткового Проекту, основному PMу необхідно\\nзвернутися до PMа відповідного додаткового проекту, встановленого в системі.\\nTime tracking People Force\\nTime tracking. For Administrative staff\\nДля створення можливості трекінгу часу у системі People Force HR необхідно\\nздійснити наступні кроки.\\nСтворення Проекту (Internal)\\nСтворення Internal Проектів відбувається по клієнту Sloboda Studio.',\n",
       " 'Time tracking People Force .pdf\\n\\nHR необхідно створити у системі Проекти, перелічені в розділі Internal Projects із\\nProject type - non-Billable.\\nСтворення Tasks\\nПісля створення Internal Проектів, у вікні редагування Проекту HR необхідно\\nдодати до них відповідні Таски.\\nДля кожного проекту необхідно створити групу тасків - Internal Tasks Group.\\nПісля створення групи тасків, у вікні редагування Проекту HR необхідно додати\\nвідповідні Таски (non-Billable).\\nTime tracking People Force\\nСтворення Team\\nУ\\nвікні\\nредагування\\nПроекту\\nHR\\nнеобхідно\\nдодати\\nвсіх\\nemployees\\nзгідно\\nз\\nДепартаментом, для якого створюється Проект.\\nПриклад\\n→для департаменту People partner створено проект HR\\n→для проекту HR створено групу тасків Internal Tasks Group\\n→в групу тасків додано таск People management\\n→в проект HR додано всіх співробітників департаменту, обов’язками яких є функція\\nPeople management.\\nЗа\\nтаким\\nсамим\\nпроцесом\\nHRу\\nнеобхідно\\nстворити\\nПроекти\\nпо\\nкожному\\nдепартаменту.\\nТайм трекінг\\nДля здійснення трекінгу годин необхідно перейти у модуль Clock in, клікнути Add\\nrow. У вікні налаштування timesheet row необхідно обрати Project та Task, по яким\\nпланується здійснити тайм трекінг та встановити кількість відпрацьованих годин.\\nПісля здійснення трекінгу годин по всім Проектам необхідно відправити запит на\\nапрув, клікнувши Submit week for approval.\\nTime tracking People Force\\nАпрув годин\\nАпрув годин здійснює Менеджер, встановлений у профілі співробітника, у\\nмодулі Clock in в розділі Pending.\\n',\n",
       " \"Onboarding Presentation 2024.pdf\\n\\nWelcome to\\nSloboda Studio\\n14\\nyears on the \\nmarket\\n90+ specialists\\nKey technologies\\nBack-end\\nFront-end\\nDatabases\\nMobile \\nTechnologies\\nCustomers\\nOur values\\nVision\\nA well-known team of professionals of the world \\nclass and thinking solves customer business \\nproblems through engineering\\nMission\\nEmpowering the success of our clients’ projects \\nthrough expert web development and \\nhigh-tech, ethical consulting initiatives. \\nWe believe in taking \\nprofessional and financial \\nresponsibility for our actions \\nand ensuring that we can \\ndepend on each other to \\nsuccessfully complete tasks.\\nWe strive for continuous \\nimprovement and embrace \\ninnovation and creativity as \\nessential elements of our work.\\nAttention to detail, \\ncommitment to quality, \\nproblem-solving intelligence, \\nand reliability in meeting \\ncommitments are fundamental \\naspects of our company's \\nvalues. \\nTrust\\nOpenness\\nProfessionalism\\nWork principles\\nThe response to any \\nletter or customer \\nrequest should be no \\nmore than 8 business \\nhours\\nAction is always \\nbetter than inaction\\nCome with a solution\\nnot with a problem\\nFailure in planning - \\nplanning of failure\\nUnwillingness to learn \\nmeans to expose your \\norganization\\nOne task - one \\nresponsible executor \\nand deadline\\nReceived or completed \\nthe task, to do list is \\nending - inform the \\nmanager\\nThe result is the best \\nmeasure! No talk, no \\nexplanation, no excuse! \\nRESULT!\\nRespectful attitude \\ntowards the company and \\nits values, maintaining the \\nhigh reputation of the \\ncompany\\nRead more here.\\n➔\\nYou will collaborate with us as Individual \\nEntrepreneur (FOP). We will guide you on how to \\nopen an IE and explain all the processes to you.\\n➔\\nFor specialists in Ukraine, they  independently \\npay taxes for their Individual Entrepreneur, which \\nconsist of a single tax (5% of income) + Unified \\nSocial Contribution. Our accountant can assist \\nwith tax calculations and IE support\\n➔\\nEach specialist has a personal settlement \\ndocument where various types of compensations \\nare recorded.\\n➔\\nPayment. Please, be aware that you will get your \\npayment for the previous month's of work on the \\n20th of the following month \\nWork rules: documents \\n➔\\nThe work schedule is quite flexible. As a rule \\nfrom 10:30 + 8 hours. The main thing is to work \\n40 hours a week. If there is a need for a personal \\nschedule, it must be agreed with the head.\\n➔\\nWe at Sloboda Studio value our team and \",\n",
       " 'Onboarding Presentation 2024.pdf\\n\\nclients, so we try to inform about vacations in \\nadvance. However, we understand that \\nsometimes unexpected things happen. The key \\nis communication. \\n➔\\nAbout the desire to take a vacation, it is \\nnecessary to inform the manager and also \\nnotify HR no less than 2 weeks before the \\nvacation begins.\\nWork schedule\\n➔\\nClient Meetings and Stand-ups. Regular attendance \\nat client meetings is mandatory. Daily stand-up \\nmeetings are vital for team coordination and progress \\nupdates.\\n➔\\nCamera Engagement. Please ensure your camera is \\nturned on during virtual meetings as this fosters a \\nmore connected and engaged team environment.\\n➔\\nPunctuality. Be prompt for meetings and stand-ups.\\n➔\\nCommunication. Regularly update team members on \\nyour progress. Always provide detailed and informative \\nupdates to clients.\\n➔\\nDocumentation. Maintain clear and up-to-date \\ndocumentation for your projects.\\nBy adhering to these guidelines, we can enhance our \\ncollaboration, maintain transparency, and deliver \\noutstanding results for our clients. \\nImportant rules of \\ncollaboration with clients\\n➔\\nVacation/Sick leave requests\\n➔\\nThe structure of the company\\n➔\\nOnboarding tasks\\nPeople Force\\n➔\\nTracking working hours\\n➔\\nVideo-tutorial of time tracking\\nPeople Force\\nOur сommunication channels \\nCorporate mail\\nHow to access your corporate \\nmailbox\\n1.\\nOn your personal email you will \\nreceive a letter from The Google \\nWorkspace Team \\n2.\\nIn this email you will ﬁnd login \\ndetails to access corporate mail. \\n3.\\nKeep in mind that the link to \\nsetting up your password is valid \\nfor 48 hours. \\nHow to access Google Chat\\n1.\\nThere are web and mobile versions of \\nthe messenger for your convenience.\\n2.\\nYou can open Google Chat in browser \\nvia this link. \\n3.\\nYou can download Google chat on your \\nphone. \\n- Google Play  \\n- App Store  \\n4.\\nIf you have Gmail application on you \\nphone by logging into your corporate \\naccount you also will be able to access \\nGoogle Chat. \\nOur сommunication channels \\nHere you can watch 4 minutes video about \\nGoogle Chat functionality. \\nMain channels\\n1.\\nCompany News: This is a central space for \\nunoﬃcial news and updates such as birthday \\ncongratulations, welcoming new employees, \\nsunﬂower game, challenges, etc..\\n2.\\nEvents Hub: This is our space for all company \\nevent announcements. Here you will ﬁnd \\ninformation regarding upcoming events such ',\n",
       " \"Onboarding Presentation 2024.pdf\\n\\nas Sloboda Talks, Tech Talks, Yoga Hour, etc. \\n3.\\nBreak Time Hub: Where we step away for a \\nmoment. Share when you're on a break or \\naway from your desk, and reconnect when \\nyou're back!\\n4.\\nGeneral Announcements: A central space \\nfor important updates and news relevant \\nto all employees across the company.\\n5.\\nDevelopment Hub: This space is \\ndedicated to sending inquiries related to \\ntechnologies and development. \\nPersonal signature in email\\nEach specialist must have a single corporate signature when sending letters.\\nTo do it, you need:\\n1.\\nTo visit https://www.hubspot.com/email-signature-generator\\n2.\\nIn the first section choose Template #3\\n3.\\nIn the second section, fill in the following fields: First Name, Last Name, Job Title, Company \\nName - Sloboda Studio, Mobile Phone Number, Website URL https://sloboda-studio.com/, \\nEmail Address, Custom Field Web Development with Care \\nNB: The rest of the fields do not need to be filled in.\\n4.\\nIn the third section, you need to choose colors for the signature. Copy and paste these \\nvalues: Select Theme Color FFEA00, Select Text Color 000000, Select Link Color FFEA00, Font \\nVerdana, Font Size Small.\\n5.\\nIn the fourth section, you need to upload your photo. Upload/find your photo on Google Disk, \\nmake it available to everyone and copy the link in the field Profile Picture.\\n6.\\nGreat, you have a new beautiful signature :) Now you have to copy Signature source code.\\n7.\\nOpen https://codebeautify.org/htmlviewer#  insert the code and open output in a separate \\nwindow. \\n8.\\nNow you need to copy and paste it in your mail.  Settings > Signature > Add new\\nSetting up gmail (optional)\\nCreate rules to filter \\nyour emails\\nHow to organize your \\nemails using Gmail \\nlabels\\n➔\\nSloboda \\nTalk: \\nWe \\nprovide \\nan \\neducational \\ncommunity \\nwhere \\ntech \\nleads in different fields share their \\nexperiences, \\nlife \\nhacks, \\nand \\ngive \\nguidance on work-related issues.\\n➔\\nSloboda Updates: Here, we learn about \\ncompany news and meet new team \\nmembers.\\n➔\\nSloboda Chronicles: Monthly digests \\nsharing stories about company life, \\nincluding birthdays, anniversaries, news, \\ncharity \\nupdates, \\nachievements, \\nmilestones etc.\\n➔\\nSloboda \\nConnect: \\nTeam-building \\nactivities once a month that bring the \\nteam \\ntogether \",\n",
       " \"Onboarding Presentation 2024.pdf\\n\\nin \\na \\nrelaxed \\nand \\nenjoyable atmosphere.\\n➔\\nSloboda Challenges: Exciting monthly \\nchallenges \\nthat \\nadd \\na \\ntouch \\nof \\nplayfulness to our routine, you can have \\nfun and win a prize.\\nEvents\\nFree English lessons\\nCorporate English lessons at 4 \\nlevels (Pre-Intermediate, \\nIntermediate, Upper-Intermediate, \\nAdvanced)\\nCertification coverage up \\nto $1,000. \\nExternal courses fund half \\nof fees and the full cost of \\nconferences (up to $1,000)\\nYou will find certification \\npolicy here.\\nWith care for you\\nReferral Program Bonuses for \\nattracting your friends and \\nex-colleagues to the company.\\nWe offer access to therapy \\nservices or can cover therapy \\nexpenses by 50% or up to 500 UAH \\nper session.\\nCovering 50% of costs for \\nwellness services, like massages, \\nand medical check-ups, ensuring \\nyou feel cared for and valued.\\nIf you're getting married or having \\na newborn child, give us a heads \\nup, and we'll congratulate you \\nwith a nice bonus.\\nWith care for you\\nSunflower game\\nInternal rewards program\\nCompensation for sports \\n(20$) and external \\ncourses of English (20$) \\nper month, Amortization \\n(20$) for hardware use.\\n18 work days off & 5 paid \\nsick days. Vacation \\npolicy.\\nThe max. number of \\nunused vacation days is \\n27. Vacation days do not \\nexpire, but they stop \\naccumulating after 27 \\nunused days. \\nThe company gifts $50 \\nfor each work \\nanniversary, \\naccumulating yearly. \\nFor example, you'll \\nreceive $100 for two \\nyears, $150 for three \\nyears, and so on.\\n                        \\nUseful links\\nQ&A with CEO \\nDiscourse \\nSloboda Inner Documents\\nWe are in Social Media\\n                        \\nNext steps\\nIn a week\\nOnboarding tasks \\ncompletion, 1-1 with HR\\nIn two weeks\\nFirst milestone.   Feedback \\ncollection from you, from \\nyour manager, onboarding \\nsurvey\\nIn one month\\nSecond milestone. \\nFeedback collection from \\nyou, from your manager, \\nfrom a client if any\\nTwo months\\nThird  milestone. Feedback \\ncollection from you, from \\nyour manager, from a \\nclient if any\\nThree months\\nFourth  milestone.    \\nFeedback collection. \\nProbation period results. \\nAdaptation process ends\\nToday\\nFirst day, introduction to \\ninternal platforms and \\nprocesses, adaptation \\nprocess begins \\nWith the first\\nworking day!\\n\",\n",
       " \"Sunflower game.pdf\\n\\nSunflower game\\nAt Sloboda Studio, we believe the foundation of success is the collective effort\\nand creativity of our team. You're not just doing your job; you're fueling our\\ngrowth by recommending us, sharing our vision, innovating for our future,\\nand so much more.\\nWe're immensely grateful for your contributions - and we think it's\\nimportant that your efforts blossomed into rewards. Enter the Sunflower\\nGame, a playful yet rewarding way to earn delightful perks.\\nHow It Works\\nAs you shine in your role and sprinkle a little extra magic, you'll gather\\nSunflower Points (☀️) across various categories. These points can be\\nexchanged for enticing rewards from our prize pool.\\nEarning Sunflower Points\\nHere’s how you can brighten your garden:\\nCategories and options:\\nCategory\\nDetails\\nPoints\\nCompany Development\\nIdea\\nPropose new processes, tools for improved\\ndepartment functionality, or innovative\\nlanguages. Share your thoughts with the\\nCEO, HR, or PM.\\n10☀️\\nProject Enhancement\\nIdea\\nSuggest new features, analytics\\nenhancements, solutions, frameworks, or\\nlogic overhauls.\\n10☀️\\nClient Appreciation\\nEarn it for outstanding work or fostering\\npositive interactions.\\n15☀️\\nPeer Appreciation\\nFor lending a hand, offering support, or\\nenhancing our work environment.\\n10☀️\\nMentorship\\nTake on the mentor role and guide our\\ngrowing talents.\\n10☀️\\nCandidate Referral\\nRecommend a friend or acquaintance to\\njoin our team.\\n20☀️\\nMarketing Article\\nAssistance\\nSupport our marketing team with your\\ntechnical expertise.\\n20☀️\\nPublic Speaking\\nRepresent us at conferences, meetups, or\\ninternal trainings.\\n50☀️\\nWriting Articles for Our\\nDiscourse\\nContribute your expertise and insights by\\nwriting articles for our Discourse platform,\\nenriching our community's knowledge and\\nengagement.\\n10☀️\\nSocial Media\\nEngagement\\nParticipate in flash mobs or mention us in\\nyour posts using our hashtags.\\n15☀️\\nCompany Post\\nReposting\\nShare our social media publications.\\n5☀️\\nUpsell\\nHelp expand our current project scope or\\naccount by signaling client interests to\\nmanagers.\\n20☀️\\nOvertime (Discouraged)\\nRecognized at the end of each month for\\nadditional hours contributed.\\n10☀️\\nNomination and Redemption\\nPoints can be nominated by:\\n●\\nYour Manager: For project ideas, client thanks, etc.\\n●\\nHR: For mentorship, social media posts or etc.\\n●\\nYou: Directly, for appreciating a colleague's effort or initiating\\nhelp/ideas.\\nTo exchange points or for any queries and suggestions, reach out to\\n.\\nDaryna Kuzmenko\\n\",\n",
       " \"Vacation policy.pdf\\n\\nVacation and Sick Leave Policy\\nLeave Accrual\\nFor you, 18 days are accrued annually at a rate of 1.5 days per month.\\nWith 3+ years at Sloboda, this increases to 19 days, and 20 days for 5+ years.\\nUpon starting your probationary period, you're immediately entitled to 5 sick days per year, which\\ncan be taken as needed. Sick days are accrued annually starting from the date of hire as an in-house\\nemployee.\\nUsage\\nAccrual starts from day one, but leaves can be taken after 3 months. However, if we have already\\ncollaborated on a freelance basis for three months prior, vacation is accrued immediately and\\navailable the following month.\\nCoordinate leave requests two weeks ahead via our portal\\nExcess is paid in the next payroll.\\nCaps and Payouts\\nMaximum rollover is 27 days.\\nMonitor accrued leave on PF and in your personal payroll document.\\nPayouts are based on the average over the past 12 consecutive months.\\nUnused leaves are paid upon termination, but not for those failing probation.\\nPayout Calculation\\nFormula: [(Last 12 months' earnings) / (working days in that period)] * leave days. Only regular hours are\\nconsidered for this calculation.\\n\",\n",
       " \"Hardware provision policy.pdf\\n\\nHardware Provision Policy\\nAt Sloboda Studio, we're committed to equipping you with the tools you need to\\nsucceed. That's why we've established a straightforward policy to provide you with the\\nnecessary hardware for your professional tasks, whether it's for daily operations or\\ninnovative projects.\\nWho's Eligible?\\nFull-time employees that cooperate with the Company on a freelance or in-house basis.\\nOption 1\\nYou can use your personal device.\\nAmortization will be added on a monthly basis to your compensation.\\n●\\nFor non production specialists amount of 1000$ divided for 3 years.\\n●\\nFor roles directly involved in the development process, a budget of $1,500 is\\nallocated per person for hardware, to be utilized over a three-year period.\\nOption 2\\nIf you are unable to use your own device and would like to request corporate hardware.\\nIn such case\\n1.\\nPlease contact your HR;\\n2.\\nHR will check availability of hardware;\\n3.\\nIn case hardware is available, please sign agreement about use of corporate\\nhardware (link to its template);\\n4.\\nShare you delivery address.\\nOption 3\\nIf you are unable to use your own device and there is no available corporate hardware.\\nOR\\nIf you are unable to use your current own device and want to buy a new one.\\nCompany can help you buy hardware.\\nImportant\\n●\\nYou must work in the Company for 1 month at least\\n●\\nCosts of hardware should not exceed 50% of your monthly compensation.\\n.\\nProcess\\n1.\\nReach out to HR and communicate your desire to choose option 3 and mention\\nyour justification.\\n2.\\nChoose hardware, desired installment plan and share details with HR.\\n3.\\nHR gets approval from CEO\\n4.\\nThe cost of the hardware will be deducted from your monthly salary in fixed\\ninstallments, dependent on the length of your cooperation. The deduction will\\ncontinue each month in US dollars until the full payment is complete.\\n5.\\nThe employee is required to formally acknowledge receipt of a company loan by\\nsigning a document. This document serves as confirmation of the employee's\\ncommitment to fulfilling their loan payment obligations.\\n6.\\nUntil the hardware is fully paid for, it remains the property of the company. The\\nemployee is responsible for the proper use and maintenance of the equipment in\\naccordance with company policies.\\nRemember!\\nIf none of the available options meets your needs, please remember that each situation\\nis unique. We encourage you to contact HR to discuss your specific circumstances and\\nexplore further assistance.\\n\"]"
      ]
     },
     "execution_count": 15,
     "metadata": {},
     "output_type": "execute_result"
    }
   ],
   "execution_count": 15
  },
  {
   "metadata": {},
   "cell_type": "markdown",
   "source": [
    "## 1.2. Embed document chunks\n",
    "\n",
    "Now that we've split our library into shorter self-contained strings, we can compute embeddings for each."
   ],
   "id": "ff56e9726c5f4b3d"
  },
  {
   "metadata": {
    "ExecuteTime": {
     "end_time": "2024-10-15T06:26:10.217113Z",
     "start_time": "2024-10-15T06:26:08.729377Z"
    }
   },
   "cell_type": "code",
   "source": [
    "embeddings = []\n",
    "for batch_start in range(0, len(document_strings), BATCH_SIZE):\n",
    "    batch_end = batch_start + BATCH_SIZE\n",
    "    print(f\"Batch {batch_start} to {batch_end-1}\")\n",
    "    batch = document_strings[batch_start:batch_end]\n",
    "    print(batch)\n",
    "    response = client.embeddings.create(model=EMBEDDING_MODEL, input=batch)\n",
    "    for i, be in enumerate(response.data):\n",
    "        assert i == be.index  # double check embeddings are in same order as input\n",
    "    batch_embeddings = [e.embedding for e in response.data]\n",
    "    embeddings.extend(batch_embeddings)\n",
    "\n",
    "df = pd.DataFrame({\"text\": document_strings, \"embedding\": embeddings})"
   ],
   "id": "ad505779ad16d9f9",
   "outputs": [
    {
     "name": "stdout",
     "output_type": "stream",
     "text": [
      "Batch 0 to 499\n",
      "[\"Certification & Education reimbursement policy.pdf\\n\\nCertification & Education Reimbursement Policy\\nAt Sloboda Studio, we're all about helping you grow professionally. That's why we've set\\nup a simple policy to support you in attending external courses and conferences or\\ngetting certifications that boost your skills.\\nWho's Eligible?\\nFull-time employees, with us for 6+ months.\\nHow to Apply?\\nJust chat with HR before starting your certification journey.\\nMoney Matters\\nFor Certification\\n●\\nPass the Certification: We cover the full cost (up to $1,000).\\n●\\nDon't Pass? No worries, we still cover half the cost within abovementioned limit.\\nFor external Courses\\n●\\nWe cover half the cost (up to $1,000).\\nFor Conferences\\n●\\nWe cover the full cost (up to $1,000) *\\n* prior Direct Manager approval is needed\\nRemember!\\nAfter the completion / pass: Show your certificate to HR, and we'll handle the payment.\\nEvery case is unique. We're here to discuss and assist further if you need it. Just reach\\nout to HR.\\n\", 'Time tracking People Force .pdf\\n\\nTime tracking People Force\\nTime tracking. General rules\\nТайм трекінг співробітників та підрядників компанії відбувається у системі People\\nForce.\\nОсновні принципи процесу тайм трекінгу є загальними для всіх департаментів, а\\nсаме:\\n1.\\nДля\\nстворення\\nможливості трекінгу годин, необхідно створити Проект,\\nдодати на нього Таски відповідно до поточної інструкції, а також заасайніти\\nспівробітника, який реально буде працювати на поточному Проекті.\\n2.\\nТайм трекінг здійснюється за наступними видами Проектів:\\n- Commercial Projects - проекти, за якими виставляються інвойси клієнтам\\nкомпанії;\\n- Internal Projects - внутрішні проекти компанії.\\n3.\\nЗаведення Internal Projects у систему здійснює HR у відділі People partner.\\nЗаведення Commercial Projects у систему здійснює заасайніний на проект Project\\nManager у відділі Delivery.\\n4.\\nАпрув\\nгодин\\nздійснюється\\nМенеджером\\nспівробітника,\\nякий\\nбув\\nзаасайнений на нього в системі, а не на певному Проекті.\\n5.\\nТайм трекінг здійснюється кожним співробітником та підрядником компанії.\\n6.\\nПерелік поточних Internal Projects викладено у таблиці нижче. У випадку,\\nколи Менеджеру співробітника потрібно заапрувити години в системі по одному з\\nвнутрішніх\\nпроектів,\\nйому необхідно звернутись до Менеджера відповідного\\nДепартамента\\n(щоб\\nперевірити,\\nщо\\nгодини\\nзатрекані\\nкоректно\\nі\\nщо\\nвін\\nпідтверджує їх кількість та зміст зробленої роботи), на задачу якого було залучено', 'Time tracking People Force .pdf\\n\\nспівробітника.\\nInternal Projects\\nProject\\nTasks\\nDescription\\nDepartment\\nManager\\nBench\\nBench\\nтрекінг годин бенча\\nDelivery\\nPM\\nVacation\\nVacation\\nтрекінг годин оплачуваної\\nвідпустки\\nPeople\\npartner\\nHR\\nSick leave\\nSick leave\\nтрекінг годин\\nоплачуваного лікарняного\\nPeople\\npartner\\nHR\\nUnpaid leave\\nUnpaid leave*\\nтрекінг не оплачуваних\\nгодин відсутності (години\\nвідпустки або лікарняних\\nпонад кількість\\nоплачуваних компанією,\\nсаббатикал)\\nPeople\\npartner\\nHR\\nHR\\nPeople management\\nтрекінг годин відділу\\nPeople partner, пов’язаних\\nз функцією People\\nmanagement, а також:\\nOrg meetings\\nPeople\\npartner\\nHRD\\nTime tracking People Force\\nSloboda talk\\nSloboda updates\\n1-to 1\\nHH\\nRecruiting\\nтрекінг годин відділу\\nPeople partner, пов’язаних\\nз функцією Recruiting, а\\nтакож наступними\\nактивностями:\\nInterview for performance\\nreview\\nInterview of potential\\ncandidates\\nPeople\\npartner\\nHRD\\nMarketing\\nSEO\\nCopywriting\\nLinkbuilding\\nManagement\\nтрекінг годин відділу\\nMarketing\\nMarketing\\nHead of\\nMarketing\\nDev-Marketin\\ng\\nDev-Marketing\\nтрекінг годин відділу\\nMarketing, пов’язаних з\\nнаступними\\nактивностями:\\nDesign for marketing\\ndocuments\\nDev-Marketing Sync\\nMarketing\\nHead of\\nMarketing\\nPM\\nProject Management\\nтрекінг годин відділу\\nDelivery\\nDelivery\\nPM\\nCEO\\nCEO Management\\nтрекінг годин Chief\\nExecutive Officer\\nCEO\\nCEO\\nFin\\nFin\\nтрекінг годин відділу\\nFinance\\nFinance\\nHead of\\nFinance\\nSales\\nLeadGen\\nClosing\\nтрекінг годин відділу Sales Sales', 'Time tracking People Force .pdf\\n\\nHead of Sales\\nPresale\\nPresale\\nтрекінг годин відділу\\nPre-sales по наступним\\nактивностям:\\nPresale\\nEstimation for potential\\nclient\\nCall with potential client\\nOther presale activities\\nResearch for potential client Pre-sales\\nHead of\\nPre-sales\\nExpertise\\nExpertise\\nтрекінг годин відділу\\nDelivery по наступним\\nактивностям:\\nRnD\\nEducation (approved by\\nmanager)\\nArticle writing (internal)\\nDelivery\\nPM\\nOther\\nOther\\nтрекінг годин, пов’язаних\\nPeople\\nHRD\\nTime tracking People Force\\n* тайм трекінг за таскою Unpaid leave не здійснюється підрядниками та парт-тайм\\nспівробітниками компанії.\\n7.\\nТайм трекінг здійснюється та відправляється на апрув кожної п’ятниці або\\nостаннього робочого дня тижня, проте можливість внести години та відправити на\\nапрув за поточний тиждень зберігається до неділі.\\n8.\\nТрекінг годин по проектам Vacation, Sick leave та Unpaid leave здійснюється\\nпаралельно з процесом створення Request Time-off у системі. При чому, необхідно\\nпопереджати про Vacation та Unpaid leave за 2 тижні до запланованої дати. Request\\nTime-off у системі здійснюється тими співробітниками, в профілі яких додана така\\nопція. Г\\nодини по таким проектам встановлюється на весь робочий день, тобто 8\\nгодин. Інші затрекані в день дей оффу години вважаються овергодинами та\\nпотребують додаткового узгодження.\\nВажливо! Апрув Request Time-off у системі здійснює HR після того, як\\nотримає апрув від менеджера співробітника (здійснивши комунікацію з', 'Time tracking People Force .pdf\\n\\nцього приводу). Паралельно менеджер, заасайніний на співробітника у\\nсистемі, здійснює апрув годин по проектам Vacation, Sick leave та Unpaid\\nleave.\\n9.\\nАпрув тайм щітів співробітників здійснюється не пізніше 12:00 другого\\nробочого\\nдня\\nтижня,\\nякий\\nслідує\\nза\\nтижнем,\\nякий\\nнеобхідно\\nзаапрувити.\\nНаприклад, апрув робочого тижня з 15го квітня (Пн) по 19е квітня (Пт) здійснюється\\nу Вт 22 квітня. У випадку, якщо необхідно внести зміни в певний тайм щіт, це\\nможливо зробити протягом звітнього місяця. Після закриття місяця, а саме апруву\\nостаннього\\nробочого\\nтижня\\nмісяця,\\nзміни\\nв\\nтайм\\nщіти\\nне\\nвносяться.\\nПри\\nвиникненні\\nнестандартної\\nситуації,\\nМенеджеру,\\nякий\\nне\\nмає\\nможливості\\nзаапрувити тайм щіт в установлений період, необхідно звернутися до Менеджеру\\nдепартаменту та донести до його відома деталі такої ситуації.\\nTime tracking. For Project Managers\\nДля\\nстворення\\nможливості\\nтрекінгу\\nчасу\\nу\\nсистемі\\nPeople\\nForce\\nнеобхідно\\nздійснити наступні кроки.\\nСтворення Проекту (Commercial)\\nПерш ніж створити Проект необхідно додати у систему Клієнта. Створення Клієнта\\nта Проекту відбувається у модулі Project.\\nДля створення Клієнта необхідно перейти в модуль Project та клікнути Manage\\nclients.', 'Time tracking People Force .pdf\\n\\nз іншими не вказаними\\nвище активностями\\npartner\\nTime tracking People Force\\nДалі клікнути New client та у новому віконці заповнити назву Клієнта та клікнути\\nSave. Нового Клієнта створено у системі.\\nДалі необхідно створити Project. В модулі Project клікаємо Add Project та у вікні\\nстворення нового проекту заповнюємо наступні поля: Name, Client, Project type. Інші\\nполя заповнюємо за потребою. Клікаємо Save.\\nВажливо!\\nПоля Name та Client повинні повністю співпадати із даними у Project\\nChecklist, що надається Sales департаментом (включаючи регістри).\\nTime tracking People Force\\nПроект створено. Переходимо до наступного кроку.\\nСтворення Tasks\\nНеобхідно у новостворений Проект додати Tasks. Обираємо функцію Edit.\\nУ вікні редагування Проекту необхідно додати групи Тасків (клікаємо Add group) -\\nстворюємо групу Commercial Billable Tasks.\\nTime tracking People Force\\n.\\nДалі необхідно додати Таски (клікаємо Add Task) - додаємо Таски за наступним\\nпереліком:\\nCommercial\\nBillable Tasks\\nDescription\\nCommercial\\nnon-Billable Tasks\\nDescription\\nDevelopment\\nNon-billable activity\\nактивності, що не\\nвключатимуться\\nдо інвойсу\\nTesting\\nDevOps\\nBusiness analysis\\nDesign\\nTechnical consultation\\n(including Research, Tech\\nsync etc.)\\nProject management\\nOrg Sync\\nSync with HR\\nSync with PM\\nSync with Account\\nmanager\\nTime tracking People Force\\nінші аналогічні\\nактивності\\nУ вікні створення Тасків обираємо Task group, вказуємо Name та встановлюємо\\nфлажок Billable при створенні Billable Тасків. Клікаємо Save.', 'Time tracking People Force .pdf\\n\\nTasks створені та виглядають наступним чином.\\nПереходимо до наступного кроку.\\nСтворення Team\\nУ\\nвікні\\nредагування\\nПроекту переходимо у розділ Team додати всіх членів\\nкоманди, які будуть задіяні на проекті а також вказати Project Manager: обираємо зі\\nсписку необхідного employee, клікаємо Add employee, вказуємо Project Manager\\n(встановлюємо галочку Project Manager) та клікаємо Save.\\nTime tracking People Force\\nПісля того, як додані всі employees, які будуть працювати на Проекті, у них з’явиться\\nможливість здійснювати Тайм трекінг по цьому Проекту.\\nТайм трекінг\\nДля здійснення трекінгу годин необхідно перейти у модуль Clock in, клікнути Add\\nrow. У вікні налаштування timesheet row необхідно обрати Project та Task, по яким\\nпланується здійснити тайм трекінг та встановити кількість відпрацьованих годин.\\nПри чому вид таску обирається згідно з позицією (тайтлом) співробітника в\\nкомпанії, наприклад, Ruby on Rails Developer необхідно обрати таск Development,\\nQuality Assurance Specialist необхідно обрати таск Testing. Такі таски, як Technical\\nconsultation та Org Sync обираються за необхідність без привʼязки до тайтла, тобто\\nза сутністю виконаної задачі.\\nТакі самі дії потрібно здійснити по кожному Проекту, на якому необхідно затрекати\\nгодини.\\nПісля здійснення трекінгу годин по всім Проектам необхідно відправити запит на\\nапрув, клікнувши Submit week for approval.\\nTime tracking People Force\\nВажливо!\\nУ випадку, коли інженеру потрібно затрекати години по Internal проекту, інженер', 'Time tracking People Force .pdf\\n\\nповідомляє Менеджеру (в цьому випадку Project manager), який встановлений в\\nПрофілі інженера як основний, що буде здійснювати ту чи іншу задачу. В свою\\nчергу, Project manager додає інженера до необхідного Проекту у системі, після чого\\nінженер здійснює трекінг годин за вказаним вище процесом. За результатами\\nданих\\nтайм\\nтрекінгу\\nпо\\nтаскам\\nInternal проектів, Project manager необхідно\\nотримати апрув від відповідного Менеджера департаменту, який залучав інженера\\nдо задачі.\\nАпрув годин\\nФінальним кроком у процесі тайм трекінгу є Апрув годин.\\nДля здійснення апруву годин Project manager необхідно перейти в модуль Clock in\\nв розділ Pending та заапрувити вхідні запити.\\nУ випадку необхідності уточнення деталей запиту по годинам, які були затрекані на\\nInternal\\nпроекти,\\nProject\\nmanager\\nнеобхідно\\nзвернутися\\nдо\\nМенеджера того\\nДепартаменту, для якого була зроблена задача. Перелік Internal проектів та\\nвідповідних Departments та Managers вказано у розділі Time tracking. General rules -\\nInternal Projects.\\nЯкщо девелопер залучений більше ніж на 1 Commercial проекті, то для уточнення\\nдеталей\\nзапиту\\nпо годинам додаткового Проекту, основному PMу необхідно\\nзвернутися до PMа відповідного додаткового проекту, встановленого в системі.\\nTime tracking People Force\\nTime tracking. For Administrative staff\\nДля створення можливості трекінгу часу у системі People Force HR необхідно\\nздійснити наступні кроки.\\nСтворення Проекту (Internal)\\nСтворення Internal Проектів відбувається по клієнту Sloboda Studio.', 'Time tracking People Force .pdf\\n\\nHR необхідно створити у системі Проекти, перелічені в розділі Internal Projects із\\nProject type - non-Billable.\\nСтворення Tasks\\nПісля створення Internal Проектів, у вікні редагування Проекту HR необхідно\\nдодати до них відповідні Таски.\\nДля кожного проекту необхідно створити групу тасків - Internal Tasks Group.\\nПісля створення групи тасків, у вікні редагування Проекту HR необхідно додати\\nвідповідні Таски (non-Billable).\\nTime tracking People Force\\nСтворення Team\\nУ\\nвікні\\nредагування\\nПроекту\\nHR\\nнеобхідно\\nдодати\\nвсіх\\nemployees\\nзгідно\\nз\\nДепартаментом, для якого створюється Проект.\\nПриклад\\n→для департаменту People partner створено проект HR\\n→для проекту HR створено групу тасків Internal Tasks Group\\n→в групу тасків додано таск People management\\n→в проект HR додано всіх співробітників департаменту, обов’язками яких є функція\\nPeople management.\\nЗа\\nтаким\\nсамим\\nпроцесом\\nHRу\\nнеобхідно\\nстворити\\nПроекти\\nпо\\nкожному\\nдепартаменту.\\nТайм трекінг\\nДля здійснення трекінгу годин необхідно перейти у модуль Clock in, клікнути Add\\nrow. У вікні налаштування timesheet row необхідно обрати Project та Task, по яким\\nпланується здійснити тайм трекінг та встановити кількість відпрацьованих годин.\\nПісля здійснення трекінгу годин по всім Проектам необхідно відправити запит на\\nапрув, клікнувши Submit week for approval.\\nTime tracking People Force\\nАпрув годин\\nАпрув годин здійснює Менеджер, встановлений у профілі співробітника, у\\nмодулі Clock in в розділі Pending.\\n', \"Onboarding Presentation 2024.pdf\\n\\nWelcome to\\nSloboda Studio\\n14\\nyears on the \\nmarket\\n90+ specialists\\nKey technologies\\nBack-end\\nFront-end\\nDatabases\\nMobile \\nTechnologies\\nCustomers\\nOur values\\nVision\\nA well-known team of professionals of the world \\nclass and thinking solves customer business \\nproblems through engineering\\nMission\\nEmpowering the success of our clients’ projects \\nthrough expert web development and \\nhigh-tech, ethical consulting initiatives. \\nWe believe in taking \\nprofessional and financial \\nresponsibility for our actions \\nand ensuring that we can \\ndepend on each other to \\nsuccessfully complete tasks.\\nWe strive for continuous \\nimprovement and embrace \\ninnovation and creativity as \\nessential elements of our work.\\nAttention to detail, \\ncommitment to quality, \\nproblem-solving intelligence, \\nand reliability in meeting \\ncommitments are fundamental \\naspects of our company's \\nvalues. \\nTrust\\nOpenness\\nProfessionalism\\nWork principles\\nThe response to any \\nletter or customer \\nrequest should be no \\nmore than 8 business \\nhours\\nAction is always \\nbetter than inaction\\nCome with a solution\\nnot with a problem\\nFailure in planning - \\nplanning of failure\\nUnwillingness to learn \\nmeans to expose your \\norganization\\nOne task - one \\nresponsible executor \\nand deadline\\nReceived or completed \\nthe task, to do list is \\nending - inform the \\nmanager\\nThe result is the best \\nmeasure! No talk, no \\nexplanation, no excuse! \\nRESULT!\\nRespectful attitude \\ntowards the company and \\nits values, maintaining the \\nhigh reputation of the \\ncompany\\nRead more here.\\n➔\\nYou will collaborate with us as Individual \\nEntrepreneur (FOP). We will guide you on how to \\nopen an IE and explain all the processes to you.\\n➔\\nFor specialists in Ukraine, they  independently \\npay taxes for their Individual Entrepreneur, which \\nconsist of a single tax (5% of income) + Unified \\nSocial Contribution. Our accountant can assist \\nwith tax calculations and IE support\\n➔\\nEach specialist has a personal settlement \\ndocument where various types of compensations \\nare recorded.\\n➔\\nPayment. Please, be aware that you will get your \\npayment for the previous month's of work on the \\n20th of the following month \\nWork rules: documents \\n➔\\nThe work schedule is quite flexible. As a rule \\nfrom 10:30 + 8 hours. The main thing is to work \\n40 hours a week. If there is a need for a personal \\nschedule, it must be agreed with the head.\\n➔\\nWe at Sloboda Studio value our team and \", 'Onboarding Presentation 2024.pdf\\n\\nclients, so we try to inform about vacations in \\nadvance. However, we understand that \\nsometimes unexpected things happen. The key \\nis communication. \\n➔\\nAbout the desire to take a vacation, it is \\nnecessary to inform the manager and also \\nnotify HR no less than 2 weeks before the \\nvacation begins.\\nWork schedule\\n➔\\nClient Meetings and Stand-ups. Regular attendance \\nat client meetings is mandatory. Daily stand-up \\nmeetings are vital for team coordination and progress \\nupdates.\\n➔\\nCamera Engagement. Please ensure your camera is \\nturned on during virtual meetings as this fosters a \\nmore connected and engaged team environment.\\n➔\\nPunctuality. Be prompt for meetings and stand-ups.\\n➔\\nCommunication. Regularly update team members on \\nyour progress. Always provide detailed and informative \\nupdates to clients.\\n➔\\nDocumentation. Maintain clear and up-to-date \\ndocumentation for your projects.\\nBy adhering to these guidelines, we can enhance our \\ncollaboration, maintain transparency, and deliver \\noutstanding results for our clients. \\nImportant rules of \\ncollaboration with clients\\n➔\\nVacation/Sick leave requests\\n➔\\nThe structure of the company\\n➔\\nOnboarding tasks\\nPeople Force\\n➔\\nTracking working hours\\n➔\\nVideo-tutorial of time tracking\\nPeople Force\\nOur сommunication channels \\nCorporate mail\\nHow to access your corporate \\nmailbox\\n1.\\nOn your personal email you will \\nreceive a letter from The Google \\nWorkspace Team \\n2.\\nIn this email you will ﬁnd login \\ndetails to access corporate mail. \\n3.\\nKeep in mind that the link to \\nsetting up your password is valid \\nfor 48 hours. \\nHow to access Google Chat\\n1.\\nThere are web and mobile versions of \\nthe messenger for your convenience.\\n2.\\nYou can open Google Chat in browser \\nvia this link. \\n3.\\nYou can download Google chat on your \\nphone. \\n- Google Play  \\n- App Store  \\n4.\\nIf you have Gmail application on you \\nphone by logging into your corporate \\naccount you also will be able to access \\nGoogle Chat. \\nOur сommunication channels \\nHere you can watch 4 minutes video about \\nGoogle Chat functionality. \\nMain channels\\n1.\\nCompany News: This is a central space for \\nunoﬃcial news and updates such as birthday \\ncongratulations, welcoming new employees, \\nsunﬂower game, challenges, etc..\\n2.\\nEvents Hub: This is our space for all company \\nevent announcements. Here you will ﬁnd \\ninformation regarding upcoming events such ', \"Onboarding Presentation 2024.pdf\\n\\nas Sloboda Talks, Tech Talks, Yoga Hour, etc. \\n3.\\nBreak Time Hub: Where we step away for a \\nmoment. Share when you're on a break or \\naway from your desk, and reconnect when \\nyou're back!\\n4.\\nGeneral Announcements: A central space \\nfor important updates and news relevant \\nto all employees across the company.\\n5.\\nDevelopment Hub: This space is \\ndedicated to sending inquiries related to \\ntechnologies and development. \\nPersonal signature in email\\nEach specialist must have a single corporate signature when sending letters.\\nTo do it, you need:\\n1.\\nTo visit https://www.hubspot.com/email-signature-generator\\n2.\\nIn the first section choose Template #3\\n3.\\nIn the second section, fill in the following fields: First Name, Last Name, Job Title, Company \\nName - Sloboda Studio, Mobile Phone Number, Website URL https://sloboda-studio.com/, \\nEmail Address, Custom Field Web Development with Care \\nNB: The rest of the fields do not need to be filled in.\\n4.\\nIn the third section, you need to choose colors for the signature. Copy and paste these \\nvalues: Select Theme Color FFEA00, Select Text Color 000000, Select Link Color FFEA00, Font \\nVerdana, Font Size Small.\\n5.\\nIn the fourth section, you need to upload your photo. Upload/find your photo on Google Disk, \\nmake it available to everyone and copy the link in the field Profile Picture.\\n6.\\nGreat, you have a new beautiful signature :) Now you have to copy Signature source code.\\n7.\\nOpen https://codebeautify.org/htmlviewer#  insert the code and open output in a separate \\nwindow. \\n8.\\nNow you need to copy and paste it in your mail.  Settings > Signature > Add new\\nSetting up gmail (optional)\\nCreate rules to filter \\nyour emails\\nHow to organize your \\nemails using Gmail \\nlabels\\n➔\\nSloboda \\nTalk: \\nWe \\nprovide \\nan \\neducational \\ncommunity \\nwhere \\ntech \\nleads in different fields share their \\nexperiences, \\nlife \\nhacks, \\nand \\ngive \\nguidance on work-related issues.\\n➔\\nSloboda Updates: Here, we learn about \\ncompany news and meet new team \\nmembers.\\n➔\\nSloboda Chronicles: Monthly digests \\nsharing stories about company life, \\nincluding birthdays, anniversaries, news, \\ncharity \\nupdates, \\nachievements, \\nmilestones etc.\\n➔\\nSloboda \\nConnect: \\nTeam-building \\nactivities once a month that bring the \\nteam \\ntogether \", \"Onboarding Presentation 2024.pdf\\n\\nin \\na \\nrelaxed \\nand \\nenjoyable atmosphere.\\n➔\\nSloboda Challenges: Exciting monthly \\nchallenges \\nthat \\nadd \\na \\ntouch \\nof \\nplayfulness to our routine, you can have \\nfun and win a prize.\\nEvents\\nFree English lessons\\nCorporate English lessons at 4 \\nlevels (Pre-Intermediate, \\nIntermediate, Upper-Intermediate, \\nAdvanced)\\nCertification coverage up \\nto $1,000. \\nExternal courses fund half \\nof fees and the full cost of \\nconferences (up to $1,000)\\nYou will find certification \\npolicy here.\\nWith care for you\\nReferral Program Bonuses for \\nattracting your friends and \\nex-colleagues to the company.\\nWe offer access to therapy \\nservices or can cover therapy \\nexpenses by 50% or up to 500 UAH \\nper session.\\nCovering 50% of costs for \\nwellness services, like massages, \\nand medical check-ups, ensuring \\nyou feel cared for and valued.\\nIf you're getting married or having \\na newborn child, give us a heads \\nup, and we'll congratulate you \\nwith a nice bonus.\\nWith care for you\\nSunflower game\\nInternal rewards program\\nCompensation for sports \\n(20$) and external \\ncourses of English (20$) \\nper month, Amortization \\n(20$) for hardware use.\\n18 work days off & 5 paid \\nsick days. Vacation \\npolicy.\\nThe max. number of \\nunused vacation days is \\n27. Vacation days do not \\nexpire, but they stop \\naccumulating after 27 \\nunused days. \\nThe company gifts $50 \\nfor each work \\nanniversary, \\naccumulating yearly. \\nFor example, you'll \\nreceive $100 for two \\nyears, $150 for three \\nyears, and so on.\\n                        \\nUseful links\\nQ&A with CEO \\nDiscourse \\nSloboda Inner Documents\\nWe are in Social Media\\n                        \\nNext steps\\nIn a week\\nOnboarding tasks \\ncompletion, 1-1 with HR\\nIn two weeks\\nFirst milestone.   Feedback \\ncollection from you, from \\nyour manager, onboarding \\nsurvey\\nIn one month\\nSecond milestone. \\nFeedback collection from \\nyou, from your manager, \\nfrom a client if any\\nTwo months\\nThird  milestone. Feedback \\ncollection from you, from \\nyour manager, from a \\nclient if any\\nThree months\\nFourth  milestone.    \\nFeedback collection. \\nProbation period results. \\nAdaptation process ends\\nToday\\nFirst day, introduction to \\ninternal platforms and \\nprocesses, adaptation \\nprocess begins \\nWith the first\\nworking day!\\n\", \"Sunflower game.pdf\\n\\nSunflower game\\nAt Sloboda Studio, we believe the foundation of success is the collective effort\\nand creativity of our team. You're not just doing your job; you're fueling our\\ngrowth by recommending us, sharing our vision, innovating for our future,\\nand so much more.\\nWe're immensely grateful for your contributions - and we think it's\\nimportant that your efforts blossomed into rewards. Enter the Sunflower\\nGame, a playful yet rewarding way to earn delightful perks.\\nHow It Works\\nAs you shine in your role and sprinkle a little extra magic, you'll gather\\nSunflower Points (☀️) across various categories. These points can be\\nexchanged for enticing rewards from our prize pool.\\nEarning Sunflower Points\\nHere’s how you can brighten your garden:\\nCategories and options:\\nCategory\\nDetails\\nPoints\\nCompany Development\\nIdea\\nPropose new processes, tools for improved\\ndepartment functionality, or innovative\\nlanguages. Share your thoughts with the\\nCEO, HR, or PM.\\n10☀️\\nProject Enhancement\\nIdea\\nSuggest new features, analytics\\nenhancements, solutions, frameworks, or\\nlogic overhauls.\\n10☀️\\nClient Appreciation\\nEarn it for outstanding work or fostering\\npositive interactions.\\n15☀️\\nPeer Appreciation\\nFor lending a hand, offering support, or\\nenhancing our work environment.\\n10☀️\\nMentorship\\nTake on the mentor role and guide our\\ngrowing talents.\\n10☀️\\nCandidate Referral\\nRecommend a friend or acquaintance to\\njoin our team.\\n20☀️\\nMarketing Article\\nAssistance\\nSupport our marketing team with your\\ntechnical expertise.\\n20☀️\\nPublic Speaking\\nRepresent us at conferences, meetups, or\\ninternal trainings.\\n50☀️\\nWriting Articles for Our\\nDiscourse\\nContribute your expertise and insights by\\nwriting articles for our Discourse platform,\\nenriching our community's knowledge and\\nengagement.\\n10☀️\\nSocial Media\\nEngagement\\nParticipate in flash mobs or mention us in\\nyour posts using our hashtags.\\n15☀️\\nCompany Post\\nReposting\\nShare our social media publications.\\n5☀️\\nUpsell\\nHelp expand our current project scope or\\naccount by signaling client interests to\\nmanagers.\\n20☀️\\nOvertime (Discouraged)\\nRecognized at the end of each month for\\nadditional hours contributed.\\n10☀️\\nNomination and Redemption\\nPoints can be nominated by:\\n●\\nYour Manager: For project ideas, client thanks, etc.\\n●\\nHR: For mentorship, social media posts or etc.\\n●\\nYou: Directly, for appreciating a colleague's effort or initiating\\nhelp/ideas.\\nTo exchange points or for any queries and suggestions, reach out to\\n.\\nDaryna Kuzmenko\\n\", \"Vacation policy.pdf\\n\\nVacation and Sick Leave Policy\\nLeave Accrual\\nFor you, 18 days are accrued annually at a rate of 1.5 days per month.\\nWith 3+ years at Sloboda, this increases to 19 days, and 20 days for 5+ years.\\nUpon starting your probationary period, you're immediately entitled to 5 sick days per year, which\\ncan be taken as needed. Sick days are accrued annually starting from the date of hire as an in-house\\nemployee.\\nUsage\\nAccrual starts from day one, but leaves can be taken after 3 months. However, if we have already\\ncollaborated on a freelance basis for three months prior, vacation is accrued immediately and\\navailable the following month.\\nCoordinate leave requests two weeks ahead via our portal\\nExcess is paid in the next payroll.\\nCaps and Payouts\\nMaximum rollover is 27 days.\\nMonitor accrued leave on PF and in your personal payroll document.\\nPayouts are based on the average over the past 12 consecutive months.\\nUnused leaves are paid upon termination, but not for those failing probation.\\nPayout Calculation\\nFormula: [(Last 12 months' earnings) / (working days in that period)] * leave days. Only regular hours are\\nconsidered for this calculation.\\n\", \"Hardware provision policy.pdf\\n\\nHardware Provision Policy\\nAt Sloboda Studio, we're committed to equipping you with the tools you need to\\nsucceed. That's why we've established a straightforward policy to provide you with the\\nnecessary hardware for your professional tasks, whether it's for daily operations or\\ninnovative projects.\\nWho's Eligible?\\nFull-time employees that cooperate with the Company on a freelance or in-house basis.\\nOption 1\\nYou can use your personal device.\\nAmortization will be added on a monthly basis to your compensation.\\n●\\nFor non production specialists amount of 1000$ divided for 3 years.\\n●\\nFor roles directly involved in the development process, a budget of $1,500 is\\nallocated per person for hardware, to be utilized over a three-year period.\\nOption 2\\nIf you are unable to use your own device and would like to request corporate hardware.\\nIn such case\\n1.\\nPlease contact your HR;\\n2.\\nHR will check availability of hardware;\\n3.\\nIn case hardware is available, please sign agreement about use of corporate\\nhardware (link to its template);\\n4.\\nShare you delivery address.\\nOption 3\\nIf you are unable to use your own device and there is no available corporate hardware.\\nOR\\nIf you are unable to use your current own device and want to buy a new one.\\nCompany can help you buy hardware.\\nImportant\\n●\\nYou must work in the Company for 1 month at least\\n●\\nCosts of hardware should not exceed 50% of your monthly compensation.\\n.\\nProcess\\n1.\\nReach out to HR and communicate your desire to choose option 3 and mention\\nyour justification.\\n2.\\nChoose hardware, desired installment plan and share details with HR.\\n3.\\nHR gets approval from CEO\\n4.\\nThe cost of the hardware will be deducted from your monthly salary in fixed\\ninstallments, dependent on the length of your cooperation. The deduction will\\ncontinue each month in US dollars until the full payment is complete.\\n5.\\nThe employee is required to formally acknowledge receipt of a company loan by\\nsigning a document. This document serves as confirmation of the employee's\\ncommitment to fulfilling their loan payment obligations.\\n6.\\nUntil the hardware is fully paid for, it remains the property of the company. The\\nemployee is responsible for the proper use and maintenance of the equipment in\\naccordance with company policies.\\nRemember!\\nIf none of the available options meets your needs, please remember that each situation\\nis unique. We encourage you to contact HR to discuss your specific circumstances and\\nexplore further assistance.\\n\"]\n"
     ]
    }
   ],
   "execution_count": 19
  },
  {
   "metadata": {
    "ExecuteTime": {
     "end_time": "2024-10-15T06:27:46.469338Z",
     "start_time": "2024-10-15T06:27:46.458416Z"
    }
   },
   "cell_type": "code",
   "source": "df",
   "id": "c9246279b2e79c3b",
   "outputs": [
    {
     "data": {
      "text/plain": [
       "                                                 text  \\\n",
       "0   Certification & Education reimbursement policy...   \n",
       "1   Time tracking People Force .pdf\\n\\nTime tracki...   \n",
       "2   Time tracking People Force .pdf\\n\\nспівробітни...   \n",
       "3   Time tracking People Force .pdf\\n\\nHead of Sal...   \n",
       "4   Time tracking People Force .pdf\\n\\nцього приво...   \n",
       "5   Time tracking People Force .pdf\\n\\nз іншими не...   \n",
       "6   Time tracking People Force .pdf\\n\\nTasks створ...   \n",
       "7   Time tracking People Force .pdf\\n\\nповідомляє ...   \n",
       "8   Time tracking People Force .pdf\\n\\nHR необхідн...   \n",
       "9   Onboarding Presentation 2024.pdf\\n\\nWelcome to...   \n",
       "10  Onboarding Presentation 2024.pdf\\n\\nclients, s...   \n",
       "11  Onboarding Presentation 2024.pdf\\n\\nas Sloboda...   \n",
       "12  Onboarding Presentation 2024.pdf\\n\\nin \\na \\nr...   \n",
       "13  Sunflower game.pdf\\n\\nSunflower game\\nAt Slobo...   \n",
       "14  Vacation policy.pdf\\n\\nVacation and Sick Leave...   \n",
       "15  Hardware provision policy.pdf\\n\\nHardware Prov...   \n",
       "\n",
       "                                            embedding  \n",
       "0   [0.010979884304106236, 0.0063405423425138, 0.0...  \n",
       "1   [-0.044048428535461426, 0.05170198529958725, -...  \n",
       "2   [-0.03341351076960564, 0.04654759168624878, 0....  \n",
       "3   [-0.03960372135043144, 0.06344015151262283, 0....  \n",
       "4   [-0.04740346968173981, 0.0653124749660492, -0....  \n",
       "5   [-0.047159258276224136, 0.06108080968260765, -...  \n",
       "6   [-0.02253440022468567, 0.0616401806473732, -0....  \n",
       "7   [-0.03658929467201233, 0.05917266756296158, 0....  \n",
       "8   [-0.04666323587298393, 0.058744896203279495, 0...  \n",
       "9   [-0.026788972318172455, 0.03693313151597977, -...  \n",
       "10  [0.00113228103145957, 0.04001813754439354, 0.0...  \n",
       "11  [0.013876202516257763, 0.0037309995386749506, ...  \n",
       "12  [-0.021718019619584084, 0.033696889877319336, ...  \n",
       "13  [-0.02711479179561138, 0.01909453608095646, 0....  \n",
       "14  [-0.05464901775121689, 0.03216211497783661, 0....  \n",
       "15  [-0.013204439543187618, 0.03800774738192558, 0...  "
      ],
      "text/html": [
       "<div>\n",
       "<style scoped>\n",
       "    .dataframe tbody tr th:only-of-type {\n",
       "        vertical-align: middle;\n",
       "    }\n",
       "\n",
       "    .dataframe tbody tr th {\n",
       "        vertical-align: top;\n",
       "    }\n",
       "\n",
       "    .dataframe thead th {\n",
       "        text-align: right;\n",
       "    }\n",
       "</style>\n",
       "<table border=\"1\" class=\"dataframe\">\n",
       "  <thead>\n",
       "    <tr style=\"text-align: right;\">\n",
       "      <th></th>\n",
       "      <th>text</th>\n",
       "      <th>embedding</th>\n",
       "    </tr>\n",
       "  </thead>\n",
       "  <tbody>\n",
       "    <tr>\n",
       "      <th>0</th>\n",
       "      <td>Certification &amp; Education reimbursement policy...</td>\n",
       "      <td>[0.010979884304106236, 0.0063405423425138, 0.0...</td>\n",
       "    </tr>\n",
       "    <tr>\n",
       "      <th>1</th>\n",
       "      <td>Time tracking People Force .pdf\\n\\nTime tracki...</td>\n",
       "      <td>[-0.044048428535461426, 0.05170198529958725, -...</td>\n",
       "    </tr>\n",
       "    <tr>\n",
       "      <th>2</th>\n",
       "      <td>Time tracking People Force .pdf\\n\\nспівробітни...</td>\n",
       "      <td>[-0.03341351076960564, 0.04654759168624878, 0....</td>\n",
       "    </tr>\n",
       "    <tr>\n",
       "      <th>3</th>\n",
       "      <td>Time tracking People Force .pdf\\n\\nHead of Sal...</td>\n",
       "      <td>[-0.03960372135043144, 0.06344015151262283, 0....</td>\n",
       "    </tr>\n",
       "    <tr>\n",
       "      <th>4</th>\n",
       "      <td>Time tracking People Force .pdf\\n\\nцього приво...</td>\n",
       "      <td>[-0.04740346968173981, 0.0653124749660492, -0....</td>\n",
       "    </tr>\n",
       "    <tr>\n",
       "      <th>5</th>\n",
       "      <td>Time tracking People Force .pdf\\n\\nз іншими не...</td>\n",
       "      <td>[-0.047159258276224136, 0.06108080968260765, -...</td>\n",
       "    </tr>\n",
       "    <tr>\n",
       "      <th>6</th>\n",
       "      <td>Time tracking People Force .pdf\\n\\nTasks створ...</td>\n",
       "      <td>[-0.02253440022468567, 0.0616401806473732, -0....</td>\n",
       "    </tr>\n",
       "    <tr>\n",
       "      <th>7</th>\n",
       "      <td>Time tracking People Force .pdf\\n\\nповідомляє ...</td>\n",
       "      <td>[-0.03658929467201233, 0.05917266756296158, 0....</td>\n",
       "    </tr>\n",
       "    <tr>\n",
       "      <th>8</th>\n",
       "      <td>Time tracking People Force .pdf\\n\\nHR необхідн...</td>\n",
       "      <td>[-0.04666323587298393, 0.058744896203279495, 0...</td>\n",
       "    </tr>\n",
       "    <tr>\n",
       "      <th>9</th>\n",
       "      <td>Onboarding Presentation 2024.pdf\\n\\nWelcome to...</td>\n",
       "      <td>[-0.026788972318172455, 0.03693313151597977, -...</td>\n",
       "    </tr>\n",
       "    <tr>\n",
       "      <th>10</th>\n",
       "      <td>Onboarding Presentation 2024.pdf\\n\\nclients, s...</td>\n",
       "      <td>[0.00113228103145957, 0.04001813754439354, 0.0...</td>\n",
       "    </tr>\n",
       "    <tr>\n",
       "      <th>11</th>\n",
       "      <td>Onboarding Presentation 2024.pdf\\n\\nas Sloboda...</td>\n",
       "      <td>[0.013876202516257763, 0.0037309995386749506, ...</td>\n",
       "    </tr>\n",
       "    <tr>\n",
       "      <th>12</th>\n",
       "      <td>Onboarding Presentation 2024.pdf\\n\\nin \\na \\nr...</td>\n",
       "      <td>[-0.021718019619584084, 0.033696889877319336, ...</td>\n",
       "    </tr>\n",
       "    <tr>\n",
       "      <th>13</th>\n",
       "      <td>Sunflower game.pdf\\n\\nSunflower game\\nAt Slobo...</td>\n",
       "      <td>[-0.02711479179561138, 0.01909453608095646, 0....</td>\n",
       "    </tr>\n",
       "    <tr>\n",
       "      <th>14</th>\n",
       "      <td>Vacation policy.pdf\\n\\nVacation and Sick Leave...</td>\n",
       "      <td>[-0.05464901775121689, 0.03216211497783661, 0....</td>\n",
       "    </tr>\n",
       "    <tr>\n",
       "      <th>15</th>\n",
       "      <td>Hardware provision policy.pdf\\n\\nHardware Prov...</td>\n",
       "      <td>[-0.013204439543187618, 0.03800774738192558, 0...</td>\n",
       "    </tr>\n",
       "  </tbody>\n",
       "</table>\n",
       "</div>"
      ]
     },
     "execution_count": 24,
     "metadata": {},
     "output_type": "execute_result"
    }
   ],
   "execution_count": 24
  },
  {
   "metadata": {},
   "cell_type": "markdown",
   "source": [
    "## 1.3. Store document chunks and embeddings\n",
    "\n",
    "We'll store them in a CSV file.\n",
    "\n",
    "(For larger datasets, use a vector database, which will be more performant.)"
   ],
   "id": "3ff53637c50775d2"
  },
  {
   "metadata": {
    "ExecuteTime": {
     "end_time": "2024-10-15T06:26:42.411977Z",
     "start_time": "2024-10-15T06:26:42.387239Z"
    }
   },
   "cell_type": "code",
   "source": [
    "# save document chunks and embeddings\n",
    "df.to_csv(EMBEDDING_PATH, index=False)"
   ],
   "id": "2fd6d36a1cef6ad2",
   "outputs": [],
   "execution_count": 21
  },
  {
   "metadata": {},
   "cell_type": "markdown",
   "source": [
    "# 2. Chat functionality\n",
    "\n",
    "This is an independent part for searching/asking process, based on the indexed data, collected, processed and saved in the part 1 of tis notebook\n",
    "\n",
    "Contents:\n",
    "1. Get prepared data\n",
    "2. Search\n",
    "3. Ask"
   ],
   "id": "d3ed2ee59d5e801b"
  },
  {
   "metadata": {},
   "cell_type": "markdown",
   "source": [
    "# 2.1 Get prepared search data\n",
    "\n",
    "This data was prepared and saved in the section 1 of this notebook. "
   ],
   "id": "9a2c9f80ea1cc6e8"
  },
  {
   "metadata": {
    "ExecuteTime": {
     "end_time": "2024-10-15T06:26:52.976665Z",
     "start_time": "2024-10-15T06:26:52.931797Z"
    }
   },
   "cell_type": "code",
   "source": [
    "df = pd.read_csv(EMBEDDING_PATH)\n",
    "\n",
    "# convert embeddings from CSV str type back to list type\n",
    "df['embedding'] = df['embedding'].apply(ast.literal_eval)"
   ],
   "id": "7a30e29cfc1c975e",
   "outputs": [],
   "execution_count": 22
  },
  {
   "metadata": {
    "ExecuteTime": {
     "end_time": "2024-10-15T06:26:55.472396Z",
     "start_time": "2024-10-15T06:26:55.462417Z"
    }
   },
   "cell_type": "code",
   "source": "df",
   "id": "6ed145a34123fc4b",
   "outputs": [
    {
     "data": {
      "text/plain": [
       "                                                 text  \\\n",
       "0   Certification & Education reimbursement policy...   \n",
       "1   Time tracking People Force .pdf\\n\\nTime tracki...   \n",
       "2   Time tracking People Force .pdf\\n\\nспівробітни...   \n",
       "3   Time tracking People Force .pdf\\n\\nHead of Sal...   \n",
       "4   Time tracking People Force .pdf\\n\\nцього приво...   \n",
       "5   Time tracking People Force .pdf\\n\\nз іншими не...   \n",
       "6   Time tracking People Force .pdf\\n\\nTasks створ...   \n",
       "7   Time tracking People Force .pdf\\n\\nповідомляє ...   \n",
       "8   Time tracking People Force .pdf\\n\\nHR необхідн...   \n",
       "9   Onboarding Presentation 2024.pdf\\n\\nWelcome to...   \n",
       "10  Onboarding Presentation 2024.pdf\\n\\nclients, s...   \n",
       "11  Onboarding Presentation 2024.pdf\\n\\nas Sloboda...   \n",
       "12  Onboarding Presentation 2024.pdf\\n\\nin \\na \\nr...   \n",
       "13  Sunflower game.pdf\\n\\nSunflower game\\nAt Slobo...   \n",
       "14  Vacation policy.pdf\\n\\nVacation and Sick Leave...   \n",
       "15  Hardware provision policy.pdf\\n\\nHardware Prov...   \n",
       "\n",
       "                                            embedding  \n",
       "0   [0.010979884304106236, 0.0063405423425138, 0.0...  \n",
       "1   [-0.044048428535461426, 0.05170198529958725, -...  \n",
       "2   [-0.03341351076960564, 0.04654759168624878, 0....  \n",
       "3   [-0.03960372135043144, 0.06344015151262283, 0....  \n",
       "4   [-0.04740346968173981, 0.0653124749660492, -0....  \n",
       "5   [-0.047159258276224136, 0.06108080968260765, -...  \n",
       "6   [-0.02253440022468567, 0.0616401806473732, -0....  \n",
       "7   [-0.03658929467201233, 0.05917266756296158, 0....  \n",
       "8   [-0.04666323587298393, 0.058744896203279495, 0...  \n",
       "9   [-0.026788972318172455, 0.03693313151597977, -...  \n",
       "10  [0.00113228103145957, 0.04001813754439354, 0.0...  \n",
       "11  [0.013876202516257763, 0.0037309995386749506, ...  \n",
       "12  [-0.021718019619584084, 0.033696889877319336, ...  \n",
       "13  [-0.02711479179561138, 0.01909453608095646, 0....  \n",
       "14  [-0.05464901775121689, 0.03216211497783661, 0....  \n",
       "15  [-0.013204439543187618, 0.03800774738192558, 0...  "
      ],
      "text/html": [
       "<div>\n",
       "<style scoped>\n",
       "    .dataframe tbody tr th:only-of-type {\n",
       "        vertical-align: middle;\n",
       "    }\n",
       "\n",
       "    .dataframe tbody tr th {\n",
       "        vertical-align: top;\n",
       "    }\n",
       "\n",
       "    .dataframe thead th {\n",
       "        text-align: right;\n",
       "    }\n",
       "</style>\n",
       "<table border=\"1\" class=\"dataframe\">\n",
       "  <thead>\n",
       "    <tr style=\"text-align: right;\">\n",
       "      <th></th>\n",
       "      <th>text</th>\n",
       "      <th>embedding</th>\n",
       "    </tr>\n",
       "  </thead>\n",
       "  <tbody>\n",
       "    <tr>\n",
       "      <th>0</th>\n",
       "      <td>Certification &amp; Education reimbursement policy...</td>\n",
       "      <td>[0.010979884304106236, 0.0063405423425138, 0.0...</td>\n",
       "    </tr>\n",
       "    <tr>\n",
       "      <th>1</th>\n",
       "      <td>Time tracking People Force .pdf\\n\\nTime tracki...</td>\n",
       "      <td>[-0.044048428535461426, 0.05170198529958725, -...</td>\n",
       "    </tr>\n",
       "    <tr>\n",
       "      <th>2</th>\n",
       "      <td>Time tracking People Force .pdf\\n\\nспівробітни...</td>\n",
       "      <td>[-0.03341351076960564, 0.04654759168624878, 0....</td>\n",
       "    </tr>\n",
       "    <tr>\n",
       "      <th>3</th>\n",
       "      <td>Time tracking People Force .pdf\\n\\nHead of Sal...</td>\n",
       "      <td>[-0.03960372135043144, 0.06344015151262283, 0....</td>\n",
       "    </tr>\n",
       "    <tr>\n",
       "      <th>4</th>\n",
       "      <td>Time tracking People Force .pdf\\n\\nцього приво...</td>\n",
       "      <td>[-0.04740346968173981, 0.0653124749660492, -0....</td>\n",
       "    </tr>\n",
       "    <tr>\n",
       "      <th>5</th>\n",
       "      <td>Time tracking People Force .pdf\\n\\nз іншими не...</td>\n",
       "      <td>[-0.047159258276224136, 0.06108080968260765, -...</td>\n",
       "    </tr>\n",
       "    <tr>\n",
       "      <th>6</th>\n",
       "      <td>Time tracking People Force .pdf\\n\\nTasks створ...</td>\n",
       "      <td>[-0.02253440022468567, 0.0616401806473732, -0....</td>\n",
       "    </tr>\n",
       "    <tr>\n",
       "      <th>7</th>\n",
       "      <td>Time tracking People Force .pdf\\n\\nповідомляє ...</td>\n",
       "      <td>[-0.03658929467201233, 0.05917266756296158, 0....</td>\n",
       "    </tr>\n",
       "    <tr>\n",
       "      <th>8</th>\n",
       "      <td>Time tracking People Force .pdf\\n\\nHR необхідн...</td>\n",
       "      <td>[-0.04666323587298393, 0.058744896203279495, 0...</td>\n",
       "    </tr>\n",
       "    <tr>\n",
       "      <th>9</th>\n",
       "      <td>Onboarding Presentation 2024.pdf\\n\\nWelcome to...</td>\n",
       "      <td>[-0.026788972318172455, 0.03693313151597977, -...</td>\n",
       "    </tr>\n",
       "    <tr>\n",
       "      <th>10</th>\n",
       "      <td>Onboarding Presentation 2024.pdf\\n\\nclients, s...</td>\n",
       "      <td>[0.00113228103145957, 0.04001813754439354, 0.0...</td>\n",
       "    </tr>\n",
       "    <tr>\n",
       "      <th>11</th>\n",
       "      <td>Onboarding Presentation 2024.pdf\\n\\nas Sloboda...</td>\n",
       "      <td>[0.013876202516257763, 0.0037309995386749506, ...</td>\n",
       "    </tr>\n",
       "    <tr>\n",
       "      <th>12</th>\n",
       "      <td>Onboarding Presentation 2024.pdf\\n\\nin \\na \\nr...</td>\n",
       "      <td>[-0.021718019619584084, 0.033696889877319336, ...</td>\n",
       "    </tr>\n",
       "    <tr>\n",
       "      <th>13</th>\n",
       "      <td>Sunflower game.pdf\\n\\nSunflower game\\nAt Slobo...</td>\n",
       "      <td>[-0.02711479179561138, 0.01909453608095646, 0....</td>\n",
       "    </tr>\n",
       "    <tr>\n",
       "      <th>14</th>\n",
       "      <td>Vacation policy.pdf\\n\\nVacation and Sick Leave...</td>\n",
       "      <td>[-0.05464901775121689, 0.03216211497783661, 0....</td>\n",
       "    </tr>\n",
       "    <tr>\n",
       "      <th>15</th>\n",
       "      <td>Hardware provision policy.pdf\\n\\nHardware Prov...</td>\n",
       "      <td>[-0.013204439543187618, 0.03800774738192558, 0...</td>\n",
       "    </tr>\n",
       "  </tbody>\n",
       "</table>\n",
       "</div>"
      ]
     },
     "execution_count": 23,
     "metadata": {},
     "output_type": "execute_result"
    }
   ],
   "execution_count": 23
  },
  {
   "metadata": {},
   "cell_type": "markdown",
   "source": [
    "## 2.2. Search\n",
    "\n",
    "Now we'll define a search function that:\n",
    "- Takes a user query and a dataframe with text & embedding columns\n",
    "- Embeds the user query with the OpenAI API\n",
    "- Uses distance between query embedding and text embeddings to rank the texts\n",
    "- Returns two lists:\n",
    "    - The top N texts, ranked by relevance\n",
    "    - Their corresponding relevance scores"
   ],
   "id": "2a37eed19f03f9ec"
  },
  {
   "metadata": {
    "ExecuteTime": {
     "end_time": "2024-10-15T06:29:12.913841Z",
     "start_time": "2024-10-15T06:29:12.909962Z"
    }
   },
   "cell_type": "code",
   "source": [
    "# search function\n",
    "def strings_ranked_by_relatedness(\n",
    "    query: str,\n",
    "    df: pd.DataFrame,\n",
    "    relatedness_fn=lambda x, y: 1 - spatial.distance.cosine(x, y),\n",
    "    top_n: int = 100\n",
    ") -> tuple[list[str], list[float]]:\n",
    "    \"\"\"Returns a list of strings and relatednesses, sorted from most related to least.\"\"\"\n",
    "    query_embedding_response = client.embeddings.create(\n",
    "        model=EMBEDDING_MODEL,\n",
    "        input=query,\n",
    "    )\n",
    "    query_embedding = query_embedding_response.data[0].embedding\n",
    "    strings_and_relatednesses = [\n",
    "        (row[\"text\"], relatedness_fn(query_embedding, row[\"embedding\"]))\n",
    "        for i, row in df.iterrows()\n",
    "    ]\n",
    "    strings_and_relatednesses.sort(key=lambda x: x[1], reverse=True)\n",
    "    strings, relatednesses = zip(*strings_and_relatednesses)\n",
    "    return strings[:top_n], relatednesses[:top_n]"
   ],
   "id": "f906870d86ce286c",
   "outputs": [],
   "execution_count": 25
  },
  {
   "metadata": {
    "ExecuteTime": {
     "end_time": "2024-10-15T06:30:46.720706Z",
     "start_time": "2024-10-15T06:30:45.767666Z"
    }
   },
   "cell_type": "code",
   "source": [
    "search_query = \"What is the best way to get highest score in sunflower game?\"\n",
    "\n",
    "strings, relatednesses = strings_ranked_by_relatedness(search_query, df, top_n=5)\n",
    "for string, relatedness in zip(strings, relatednesses):\n",
    "    print(f\"{relatedness=:.3f}\")\n",
    "    display(string)"
   ],
   "id": "3d12f999d1cf90d4",
   "outputs": [
    {
     "name": "stdout",
     "output_type": "stream",
     "text": [
      "relatedness=0.479\n"
     ]
    },
    {
     "data": {
      "text/plain": [
       "\"Sunflower game.pdf\\n\\nSunflower game\\nAt Sloboda Studio, we believe the foundation of success is the collective effort\\nand creativity of our team. You're not just doing your job; you're fueling our\\ngrowth by recommending us, sharing our vision, innovating for our future,\\nand so much more.\\nWe're immensely grateful for your contributions - and we think it's\\nimportant that your efforts blossomed into rewards. Enter the Sunflower\\nGame, a playful yet rewarding way to earn delightful perks.\\nHow It Works\\nAs you shine in your role and sprinkle a little extra magic, you'll gather\\nSunflower Points (☀️) across various categories. These points can be\\nexchanged for enticing rewards from our prize pool.\\nEarning Sunflower Points\\nHere’s how you can brighten your garden:\\nCategories and options:\\nCategory\\nDetails\\nPoints\\nCompany Development\\nIdea\\nPropose new processes, tools for improved\\ndepartment functionality, or innovative\\nlanguages. Share your thoughts with the\\nCEO, HR, or PM.\\n10☀️\\nProject Enhancement\\nIdea\\nSuggest new features, analytics\\nenhancements, solutions, frameworks, or\\nlogic overhauls.\\n10☀️\\nClient Appreciation\\nEarn it for outstanding work or fostering\\npositive interactions.\\n15☀️\\nPeer Appreciation\\nFor lending a hand, offering support, or\\nenhancing our work environment.\\n10☀️\\nMentorship\\nTake on the mentor role and guide our\\ngrowing talents.\\n10☀️\\nCandidate Referral\\nRecommend a friend or acquaintance to\\njoin our team.\\n20☀️\\nMarketing Article\\nAssistance\\nSupport our marketing team with your\\ntechnical expertise.\\n20☀️\\nPublic Speaking\\nRepresent us at conferences, meetups, or\\ninternal trainings.\\n50☀️\\nWriting Articles for Our\\nDiscourse\\nContribute your expertise and insights by\\nwriting articles for our Discourse platform,\\nenriching our community's knowledge and\\nengagement.\\n10☀️\\nSocial Media\\nEngagement\\nParticipate in flash mobs or mention us in\\nyour posts using our hashtags.\\n15☀️\\nCompany Post\\nReposting\\nShare our social media publications.\\n5☀️\\nUpsell\\nHelp expand our current project scope or\\naccount by signaling client interests to\\nmanagers.\\n20☀️\\nOvertime (Discouraged)\\nRecognized at the end of each month for\\nadditional hours contributed.\\n10☀️\\nNomination and Redemption\\nPoints can be nominated by:\\n●\\nYour Manager: For project ideas, client thanks, etc.\\n●\\nHR: For mentorship, social media posts or etc.\\n●\\nYou: Directly, for appreciating a colleague's effort or initiating\\nhelp/ideas.\\nTo exchange points or for any queries and suggestions, reach out to\\n.\\nDaryna Kuzmenko\\n\""
      ]
     },
     "metadata": {},
     "output_type": "display_data"
    },
    {
     "name": "stdout",
     "output_type": "stream",
     "text": [
      "relatedness=0.223\n"
     ]
    },
    {
     "data": {
      "text/plain": [
       "\"Onboarding Presentation 2024.pdf\\n\\nin \\na \\nrelaxed \\nand \\nenjoyable atmosphere.\\n➔\\nSloboda Challenges: Exciting monthly \\nchallenges \\nthat \\nadd \\na \\ntouch \\nof \\nplayfulness to our routine, you can have \\nfun and win a prize.\\nEvents\\nFree English lessons\\nCorporate English lessons at 4 \\nlevels (Pre-Intermediate, \\nIntermediate, Upper-Intermediate, \\nAdvanced)\\nCertification coverage up \\nto $1,000. \\nExternal courses fund half \\nof fees and the full cost of \\nconferences (up to $1,000)\\nYou will find certification \\npolicy here.\\nWith care for you\\nReferral Program Bonuses for \\nattracting your friends and \\nex-colleagues to the company.\\nWe offer access to therapy \\nservices or can cover therapy \\nexpenses by 50% or up to 500 UAH \\nper session.\\nCovering 50% of costs for \\nwellness services, like massages, \\nand medical check-ups, ensuring \\nyou feel cared for and valued.\\nIf you're getting married or having \\na newborn child, give us a heads \\nup, and we'll congratulate you \\nwith a nice bonus.\\nWith care for you\\nSunflower game\\nInternal rewards program\\nCompensation for sports \\n(20$) and external \\ncourses of English (20$) \\nper month, Amortization \\n(20$) for hardware use.\\n18 work days off & 5 paid \\nsick days. Vacation \\npolicy.\\nThe max. number of \\nunused vacation days is \\n27. Vacation days do not \\nexpire, but they stop \\naccumulating after 27 \\nunused days. \\nThe company gifts $50 \\nfor each work \\nanniversary, \\naccumulating yearly. \\nFor example, you'll \\nreceive $100 for two \\nyears, $150 for three \\nyears, and so on.\\n                        \\nUseful links\\nQ&A with CEO \\nDiscourse \\nSloboda Inner Documents\\nWe are in Social Media\\n                        \\nNext steps\\nIn a week\\nOnboarding tasks \\ncompletion, 1-1 with HR\\nIn two weeks\\nFirst milestone.   Feedback \\ncollection from you, from \\nyour manager, onboarding \\nsurvey\\nIn one month\\nSecond milestone. \\nFeedback collection from \\nyou, from your manager, \\nfrom a client if any\\nTwo months\\nThird  milestone. Feedback \\ncollection from you, from \\nyour manager, from a \\nclient if any\\nThree months\\nFourth  milestone.    \\nFeedback collection. \\nProbation period results. \\nAdaptation process ends\\nToday\\nFirst day, introduction to \\ninternal platforms and \\nprocesses, adaptation \\nprocess begins \\nWith the first\\nworking day!\\n\""
      ]
     },
     "metadata": {},
     "output_type": "display_data"
    },
    {
     "name": "stdout",
     "output_type": "stream",
     "text": [
      "relatedness=0.119\n"
     ]
    },
    {
     "data": {
      "text/plain": [
       "\"Onboarding Presentation 2024.pdf\\n\\nas Sloboda Talks, Tech Talks, Yoga Hour, etc. \\n3.\\nBreak Time Hub: Where we step away for a \\nmoment. Share when you're on a break or \\naway from your desk, and reconnect when \\nyou're back!\\n4.\\nGeneral Announcements: A central space \\nfor important updates and news relevant \\nto all employees across the company.\\n5.\\nDevelopment Hub: This space is \\ndedicated to sending inquiries related to \\ntechnologies and development. \\nPersonal signature in email\\nEach specialist must have a single corporate signature when sending letters.\\nTo do it, you need:\\n1.\\nTo visit https://www.hubspot.com/email-signature-generator\\n2.\\nIn the first section choose Template #3\\n3.\\nIn the second section, fill in the following fields: First Name, Last Name, Job Title, Company \\nName - Sloboda Studio, Mobile Phone Number, Website URL https://sloboda-studio.com/, \\nEmail Address, Custom Field Web Development with Care \\nNB: The rest of the fields do not need to be filled in.\\n4.\\nIn the third section, you need to choose colors for the signature. Copy and paste these \\nvalues: Select Theme Color FFEA00, Select Text Color 000000, Select Link Color FFEA00, Font \\nVerdana, Font Size Small.\\n5.\\nIn the fourth section, you need to upload your photo. Upload/find your photo on Google Disk, \\nmake it available to everyone and copy the link in the field Profile Picture.\\n6.\\nGreat, you have a new beautiful signature :) Now you have to copy Signature source code.\\n7.\\nOpen https://codebeautify.org/htmlviewer#  insert the code and open output in a separate \\nwindow. \\n8.\\nNow you need to copy and paste it in your mail.  Settings > Signature > Add new\\nSetting up gmail (optional)\\nCreate rules to filter \\nyour emails\\nHow to organize your \\nemails using Gmail \\nlabels\\n➔\\nSloboda \\nTalk: \\nWe \\nprovide \\nan \\neducational \\ncommunity \\nwhere \\ntech \\nleads in different fields share their \\nexperiences, \\nlife \\nhacks, \\nand \\ngive \\nguidance on work-related issues.\\n➔\\nSloboda Updates: Here, we learn about \\ncompany news and meet new team \\nmembers.\\n➔\\nSloboda Chronicles: Monthly digests \\nsharing stories about company life, \\nincluding birthdays, anniversaries, news, \\ncharity \\nupdates, \\nachievements, \\nmilestones etc.\\n➔\\nSloboda \\nConnect: \\nTeam-building \\nactivities once a month that bring the \\nteam \\ntogether \""
      ]
     },
     "metadata": {},
     "output_type": "display_data"
    },
    {
     "name": "stdout",
     "output_type": "stream",
     "text": [
      "relatedness=0.107\n"
     ]
    },
    {
     "data": {
      "text/plain": [
       "\"Vacation policy.pdf\\n\\nVacation and Sick Leave Policy\\nLeave Accrual\\nFor you, 18 days are accrued annually at a rate of 1.5 days per month.\\nWith 3+ years at Sloboda, this increases to 19 days, and 20 days for 5+ years.\\nUpon starting your probationary period, you're immediately entitled to 5 sick days per year, which\\ncan be taken as needed. Sick days are accrued annually starting from the date of hire as an in-house\\nemployee.\\nUsage\\nAccrual starts from day one, but leaves can be taken after 3 months. However, if we have already\\ncollaborated on a freelance basis for three months prior, vacation is accrued immediately and\\navailable the following month.\\nCoordinate leave requests two weeks ahead via our portal\\nExcess is paid in the next payroll.\\nCaps and Payouts\\nMaximum rollover is 27 days.\\nMonitor accrued leave on PF and in your personal payroll document.\\nPayouts are based on the average over the past 12 consecutive months.\\nUnused leaves are paid upon termination, but not for those failing probation.\\nPayout Calculation\\nFormula: [(Last 12 months' earnings) / (working days in that period)] * leave days. Only regular hours are\\nconsidered for this calculation.\\n\""
      ]
     },
     "metadata": {},
     "output_type": "display_data"
    },
    {
     "name": "stdout",
     "output_type": "stream",
     "text": [
      "relatedness=0.101\n"
     ]
    },
    {
     "data": {
      "text/plain": [
       "\"Certification & Education reimbursement policy.pdf\\n\\nCertification & Education Reimbursement Policy\\nAt Sloboda Studio, we're all about helping you grow professionally. That's why we've set\\nup a simple policy to support you in attending external courses and conferences or\\ngetting certifications that boost your skills.\\nWho's Eligible?\\nFull-time employees, with us for 6+ months.\\nHow to Apply?\\nJust chat with HR before starting your certification journey.\\nMoney Matters\\nFor Certification\\n●\\nPass the Certification: We cover the full cost (up to $1,000).\\n●\\nDon't Pass? No worries, we still cover half the cost within abovementioned limit.\\nFor external Courses\\n●\\nWe cover half the cost (up to $1,000).\\nFor Conferences\\n●\\nWe cover the full cost (up to $1,000) *\\n* prior Direct Manager approval is needed\\nRemember!\\nAfter the completion / pass: Show your certificate to HR, and we'll handle the payment.\\nEvery case is unique. We're here to discuss and assist further if you need it. Just reach\\nout to HR.\\n\""
      ]
     },
     "metadata": {},
     "output_type": "display_data"
    }
   ],
   "execution_count": 27
  },
  {
   "metadata": {},
   "cell_type": "markdown",
   "source": [
    "## 2.3. Ask\n",
    "\n",
    "With the search function above, we can now automatically retrieve relevant knowledge and insert it into messages to GPT.\n",
    "\n",
    "Below, we define a function `ask` that:\n",
    "- Takes a user query\n",
    "- Searches for text relevant to the query\n",
    "- Stuffs that text into a message for GPT\n",
    "- Sends the message to GPT\n",
    "- Returns GPT's answer"
   ],
   "id": "4a3322862a118a51"
  },
  {
   "metadata": {
    "ExecuteTime": {
     "end_time": "2024-10-15T06:35:37.054063Z",
     "start_time": "2024-10-15T06:35:37.048755Z"
    }
   },
   "cell_type": "code",
   "source": [
    "def num_tokens(text: str, model: str = GPT_MODEL) -> int:\n",
    "    \"\"\"Return the number of tokens in a string.\"\"\"\n",
    "    encoding = tiktoken.encoding_for_model(model)\n",
    "    return len(encoding.encode(text))\n",
    "\n",
    "\n",
    "def query_message(\n",
    "    query: str,\n",
    "    df: pd.DataFrame,\n",
    "    model: str,\n",
    "    token_budget: int\n",
    ") -> str:\n",
    "    \"\"\"Return a message for GPT, with relevant source texts pulled from a dataframe.\"\"\"\n",
    "    strings, relatednesses = strings_ranked_by_relatedness(query, df)\n",
    "    introduction = 'Use the below article to answer the subsequent question. If the answer cannot be found, write \"I dont know...\"'\n",
    "    question = f\"\\n\\nQuestion: {query}\"\n",
    "    message = introduction\n",
    "    for string in strings:\n",
    "        next_article = f'\\n\\nDoc section:\\n\"\"\"\\n{string}\\n\"\"\"'\n",
    "        if (\n",
    "            num_tokens(message + next_article + question, model=model)\n",
    "            > token_budget\n",
    "        ):\n",
    "            break\n",
    "        else:\n",
    "            message += next_article\n",
    "    return message + question\n",
    "\n",
    "\n",
    "def ask(\n",
    "    query: str,\n",
    "    df: pd.DataFrame = df,\n",
    "    model: str = GPT_MODEL,\n",
    "    token_budget: int = 4096 - 500,\n",
    "    print_message: bool = False,\n",
    ") -> str:\n",
    "    \"\"\"Answers a query using GPT and a dataframe of relevant texts and embeddings.\"\"\"\n",
    "    message = query_message(query, df, model=model, token_budget=token_budget)\n",
    "    if print_message:\n",
    "        print(message)\n",
    "    messages = [\n",
    "        {\"role\": \"system\", \"content\": \"You answer questions about Sloboda-studio internal rules\"},\n",
    "        {\"role\": \"user\", \"content\": message},\n",
    "    ]\n",
    "    response = client.chat.completions.create(\n",
    "        model=model,\n",
    "        messages=messages,\n",
    "        temperature=0\n",
    "    )\n",
    "        \n",
    "    response_message = response.choices[0].message.content\n",
    "    \n",
    "    print(\"\\n\\n>>> Usage: \", response.usage)\n",
    "    \n",
    "    return response_message"
   ],
   "id": "42a4472539f7605e",
   "outputs": [],
   "execution_count": 33
  },
  {
   "metadata": {
    "ExecuteTime": {
     "end_time": "2024-10-15T06:37:41.273688Z",
     "start_time": "2024-10-15T06:37:34.615114Z"
    }
   },
   "cell_type": "code",
   "source": "ask(search_query, token_budget=1500, print_message=False)",
   "id": "a76ac947052ae871",
   "outputs": [
    {
     "name": "stdout",
     "output_type": "stream",
     "text": [
      "\n",
      "\n",
      ">>> Usage:  CompletionUsage(completion_tokens=109, prompt_tokens=1212, total_tokens=1321, prompt_tokens_details={'cached_tokens': 1024}, completion_tokens_details={'reasoning_tokens': 0})\n"
     ]
    },
    {
     "data": {
      "text/plain": [
       "'The best way to get the highest score in the Sunflower Game is to participate in activities that earn the most Sunflower Points. The highest point-earning activity listed is \"Public Speaking,\" which awards 50☀️ points for representing the company at conferences, meetups, or internal trainings. Other high-scoring activities include \"Candidate Referral\" (20☀️ points) and \"Marketing Article Assistance\" (20☀️ points). Engaging in these activities, along with consistently contributing in other categories, will maximize your score.'"
      ]
     },
     "execution_count": 38,
     "metadata": {},
     "output_type": "execute_result"
    }
   ],
   "execution_count": 38
  },
  {
   "metadata": {},
   "cell_type": "code",
   "outputs": [],
   "execution_count": null,
   "source": "",
   "id": "db40defa7494b84c"
  }
 ],
 "metadata": {
  "kernelspec": {
   "display_name": "Python 3.9.9 ('openai')",
   "language": "python",
   "name": "python3"
  },
  "language_info": {
   "codemirror_mode": {
    "name": "ipython",
    "version": 3
   },
   "file_extension": ".py",
   "mimetype": "text/x-python",
   "name": "python",
   "nbconvert_exporter": "python",
   "pygments_lexer": "ipython3",
   "version": "3.10.5"
  },
  "vscode": {
   "interpreter": {
    "hash": "365536dcbde60510dc9073d6b991cd35db2d9bac356a11f5b64279a5e6708b97"
   }
  }
 },
 "nbformat": 4,
 "nbformat_minor": 5
}
