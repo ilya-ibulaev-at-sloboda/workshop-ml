{
 "cells": [
  {
   "metadata": {},
   "cell_type": "markdown",
   "source": "# Assistant with File-search ability",
   "id": "7f1f4ff818ca5aaf"
  },
  {
   "cell_type": "code",
   "id": "fe10a93072cbeb10",
   "metadata": {
    "collapsed": true,
    "ExecuteTime": {
     "end_time": "2024-10-11T11:42:23.815307Z",
     "start_time": "2024-10-11T11:42:23.812927Z"
    }
   },
   "source": [
    "import dotenv\n",
    "from openai import OpenAI"
   ],
   "outputs": [],
   "execution_count": 43
  },
  {
   "metadata": {
    "ExecuteTime": {
     "end_time": "2024-10-11T11:42:24.275472Z",
     "start_time": "2024-10-11T11:42:24.272726Z"
    }
   },
   "cell_type": "code",
   "source": [
    "dotenv.load_dotenv(\".env\")\n",
    "\n",
    "MODEL=\"gpt-4o-mini\""
   ],
   "id": "80b8eb163d7b8bc4",
   "outputs": [],
   "execution_count": 44
  },
  {
   "metadata": {
    "ExecuteTime": {
     "end_time": "2024-10-11T11:42:24.726170Z",
     "start_time": "2024-10-11T11:42:24.710907Z"
    }
   },
   "cell_type": "code",
   "source": "client = OpenAI()",
   "id": "cd5cdce26d040c07",
   "outputs": [],
   "execution_count": 45
  },
  {
   "metadata": {},
   "cell_type": "markdown",
   "source": "## Step 1: Create a new Assistant with File Search Enabled",
   "id": "feda4e2486d837ca"
  },
  {
   "metadata": {
    "ExecuteTime": {
     "end_time": "2024-10-11T11:42:30.053459Z",
     "start_time": "2024-10-11T11:42:29.227376Z"
    }
   },
   "cell_type": "code",
   "source": [
    "# Create a new assistant \n",
    "assistant = client.beta.assistants.create(\n",
    "  name=\"Sloboda documents assistant\",\n",
    "  instructions=\"You are an helpful assistant to help users find information in Sloboda Rules documents.\",\n",
    "  model=MODEL,\n",
    "  tools=[{\"type\": \"file_search\"}],\n",
    ")"
   ],
   "id": "initial_id",
   "outputs": [],
   "execution_count": 46
  },
  {
   "metadata": {},
   "cell_type": "markdown",
   "source": "## Step 2: Upload files and add them to a Vector Store",
   "id": "dcb17c16aa7e4c1b"
  },
  {
   "metadata": {
    "ExecuteTime": {
     "end_time": "2024-10-11T11:42:36.001210Z",
     "start_time": "2024-10-11T11:42:31.797946Z"
    }
   },
   "cell_type": "code",
   "source": [
    "# Create a vector store caled \"Financial Statements\"\n",
    "vector_store = client.beta.vector_stores.create(name=\"Sloboda Rules\")\n",
    " \n",
    "# Ready the files for upload to OpenAI\n",
    "file_paths = [\n",
    "  \"data/raw/Hardware provision policy.pdf\",\n",
    "  \"data/raw/Sunflower game.pdf\",\n",
    "  \"data/raw/Vacation policy.pdf\",\n",
    "]\n",
    "file_streams = [open(path, \"rb\") for path in file_paths]\n",
    " \n",
    "# Use the upload and poll SDK helper to upload the files, add them to the vector store,\n",
    "# and poll the status of the file batch for completion.\n",
    "file_batch = client.beta.vector_stores.file_batches.upload_and_poll(\n",
    "  vector_store_id=vector_store.id, files=file_streams\n",
    ")\n",
    " \n",
    "# You can print the status and the file counts of the batch to see the result of this operation.\n",
    "print(file_batch.status)\n",
    "print(file_batch.file_counts)"
   ],
   "id": "4664229aed28d61c",
   "outputs": [
    {
     "name": "stdout",
     "output_type": "stream",
     "text": [
      "completed\n",
      "FileCounts(cancelled=0, completed=3, failed=0, in_progress=0, total=3)\n"
     ]
    }
   ],
   "execution_count": 47
  },
  {
   "metadata": {},
   "cell_type": "markdown",
   "source": "## Step 3: Update the assistant to use the new Vector Store",
   "id": "a98650ad47638c6b"
  },
  {
   "metadata": {
    "ExecuteTime": {
     "end_time": "2024-10-11T11:42:40.091542Z",
     "start_time": "2024-10-11T11:42:39.643061Z"
    }
   },
   "cell_type": "code",
   "source": [
    "assistant = client.beta.assistants.update(\n",
    "  assistant_id=assistant.id,\n",
    "  tool_resources={\"file_search\": {\"vector_store_ids\": [vector_store.id]}},\n",
    ")"
   ],
   "id": "a624b22920850c69",
   "outputs": [],
   "execution_count": 48
  },
  {
   "metadata": {},
   "cell_type": "markdown",
   "source": "## Step 4: Create a thread and message",
   "id": "4c9724c8382474be"
  },
  {
   "metadata": {
    "ExecuteTime": {
     "end_time": "2024-10-11T11:42:42.879815Z",
     "start_time": "2024-10-11T11:42:42.404008Z"
    }
   },
   "cell_type": "code",
   "source": "thread = client.beta.threads.create()",
   "id": "9b7a14dcd88593bd",
   "outputs": [],
   "execution_count": 49
  },
  {
   "metadata": {
    "ExecuteTime": {
     "end_time": "2024-10-11T11:42:46.811550Z",
     "start_time": "2024-10-11T11:42:46.463330Z"
    }
   },
   "cell_type": "code",
   "source": [
    "message = client.beta.threads.messages.create(\n",
    "    thread_id=thread.id,\n",
    "    role=\"user\",\n",
    "    content=\"What is Sunflower game?\",\n",
    ")"
   ],
   "id": "9d7caba08bb4c187",
   "outputs": [],
   "execution_count": 50
  },
  {
   "metadata": {},
   "cell_type": "markdown",
   "source": "## Step 5: Create a run and check the output",
   "id": "dc9666fa2cf6ce30"
  },
  {
   "metadata": {
    "ExecuteTime": {
     "end_time": "2024-10-11T11:42:57.140904Z",
     "start_time": "2024-10-11T11:42:48.526285Z"
    }
   },
   "cell_type": "code",
   "source": [
    "# Use the create and poll SDK helper to create a run and poll the status of\n",
    "# the run until it's in a terminal state.\n",
    "\n",
    "run = client.beta.threads.runs.create_and_poll(\n",
    "    thread_id=thread.id, \n",
    "    assistant_id=assistant.id,\n",
    ")\n",
    "\n",
    "messages = list(client.beta.threads.messages.list(thread_id=thread.id, run_id=run.id))"
   ],
   "id": "10ec9b51cbb8ce0d",
   "outputs": [],
   "execution_count": 51
  },
  {
   "metadata": {
    "ExecuteTime": {
     "end_time": "2024-10-11T11:42:58.683708Z",
     "start_time": "2024-10-11T11:42:58.680595Z"
    }
   },
   "cell_type": "code",
   "source": [
    "# message\n",
    "messages[0].content[0].text.value"
   ],
   "id": "6f4ace576774d486",
   "outputs": [
    {
     "data": {
      "text/plain": [
       "'The Sunflower Game is an initiative at Sloboda Studio designed to reward employees for their contributions and creativity. In this game, team members can earn \"Sunflower Points\" (☀) by participating in various activities aimed at improving company processes and encouraging positive interactions. These points can later be exchanged for rewards from a prize pool.\\n\\n### How It Works:\\nEmployees can earn points across different categories, including:\\n\\n- **Company Development Idea**: Propose new processes or tools (10☀).\\n- **Project Enhancement Idea**: Suggest features or solutions (10☀).\\n- **Client Appreciation**: Earned for outstanding work (15☀).\\n- **Peer Appreciation**: For helping colleagues (10☀).\\n- **Mentorship**: For guiding other team members (10☀).\\n- **Candidate Referral**: For recommending new hires (20☀).\\n- **Marketing Support**: Assisting the marketing team (20☀).\\n- **Public Speaking**: Representing the company at events (50☀).\\n- **Writing Articles**: Contributing content for internal platforms (10☀).\\n- **Social Media Engagement**: Participation in social media initiatives (15☀).\\n- **Company Post Reposting**: Sharing company publications (5☀).\\n\\nPoints can be nominated by managers, HR, or directly by employees for recognition of their efforts. Employees are encouraged to reach out for any queries regarding the exchange of points【4:0†source】.'"
      ]
     },
     "execution_count": 52,
     "metadata": {},
     "output_type": "execute_result"
    }
   ],
   "execution_count": 52
  },
  {
   "metadata": {
    "ExecuteTime": {
     "end_time": "2024-10-11T11:43:01.633906Z",
     "start_time": "2024-10-11T11:43:01.631272Z"
    }
   },
   "cell_type": "code",
   "source": [
    "# tokens used\n",
    "run.usage"
   ],
   "id": "496ddf1d997d430a",
   "outputs": [
    {
     "data": {
      "text/plain": [
       "Usage(completion_tokens=317, prompt_tokens=3147, total_tokens=3464)"
      ]
     },
     "execution_count": 53,
     "metadata": {},
     "output_type": "execute_result"
    }
   ],
   "execution_count": 53
  },
  {
   "metadata": {},
   "cell_type": "markdown",
   "source": "## Create another message in the same thread",
   "id": "30be3de379276619"
  },
  {
   "metadata": {
    "ExecuteTime": {
     "end_time": "2024-10-11T11:44:10.309482Z",
     "start_time": "2024-10-11T11:44:00.998177Z"
    }
   },
   "cell_type": "code",
   "source": [
    "client.beta.threads.messages.create(\n",
    "    thread_id=thread.id,\n",
    "    role=\"user\",\n",
    "    content=\"Can I get a free notebook from Sloboda?\",\n",
    "    # content=\"How are you?\",\n",
    "    # content=\"How can you hep me with sloboda rules?\",\n",
    ")\n",
    "run = client.beta.threads.runs.create_and_poll(\n",
    "    thread_id=thread.id,\n",
    "    assistant_id=assistant.id,\n",
    ")\n",
    "messages = list(client.beta.threads.messages.list(thread_id=thread.id, run_id=run.id))\n",
    "messages[0].content[0].text.value"
   ],
   "id": "ebe79a27999f3cdd",
   "outputs": [
    {
     "data": {
      "text/plain": [
       "\"Yes, you can obtain a notebook or other hardware from Sloboda, but it depends on your eligibility and whether corporate hardware is available. Here are the options available to you:\\n\\n1. **Using Your Personal Device**: If you opt to use your own device, you may receive a compensation amortization monthly, with specific amounts allocated based on your role.\\n\\n2. **Requesting Corporate Hardware**: If you cannot use your device, you can request corporate hardware. The process involves:\\n   - Contacting HR to check for availability.\\n   - Signing an agreement regarding the use of the hardware.\\n   - Providing your delivery address.\\n\\n3. **Buying New Hardware**: If corporate hardware isn't available and you wish to buy a new device, the company can assist you in purchasing it. However, you must have worked in the company for at least one month, and the costs should not exceed 50% of your monthly compensation【4:0†source】.\""
      ]
     },
     "execution_count": 58,
     "metadata": {},
     "output_type": "execute_result"
    }
   ],
   "execution_count": 58
  },
  {
   "metadata": {
    "ExecuteTime": {
     "end_time": "2024-10-11T11:44:12.296337Z",
     "start_time": "2024-10-11T11:44:12.293254Z"
    }
   },
   "cell_type": "code",
   "source": "run.usage",
   "id": "a580816689b43253",
   "outputs": [
    {
     "data": {
      "text/plain": [
       "Usage(completion_tokens=196, prompt_tokens=1289, total_tokens=1485)"
      ]
     },
     "execution_count": 59,
     "metadata": {},
     "output_type": "execute_result"
    }
   ],
   "execution_count": 59
  },
  {
   "metadata": {},
   "cell_type": "code",
   "outputs": [],
   "execution_count": null,
   "source": "",
   "id": "d340c356ced0eada"
  }
 ],
 "metadata": {
  "kernelspec": {
   "display_name": "Python 3",
   "language": "python",
   "name": "python3"
  },
  "language_info": {
   "codemirror_mode": {
    "name": "ipython",
    "version": 2
   },
   "file_extension": ".py",
   "mimetype": "text/x-python",
   "name": "python",
   "nbconvert_exporter": "python",
   "pygments_lexer": "ipython2",
   "version": "2.7.6"
  }
 },
 "nbformat": 4,
 "nbformat_minor": 5
}
