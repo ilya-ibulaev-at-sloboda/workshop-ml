{
 "cells": [
  {
   "metadata": {},
   "cell_type": "markdown",
   "source": "# Completion API + Context",
   "id": "a365321f0d4da858"
  },
  {
   "cell_type": "code",
   "id": "initial_id",
   "metadata": {
    "collapsed": true,
    "ExecuteTime": {
     "end_time": "2024-10-15T06:47:50.244179Z",
     "start_time": "2024-10-15T06:47:50.153038Z"
    }
   },
   "source": [
    "import os\n",
    "import dotenv\n",
    "import pymupdf\n",
    "from openai import OpenAI\n",
    "from decimal import Decimal"
   ],
   "outputs": [],
   "execution_count": 5
  },
  {
   "metadata": {
    "ExecuteTime": {
     "end_time": "2024-10-15T06:43:01.035825Z",
     "start_time": "2024-10-15T06:43:01.031659Z"
    }
   },
   "cell_type": "code",
   "source": [
    "dotenv.load_dotenv(\".env\")\n",
    "\n",
    "GPT_MODEL = \"gpt-4o-mini\"\n",
    "DOCUMENTS_FOLDER = os.getcwd() + \"/data/raw\" # the folder wit rqw PDFs"
   ],
   "id": "6ee9ed41c33fc320",
   "outputs": [],
   "execution_count": 2
  },
  {
   "metadata": {
    "ExecuteTime": {
     "end_time": "2024-10-15T06:43:08.937690Z",
     "start_time": "2024-10-15T06:43:08.907338Z"
    }
   },
   "cell_type": "code",
   "source": "client = OpenAI()",
   "id": "1de4f884b3773093",
   "outputs": [],
   "execution_count": 3
  },
  {
   "metadata": {},
   "cell_type": "markdown",
   "source": "## Let's collect all the knowledge base into one string",
   "id": "538cfb6d4d66540"
  },
  {
   "metadata": {
    "ExecuteTime": {
     "end_time": "2024-10-15T07:15:32.784764Z",
     "start_time": "2024-10-15T07:15:32.730424Z"
    }
   },
   "cell_type": "code",
   "source": [
    "docs_string = \"\"\n",
    "\n",
    "for filename in os.listdir(DOCUMENTS_FOLDER):\n",
    "    print(\"-- filename\", filename)\n",
    "    \n",
    "    text = \"\"\n",
    "    with pymupdf.open(os.path.join(DOCUMENTS_FOLDER, filename)) as doc:\n",
    "        for page in doc: # iterate the document pages\n",
    "            text += page.get_text()\n",
    "            \n",
    "    docs_string += f\"Document: {filename} \\n\\n {text} \\n\\n\"\n",
    "    \n",
    "f\"result string len is: {len(docs_string)} symbols\""
   ],
   "id": "63bde7964468875f",
   "outputs": [
    {
     "name": "stdout",
     "output_type": "stream",
     "text": [
      "-- filename Certification & Education reimbursement policy.pdf\n",
      "-- filename Time tracking People Force .pdf\n",
      "-- filename Onboarding Presentation 2024.pdf\n",
      "-- filename Sunflower game.pdf\n",
      "-- filename Vacation policy.pdf\n",
      "-- filename Hardware provision policy.pdf\n"
     ]
    },
    {
     "data": {
      "text/plain": [
       "'result string len is: 27774 symbols'"
      ]
     },
     "execution_count": 19,
     "metadata": {},
     "output_type": "execute_result"
    }
   ],
   "execution_count": 19
  },
  {
   "metadata": {
    "ExecuteTime": {
     "end_time": "2024-10-15T06:49:00.872048Z",
     "start_time": "2024-10-15T06:49:00.869869Z"
    }
   },
   "cell_type": "code",
   "source": "docs_string[:200]",
   "id": "a7cb0ffd2d810f56",
   "outputs": [
    {
     "data": {
      "text/plain": [
       "\"Document: Certification & Education reimbursement policy.pdf \\n\\n Certification & Education Reimbursement Policy\\nAt Sloboda Studio, we're all about helping you grow professionally. That's why we've set\\n\""
      ]
     },
     "execution_count": 9,
     "metadata": {},
     "output_type": "execute_result"
    }
   ],
   "execution_count": 9
  },
  {
   "metadata": {},
   "cell_type": "markdown",
   "source": "## Provide additional context to the bot",
   "id": "f67ce7317772a927"
  },
  {
   "metadata": {
    "ExecuteTime": {
     "end_time": "2024-10-15T06:52:02.385832Z",
     "start_time": "2024-10-15T06:52:02.383231Z"
    }
   },
   "cell_type": "code",
   "source": [
    "system_role = \"You answer questions about Sloboda-studio internal rules\"\n",
    "additional_context = \"Here is a document base to get information from: \\n\\n\" + docs_string\n",
    "question = \"What is the best way to get highest score in sunflower game?\""
   ],
   "id": "164dbd6c71629766",
   "outputs": [],
   "execution_count": 11
  },
  {
   "metadata": {},
   "cell_type": "markdown",
   "source": "Every request have to contain all the context of the conversation. In this case, we have to include the system role and the question.",
   "id": "6e84aa1e49b06dd2"
  },
  {
   "metadata": {
    "ExecuteTime": {
     "end_time": "2024-10-15T06:52:14.336567Z",
     "start_time": "2024-10-15T06:52:05.004065Z"
    }
   },
   "cell_type": "code",
   "source": [
    "response = client.chat.completions.create(\n",
    "    messages=[\n",
    "        {'role': 'system', 'content': system_role},\n",
    "        {'role': 'user', 'content': additional_context},\n",
    "        {'role': 'user', 'content': question},\n",
    "    ],\n",
    "    model=GPT_MODEL,\n",
    "    temperature=0,\n",
    ")\n",
    "# response"
   ],
   "id": "9541f2cc4cd0f0b1",
   "outputs": [],
   "execution_count": 12
  },
  {
   "metadata": {
    "ExecuteTime": {
     "end_time": "2024-10-15T06:52:25.226952Z",
     "start_time": "2024-10-15T06:52:25.223684Z"
    }
   },
   "cell_type": "code",
   "source": [
    "# The text of the response\n",
    "response.choices[0].message.content"
   ],
   "id": "d7d501977961a9ab",
   "outputs": [
    {
     "data": {
      "text/plain": [
       "'To achieve the highest score in the Sunflower Game at Sloboda Studio, you can focus on the following strategies:\\n\\n1. **Participate Actively**: Engage in various activities that earn you Sunflower Points. This includes:\\n   - Proposing new processes or tools for company improvement (10 points).\\n   - Suggesting enhancements for projects (10 points).\\n   - Earning points for outstanding work or positive client interactions (15 points).\\n   - Offering support to colleagues or enhancing the work environment (10 points).\\n   - Taking on mentorship roles (10 points).\\n   - Referring candidates to join the team (20 points).\\n   - Assisting the marketing team with technical expertise (20 points).\\n   - Representing the company at conferences or events (50 points).\\n   - Writing articles for the company’s Discourse platform (10 points).\\n   - Engaging in social media activities (15 points).\\n   - Upselling or expanding project scopes (20 points).\\n\\n2. **Focus on High-Value Activities**: Prioritize activities that offer more points, such as public speaking (50 points) and candidate referrals (20 points).\\n\\n3. **Be Proactive**: Regularly communicate your ideas and contributions to your manager or HR to ensure you are recognized for your efforts.\\n\\n4. **Collaborate and Support Others**: Helping colleagues and fostering a positive work environment can earn you peer appreciation points (10 points).\\n\\n5. **Stay Informed**: Keep an eye on company initiatives and opportunities to contribute, as these can lead to additional points.\\n\\nBy actively participating in these activities and being proactive in your contributions, you can maximize your Sunflower Points and achieve a high score in the game.'"
      ]
     },
     "execution_count": 14,
     "metadata": {},
     "output_type": "execute_result"
    }
   ],
   "execution_count": 14
  },
  {
   "metadata": {},
   "cell_type": "markdown",
   "source": "## Let's check the usage of the API",
   "id": "fbdd25d40df9b6e0"
  },
  {
   "metadata": {
    "ExecuteTime": {
     "end_time": "2024-10-15T06:52:34.117414Z",
     "start_time": "2024-10-15T06:52:34.113563Z"
    }
   },
   "cell_type": "code",
   "source": "response.usage",
   "id": "81e09e3424e90039",
   "outputs": [
    {
     "data": {
      "text/plain": [
       "CompletionUsage(completion_tokens=341, prompt_tokens=7446, total_tokens=7787, prompt_tokens_details={'cached_tokens': 0}, completion_tokens_details={'reasoning_tokens': 0})"
      ]
     },
     "execution_count": 15,
     "metadata": {},
     "output_type": "execute_result"
    }
   ],
   "execution_count": 15
  },
  {
   "metadata": {
    "ExecuteTime": {
     "end_time": "2024-10-15T06:52:39.289981Z",
     "start_time": "2024-10-15T06:52:39.286007Z"
    }
   },
   "cell_type": "code",
   "source": [
    "pricing = {\"input\": 0.6 / 1000000, \"output\": 0.3 / 1000000}\n",
    "usage = f\"Cost: ${Decimal(response.usage.prompt_tokens * pricing['input']) + Decimal(response.usage.completion_tokens * pricing['output'])}\"\n",
    "usage"
   ],
   "id": "747fe93379b5e5ae",
   "outputs": [
    {
     "data": {
      "text/plain": [
       "'Cost: $0.004569899999999999515905985126'"
      ]
     },
     "execution_count": 16,
     "metadata": {},
     "output_type": "execute_result"
    }
   ],
   "execution_count": 16
  }
 ],
 "metadata": {
  "kernelspec": {
   "display_name": "Python 3",
   "language": "python",
   "name": "python3"
  },
  "language_info": {
   "codemirror_mode": {
    "name": "ipython",
    "version": 2
   },
   "file_extension": ".py",
   "mimetype": "text/x-python",
   "name": "python",
   "nbconvert_exporter": "python",
   "pygments_lexer": "ipython2",
   "version": "2.7.6"
  }
 },
 "nbformat": 4,
 "nbformat_minor": 5
}
