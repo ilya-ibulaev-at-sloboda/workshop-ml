{
 "cells": [
  {
   "metadata": {},
   "cell_type": "markdown",
   "source": "# Regression",
   "id": "78338f05e2a26aaa"
  },
  {
   "metadata": {},
   "cell_type": "markdown",
   "source": [
    "## Classic regression solution using Scikit-Learn\n",
    "\n",
    "Let's use the California housing dataset. You can get it from Scikit-Learn library. Description of the dataset is available [here](https://scikit-learn.org/stable/modules/generated/sklearn.datasets.fetch_california_housing.html#sklearn.datasets.fetch_california_housing)"
   ],
   "id": "f63f9bd150ddebd8"
  },
  {
   "metadata": {
    "ExecuteTime": {
     "end_time": "2024-10-16T09:07:21.932885Z",
     "start_time": "2024-10-16T09:07:21.928545Z"
    }
   },
   "cell_type": "code",
   "source": [
    "# Dirty patch to fix SSL error\n",
    "import os, ssl\n",
    "if (not os.environ.get('PYTHONHTTPSVERIFY', '') and\n",
    "    getattr(ssl, '_create_unverified_context', None)): \n",
    "    ssl._create_default_https_context = ssl._create_unverified_context"
   ],
   "id": "ab003339d3513220",
   "outputs": [],
   "execution_count": 1
  },
  {
   "metadata": {
    "ExecuteTime": {
     "end_time": "2024-10-16T14:38:04.228577Z",
     "start_time": "2024-10-16T14:38:04.183549Z"
    }
   },
   "cell_type": "code",
   "source": [
    "# Import the California housing dataset\n",
    "from sklearn.datasets import fetch_california_housing\n",
    "housing = fetch_california_housing()\n",
    "\n",
    "print(housing.DESCR)"
   ],
   "id": "e5034ffe5f7bc197",
   "outputs": [
    {
     "name": "stdout",
     "output_type": "stream",
     "text": [
      ".. _california_housing_dataset:\n",
      "\n",
      "California Housing dataset\n",
      "--------------------------\n",
      "\n",
      "**Data Set Characteristics:**\n",
      "\n",
      ":Number of Instances: 20640\n",
      "\n",
      ":Number of Attributes: 8 numeric, predictive attributes and the target\n",
      "\n",
      ":Attribute Information:\n",
      "    - MedInc        median income in block group\n",
      "    - HouseAge      median house age in block group\n",
      "    - AveRooms      average number of rooms per household\n",
      "    - AveBedrms     average number of bedrooms per household\n",
      "    - Population    block group population\n",
      "    - AveOccup      average number of household members\n",
      "    - Latitude      block group latitude\n",
      "    - Longitude     block group longitude\n",
      "\n",
      ":Missing Attribute Values: None\n",
      "\n",
      "This dataset was obtained from the StatLib repository.\n",
      "https://www.dcc.fc.up.pt/~ltorgo/Regression/cal_housing.html\n",
      "\n",
      "The target variable is the median house value for California districts,\n",
      "expressed in hundreds of thousands of dollars ($100,000).\n",
      "\n",
      "This dataset was derived from the 1990 U.S. census, using one row per census\n",
      "block group. A block group is the smallest geographical unit for which the U.S.\n",
      "Census Bureau publishes sample data (a block group typically has a population\n",
      "of 600 to 3,000 people).\n",
      "\n",
      "A household is a group of people residing within a home. Since the average\n",
      "number of rooms and bedrooms in this dataset are provided per household, these\n",
      "columns may take surprisingly large values for block groups with few households\n",
      "and many empty houses, such as vacation resorts.\n",
      "\n",
      "It can be downloaded/loaded using the\n",
      ":func:`sklearn.datasets.fetch_california_housing` function.\n",
      "\n",
      ".. rubric:: References\n",
      "\n",
      "- Pace, R. Kelley and Ronald Barry, Sparse Spatial Autoregressions,\n",
      "  Statistics and Probability Letters, 33 (1997) 291-297\n",
      "\n"
     ]
    }
   ],
   "execution_count": 4
  },
  {
   "metadata": {
    "ExecuteTime": {
     "end_time": "2024-10-16T14:38:17.336950Z",
     "start_time": "2024-10-16T14:38:17.321459Z"
    }
   },
   "cell_type": "code",
   "source": [
    "import pandas as pd\n",
    "\n",
    "housing_df = pd.DataFrame(housing.data, columns=housing.feature_names)\n",
    "housing_df"
   ],
   "id": "17be06f2741df991",
   "outputs": [
    {
     "data": {
      "text/plain": [
       "       MedInc  HouseAge  AveRooms  AveBedrms  Population  AveOccup  Latitude  \\\n",
       "0      8.3252      41.0  6.984127   1.023810       322.0  2.555556     37.88   \n",
       "1      8.3014      21.0  6.238137   0.971880      2401.0  2.109842     37.86   \n",
       "2      7.2574      52.0  8.288136   1.073446       496.0  2.802260     37.85   \n",
       "3      5.6431      52.0  5.817352   1.073059       558.0  2.547945     37.85   \n",
       "4      3.8462      52.0  6.281853   1.081081       565.0  2.181467     37.85   \n",
       "...       ...       ...       ...        ...         ...       ...       ...   \n",
       "20635  1.5603      25.0  5.045455   1.133333       845.0  2.560606     39.48   \n",
       "20636  2.5568      18.0  6.114035   1.315789       356.0  3.122807     39.49   \n",
       "20637  1.7000      17.0  5.205543   1.120092      1007.0  2.325635     39.43   \n",
       "20638  1.8672      18.0  5.329513   1.171920       741.0  2.123209     39.43   \n",
       "20639  2.3886      16.0  5.254717   1.162264      1387.0  2.616981     39.37   \n",
       "\n",
       "       Longitude  \n",
       "0        -122.23  \n",
       "1        -122.22  \n",
       "2        -122.24  \n",
       "3        -122.25  \n",
       "4        -122.25  \n",
       "...          ...  \n",
       "20635    -121.09  \n",
       "20636    -121.21  \n",
       "20637    -121.22  \n",
       "20638    -121.32  \n",
       "20639    -121.24  \n",
       "\n",
       "[20640 rows x 8 columns]"
      ],
      "text/html": [
       "<div>\n",
       "<style scoped>\n",
       "    .dataframe tbody tr th:only-of-type {\n",
       "        vertical-align: middle;\n",
       "    }\n",
       "\n",
       "    .dataframe tbody tr th {\n",
       "        vertical-align: top;\n",
       "    }\n",
       "\n",
       "    .dataframe thead th {\n",
       "        text-align: right;\n",
       "    }\n",
       "</style>\n",
       "<table border=\"1\" class=\"dataframe\">\n",
       "  <thead>\n",
       "    <tr style=\"text-align: right;\">\n",
       "      <th></th>\n",
       "      <th>MedInc</th>\n",
       "      <th>HouseAge</th>\n",
       "      <th>AveRooms</th>\n",
       "      <th>AveBedrms</th>\n",
       "      <th>Population</th>\n",
       "      <th>AveOccup</th>\n",
       "      <th>Latitude</th>\n",
       "      <th>Longitude</th>\n",
       "    </tr>\n",
       "  </thead>\n",
       "  <tbody>\n",
       "    <tr>\n",
       "      <th>0</th>\n",
       "      <td>8.3252</td>\n",
       "      <td>41.0</td>\n",
       "      <td>6.984127</td>\n",
       "      <td>1.023810</td>\n",
       "      <td>322.0</td>\n",
       "      <td>2.555556</td>\n",
       "      <td>37.88</td>\n",
       "      <td>-122.23</td>\n",
       "    </tr>\n",
       "    <tr>\n",
       "      <th>1</th>\n",
       "      <td>8.3014</td>\n",
       "      <td>21.0</td>\n",
       "      <td>6.238137</td>\n",
       "      <td>0.971880</td>\n",
       "      <td>2401.0</td>\n",
       "      <td>2.109842</td>\n",
       "      <td>37.86</td>\n",
       "      <td>-122.22</td>\n",
       "    </tr>\n",
       "    <tr>\n",
       "      <th>2</th>\n",
       "      <td>7.2574</td>\n",
       "      <td>52.0</td>\n",
       "      <td>8.288136</td>\n",
       "      <td>1.073446</td>\n",
       "      <td>496.0</td>\n",
       "      <td>2.802260</td>\n",
       "      <td>37.85</td>\n",
       "      <td>-122.24</td>\n",
       "    </tr>\n",
       "    <tr>\n",
       "      <th>3</th>\n",
       "      <td>5.6431</td>\n",
       "      <td>52.0</td>\n",
       "      <td>5.817352</td>\n",
       "      <td>1.073059</td>\n",
       "      <td>558.0</td>\n",
       "      <td>2.547945</td>\n",
       "      <td>37.85</td>\n",
       "      <td>-122.25</td>\n",
       "    </tr>\n",
       "    <tr>\n",
       "      <th>4</th>\n",
       "      <td>3.8462</td>\n",
       "      <td>52.0</td>\n",
       "      <td>6.281853</td>\n",
       "      <td>1.081081</td>\n",
       "      <td>565.0</td>\n",
       "      <td>2.181467</td>\n",
       "      <td>37.85</td>\n",
       "      <td>-122.25</td>\n",
       "    </tr>\n",
       "    <tr>\n",
       "      <th>...</th>\n",
       "      <td>...</td>\n",
       "      <td>...</td>\n",
       "      <td>...</td>\n",
       "      <td>...</td>\n",
       "      <td>...</td>\n",
       "      <td>...</td>\n",
       "      <td>...</td>\n",
       "      <td>...</td>\n",
       "    </tr>\n",
       "    <tr>\n",
       "      <th>20635</th>\n",
       "      <td>1.5603</td>\n",
       "      <td>25.0</td>\n",
       "      <td>5.045455</td>\n",
       "      <td>1.133333</td>\n",
       "      <td>845.0</td>\n",
       "      <td>2.560606</td>\n",
       "      <td>39.48</td>\n",
       "      <td>-121.09</td>\n",
       "    </tr>\n",
       "    <tr>\n",
       "      <th>20636</th>\n",
       "      <td>2.5568</td>\n",
       "      <td>18.0</td>\n",
       "      <td>6.114035</td>\n",
       "      <td>1.315789</td>\n",
       "      <td>356.0</td>\n",
       "      <td>3.122807</td>\n",
       "      <td>39.49</td>\n",
       "      <td>-121.21</td>\n",
       "    </tr>\n",
       "    <tr>\n",
       "      <th>20637</th>\n",
       "      <td>1.7000</td>\n",
       "      <td>17.0</td>\n",
       "      <td>5.205543</td>\n",
       "      <td>1.120092</td>\n",
       "      <td>1007.0</td>\n",
       "      <td>2.325635</td>\n",
       "      <td>39.43</td>\n",
       "      <td>-121.22</td>\n",
       "    </tr>\n",
       "    <tr>\n",
       "      <th>20638</th>\n",
       "      <td>1.8672</td>\n",
       "      <td>18.0</td>\n",
       "      <td>5.329513</td>\n",
       "      <td>1.171920</td>\n",
       "      <td>741.0</td>\n",
       "      <td>2.123209</td>\n",
       "      <td>39.43</td>\n",
       "      <td>-121.32</td>\n",
       "    </tr>\n",
       "    <tr>\n",
       "      <th>20639</th>\n",
       "      <td>2.3886</td>\n",
       "      <td>16.0</td>\n",
       "      <td>5.254717</td>\n",
       "      <td>1.162264</td>\n",
       "      <td>1387.0</td>\n",
       "      <td>2.616981</td>\n",
       "      <td>39.37</td>\n",
       "      <td>-121.24</td>\n",
       "    </tr>\n",
       "  </tbody>\n",
       "</table>\n",
       "<p>20640 rows × 8 columns</p>\n",
       "</div>"
      ]
     },
     "execution_count": 6,
     "metadata": {},
     "output_type": "execute_result"
    }
   ],
   "execution_count": 6
  },
  {
   "metadata": {
    "ExecuteTime": {
     "end_time": "2024-10-16T14:38:37.788784Z",
     "start_time": "2024-10-16T14:38:37.782570Z"
    }
   },
   "cell_type": "code",
   "source": [
    "housing_df['target'] = housing.target\n",
    "housing_df.head()"
   ],
   "id": "17c3fae66940c329",
   "outputs": [
    {
     "data": {
      "text/plain": [
       "   MedInc  HouseAge  AveRooms  AveBedrms  Population  AveOccup  Latitude  \\\n",
       "0  8.3252      41.0  6.984127   1.023810       322.0  2.555556     37.88   \n",
       "1  8.3014      21.0  6.238137   0.971880      2401.0  2.109842     37.86   \n",
       "2  7.2574      52.0  8.288136   1.073446       496.0  2.802260     37.85   \n",
       "3  5.6431      52.0  5.817352   1.073059       558.0  2.547945     37.85   \n",
       "4  3.8462      52.0  6.281853   1.081081       565.0  2.181467     37.85   \n",
       "\n",
       "   Longitude  target  \n",
       "0    -122.23   4.526  \n",
       "1    -122.22   3.585  \n",
       "2    -122.24   3.521  \n",
       "3    -122.25   3.413  \n",
       "4    -122.25   3.422  "
      ],
      "text/html": [
       "<div>\n",
       "<style scoped>\n",
       "    .dataframe tbody tr th:only-of-type {\n",
       "        vertical-align: middle;\n",
       "    }\n",
       "\n",
       "    .dataframe tbody tr th {\n",
       "        vertical-align: top;\n",
       "    }\n",
       "\n",
       "    .dataframe thead th {\n",
       "        text-align: right;\n",
       "    }\n",
       "</style>\n",
       "<table border=\"1\" class=\"dataframe\">\n",
       "  <thead>\n",
       "    <tr style=\"text-align: right;\">\n",
       "      <th></th>\n",
       "      <th>MedInc</th>\n",
       "      <th>HouseAge</th>\n",
       "      <th>AveRooms</th>\n",
       "      <th>AveBedrms</th>\n",
       "      <th>Population</th>\n",
       "      <th>AveOccup</th>\n",
       "      <th>Latitude</th>\n",
       "      <th>Longitude</th>\n",
       "      <th>target</th>\n",
       "    </tr>\n",
       "  </thead>\n",
       "  <tbody>\n",
       "    <tr>\n",
       "      <th>0</th>\n",
       "      <td>8.3252</td>\n",
       "      <td>41.0</td>\n",
       "      <td>6.984127</td>\n",
       "      <td>1.023810</td>\n",
       "      <td>322.0</td>\n",
       "      <td>2.555556</td>\n",
       "      <td>37.88</td>\n",
       "      <td>-122.23</td>\n",
       "      <td>4.526</td>\n",
       "    </tr>\n",
       "    <tr>\n",
       "      <th>1</th>\n",
       "      <td>8.3014</td>\n",
       "      <td>21.0</td>\n",
       "      <td>6.238137</td>\n",
       "      <td>0.971880</td>\n",
       "      <td>2401.0</td>\n",
       "      <td>2.109842</td>\n",
       "      <td>37.86</td>\n",
       "      <td>-122.22</td>\n",
       "      <td>3.585</td>\n",
       "    </tr>\n",
       "    <tr>\n",
       "      <th>2</th>\n",
       "      <td>7.2574</td>\n",
       "      <td>52.0</td>\n",
       "      <td>8.288136</td>\n",
       "      <td>1.073446</td>\n",
       "      <td>496.0</td>\n",
       "      <td>2.802260</td>\n",
       "      <td>37.85</td>\n",
       "      <td>-122.24</td>\n",
       "      <td>3.521</td>\n",
       "    </tr>\n",
       "    <tr>\n",
       "      <th>3</th>\n",
       "      <td>5.6431</td>\n",
       "      <td>52.0</td>\n",
       "      <td>5.817352</td>\n",
       "      <td>1.073059</td>\n",
       "      <td>558.0</td>\n",
       "      <td>2.547945</td>\n",
       "      <td>37.85</td>\n",
       "      <td>-122.25</td>\n",
       "      <td>3.413</td>\n",
       "    </tr>\n",
       "    <tr>\n",
       "      <th>4</th>\n",
       "      <td>3.8462</td>\n",
       "      <td>52.0</td>\n",
       "      <td>6.281853</td>\n",
       "      <td>1.081081</td>\n",
       "      <td>565.0</td>\n",
       "      <td>2.181467</td>\n",
       "      <td>37.85</td>\n",
       "      <td>-122.25</td>\n",
       "      <td>3.422</td>\n",
       "    </tr>\n",
       "  </tbody>\n",
       "</table>\n",
       "</div>"
      ]
     },
     "execution_count": 9,
     "metadata": {},
     "output_type": "execute_result"
    }
   ],
   "execution_count": 9
  },
  {
   "metadata": {},
   "cell_type": "markdown",
   "source": [
    "What if Ridge wasn't working?\n",
    "\n",
    "We could always try another model, \n",
    "    \n",
    "How about to try ensemble model (an ensemble model is a model made up of many models)"
   ],
   "id": "8e97643ce9dc83e0"
  },
  {
   "metadata": {
    "ExecuteTime": {
     "end_time": "2024-10-16T14:37:55.590266Z",
     "start_time": "2024-10-16T14:37:55.113237Z"
    }
   },
   "cell_type": "code",
   "source": [
    "# Let's try the Random Forest Regressor\n",
    "import numpy as np\n",
    "import pandas as pd\n",
    "from sklearn.model_selection import train_test_split\n",
    "from sklearn.ensemble import RandomForestRegressor\n",
    "\n",
    "# Setup random seed\n",
    "np.random.seed(42)\n",
    "\n",
    "# Create the data\n",
    "X = housing_df.drop(\"target\", axis=1)\n",
    "y = housing_df[\"target\"]\n",
    "\n",
    "# split into training and test\n",
    "X_train, X_test, y_train, y_test = train_test_split(X, y, test_size=0.2)\n",
    "\n",
    "# Instantiate Random Forest Regressor\n",
    "rf = RandomForestRegressor()\n",
    "rf.fit(X_train, y_train)\n",
    "\n",
    "# Check the score of the Random Forest Regressor model on test data\n",
    "rf.score(X_test, y_test)"
   ],
   "id": "f6f0985116d568cf",
   "outputs": [
    {
     "ename": "NameError",
     "evalue": "name 'housing_df' is not defined",
     "output_type": "error",
     "traceback": [
      "\u001B[0;31m---------------------------------------------------------------------------\u001B[0m",
      "\u001B[0;31mNameError\u001B[0m                                 Traceback (most recent call last)",
      "Cell \u001B[0;32mIn[3], line 11\u001B[0m\n\u001B[1;32m      8\u001B[0m np\u001B[38;5;241m.\u001B[39mrandom\u001B[38;5;241m.\u001B[39mseed(\u001B[38;5;241m42\u001B[39m)\n\u001B[1;32m     10\u001B[0m \u001B[38;5;66;03m# Create the data\u001B[39;00m\n\u001B[0;32m---> 11\u001B[0m X \u001B[38;5;241m=\u001B[39m \u001B[43mhousing_df\u001B[49m\u001B[38;5;241m.\u001B[39mdrop(\u001B[38;5;124m\"\u001B[39m\u001B[38;5;124mtarget\u001B[39m\u001B[38;5;124m\"\u001B[39m, axis\u001B[38;5;241m=\u001B[39m\u001B[38;5;241m1\u001B[39m)\n\u001B[1;32m     12\u001B[0m y \u001B[38;5;241m=\u001B[39m housing_df[\u001B[38;5;124m\"\u001B[39m\u001B[38;5;124mtarget\u001B[39m\u001B[38;5;124m\"\u001B[39m]\n\u001B[1;32m     14\u001B[0m \u001B[38;5;66;03m# split into training and test\u001B[39;00m\n",
      "\u001B[0;31mNameError\u001B[0m: name 'housing_df' is not defined"
     ]
    }
   ],
   "execution_count": 3
  },
  {
   "metadata": {
    "ExecuteTime": {
     "end_time": "2024-10-16T09:21:49.130033Z",
     "start_time": "2024-10-16T09:21:49.091653Z"
    }
   },
   "cell_type": "code",
   "source": [
    "# let's predict the first 10 rows of the test data\n",
    "rf.predict(X_test[:10])"
   ],
   "id": "d18da58bda7d276c",
   "outputs": [
    {
     "data": {
      "text/plain": [
       "array([0.49058  , 0.75989  , 4.9350165, 2.55864  , 2.33461  , 1.6580801,\n",
       "       2.34237  , 1.66708  , 2.5609601, 4.8519781])"
      ]
     },
     "execution_count": 12,
     "metadata": {},
     "output_type": "execute_result"
    }
   ],
   "execution_count": 12
  },
  {
   "metadata": {
    "ExecuteTime": {
     "end_time": "2024-10-16T09:22:17.957501Z",
     "start_time": "2024-10-16T09:22:17.952685Z"
    }
   },
   "cell_type": "code",
   "source": [
    "# Compare the predictions to the actual values\n",
    "np.array(y_test[:10])"
   ],
   "id": "a1ac99ad12df2f0b",
   "outputs": [
    {
     "data": {
      "text/plain": [
       "array([0.477  , 0.458  , 5.00001, 2.186  , 2.78   , 1.587  , 1.982  ,\n",
       "       1.575  , 3.4    , 4.466  ])"
      ]
     },
     "execution_count": 13,
     "metadata": {},
     "output_type": "execute_result"
    }
   ],
   "execution_count": 13
  },
  {
   "metadata": {},
   "cell_type": "markdown",
   "source": "# Let's try to do the sa,e with OpenAI",
   "id": "7e94016377dcccac"
  },
  {
   "metadata": {},
   "cell_type": "markdown",
   "source": [
    "let's prepare a dataset for OpenAI model to train\n",
    "\n",
    "We will use the same dataset as above, but we will split it into training and test datasets"
   ],
   "id": "f2e5bce3462fd14c"
  },
  {
   "metadata": {
    "ExecuteTime": {
     "end_time": "2024-10-16T14:38:42.393881Z",
     "start_time": "2024-10-16T14:38:42.391342Z"
    }
   },
   "cell_type": "code",
   "source": [
    "# get first 1000 rows for training\n",
    "housing_df_train = housing_df[:1000].copy()\n",
    "\n",
    "# get the 20 of the rest for testing\n",
    "housing_df_test = housing_df[1000:1020].copy()"
   ],
   "id": "7b3e1a63d621a1fe",
   "outputs": [],
   "execution_count": 10
  },
  {
   "metadata": {
    "ExecuteTime": {
     "end_time": "2024-10-16T14:38:43.020121Z",
     "start_time": "2024-10-16T14:38:43.009301Z"
    }
   },
   "cell_type": "code",
   "source": [
    "# save the training dataset to csv file\n",
    "housing_df_train.to_csv('data/regression/housing_train.csv', index=False)\n",
    "\n",
    "# remove the target column from the test dataset\n",
    "targets = housing_df_test['target']\n",
    "\n",
    "# fill the target column with zeros\n",
    "housing_df_test[\"target\"] = 0\n",
    "\n",
    "# save the test dataset to csv file\n",
    "housing_df_test.to_csv('data/regression/housing_test.csv', index=False)"
   ],
   "id": "e006cd4bdf543d0d",
   "outputs": [],
   "execution_count": 11
  },
  {
   "metadata": {
    "ExecuteTime": {
     "end_time": "2024-10-16T14:52:11.410615Z",
     "start_time": "2024-10-16T14:52:11.405608Z"
    }
   },
   "cell_type": "code",
   "source": [
    "# check the data\n",
    "# housing_df_train.head()\n",
    "# housing_df_test\n",
    "len(housing_df_test)"
   ],
   "id": "e259e32a6bef38f1",
   "outputs": [
    {
     "data": {
      "text/plain": [
       "20"
      ]
     },
     "execution_count": 31,
     "metadata": {},
     "output_type": "execute_result"
    }
   ],
   "execution_count": 31
  },
  {
   "metadata": {
    "ExecuteTime": {
     "end_time": "2024-10-16T14:38:47.912694Z",
     "start_time": "2024-10-16T14:38:47.613972Z"
    }
   },
   "cell_type": "code",
   "source": [
    "# Load OpenAI\n",
    "import dotenv\n",
    "from openai import OpenAI\n",
    "\n",
    "dotenv.load_dotenv()\n",
    "\n",
    "client = OpenAI()"
   ],
   "id": "56cb4f8187b91fec",
   "outputs": [],
   "execution_count": 13
  },
  {
   "metadata": {
    "ExecuteTime": {
     "end_time": "2024-10-16T14:38:50.339887Z",
     "start_time": "2024-10-16T14:38:48.911273Z"
    }
   },
   "cell_type": "code",
   "source": [
    "# upload the file to OpenAI\n",
    "file = client.files.create(file=open(\"data/regression/housing_train.csv\", \"rb\"), purpose=\"assistants\")"
   ],
   "id": "a2e136fb8771c309",
   "outputs": [],
   "execution_count": 14
  },
  {
   "metadata": {
    "ExecuteTime": {
     "end_time": "2024-10-16T14:38:54.087737Z",
     "start_time": "2024-10-16T14:38:53.245575Z"
    }
   },
   "cell_type": "code",
   "source": [
    "# create an assistant\n",
    "assistant = client.beta.assistants.create(\n",
    "  instructions=\"You are a linear regression tool. \"\n",
    "               \"You have a training dataset file with the California housing dataset. It contains 1000 rows and 9 columns. \"\n",
    "               \"The columns are: MedInc, HouseAge, AveRooms, AveBedrms, Population, AveOccup, Latitude, Longitude, target. \"\n",
    "                \"The target column is the target variable. \"\n",
    "                \"Your task is to analyze the data and provide the best possible linear regression model to predict the target variable for the file, provided by user in the next message. \"\n",
    "               \"Tou have to return the json object with the same structure as the input file, but with the target column filled with the predictions instead of zeros\"\n",
    "               \"Please respond only in json_object format. Do not add any additional information above or below.\",\n",
    "  model=\"gpt-4o-mini\",\n",
    "  tools=[{\"type\": \"code_interpreter\"}],\n",
    "  tool_resources={\n",
    "    \"code_interpreter\": {\n",
    "      \"file_ids\": [file.id]\n",
    "    }\n",
    "  }\n",
    ")"
   ],
   "id": "783004002cd1e939",
   "outputs": [],
   "execution_count": 15
  },
  {
   "metadata": {
    "ExecuteTime": {
     "end_time": "2024-10-16T14:38:57.792532Z",
     "start_time": "2024-10-16T14:38:56.831405Z"
    }
   },
   "cell_type": "code",
   "source": [
    "# upload the test file to OpenAI\n",
    "file_test = client.files.create(file=open(\"data/regression/housing_test.csv\", \"rb\"), purpose=\"assistants\")"
   ],
   "id": "18c8a1da18139be8",
   "outputs": [],
   "execution_count": 16
  },
  {
   "metadata": {
    "ExecuteTime": {
     "end_time": "2024-10-16T14:39:00.577270Z",
     "start_time": "2024-10-16T14:38:59.461214Z"
    }
   },
   "cell_type": "code",
   "source": [
    "thread = client.beta.threads.create(\n",
    "  messages=[\n",
    "    {\n",
    "      \"role\": \"user\",\n",
    "      \"content\": \"Read the provided CSV file with California housing data without a terget column. Make a target column prediction based on the training dataset\",\n",
    "      \"attachments\": [\n",
    "        {\n",
    "          \"file_id\": file_test.id,\n",
    "          \"tools\": [{\"type\": \"code_interpreter\"}]\n",
    "        }\n",
    "      ],\n",
    "    }\n",
    "  ]\n",
    ")"
   ],
   "id": "181dc91cd5aa9e32",
   "outputs": [],
   "execution_count": 17
  },
  {
   "metadata": {
    "ExecuteTime": {
     "end_time": "2024-10-16T14:45:49.836738Z",
     "start_time": "2024-10-16T14:44:20.528641Z"
    }
   },
   "cell_type": "code",
   "source": [
    "run = client.beta.threads.runs.create_and_poll(\n",
    "    thread_id=thread.id, \n",
    "    assistant_id=assistant.id,\n",
    ")\n",
    "\n",
    "messages = list(client.beta.threads.messages.list(thread_id=thread.id, run_id=run.id))"
   ],
   "id": "61c7d0cd9a88e800",
   "outputs": [],
   "execution_count": 24
  },
  {
   "metadata": {
    "ExecuteTime": {
     "end_time": "2024-10-16T14:40:42.915709Z",
     "start_time": "2024-10-16T14:40:42.912046Z"
    }
   },
   "cell_type": "code",
   "source": "messages[0].content[0].text.value",
   "id": "def17e875c32e94",
   "outputs": [
    {
     "data": {
      "text/plain": [
       "'```json\\n[{\"MedInc\":8.3252,\"HouseAge\":41.0,\"AveRooms\":6.984127,\"AveBedrms\":1.02381,\"Population\":322.0,\"AveOccup\":2.555556,\"Latitude\":37.88,\"Longitude\":-122.23,\"target\":4.526},\"{\"MedInc\":8.3014,\"HouseAge\":21.0,\"AveRooms\":6.238137,\"AveBedrms\":0.97188,\"Population\":2401.0,\"AveOccup\":2.109842,\"Latitude\":37.86,\"Longitude\":-122.22,\"target\":3.585},\"{\"MedInc\":7.2574,\"HouseAge\":52.0,\"AveRooms\":8.288136,\"AveBedrms\":1.073446,\"Population\":496.0,\"AveOccup\":2.80226,\"Latitude\":37.85,\"Longitude\":-122.24,\"target\":3.521},\"{\"MedInc\":5.6431,\"HouseAge\":52.0,\"AveRooms\":5.817352,\"AveBedrms\":1.073059,\"Population\":558.0,\"AveOccup\":2.547945,\"Latitude\":37.85,\"Longitude\":-122.25,\"target\":3.413},\"{\"MedInc\":3.8462,\"HouseAge\":52.0,\"AveRooms\":6.281853,\"AveBedrms\":1.081081,\"Population\":565.0,\"AveOccup\":2.181467,\"Latitude\":37.85,\"Longitude\":-122.25,\"target\":3.422},{\"MedInc\":4.8437,\"HouseAge\":29.0,\"AveRooms\":5.674468,\"AveBedrms\":0.802631,\"Population\":1479.0,\"AveOccup\":2.950926,\"Latitude\":37.56,\"Longitude\":-121.93,\"target\":3.496},{\"MedInc\":5.7887,\"HouseAge\":15.0,\"AveRooms\":6.172413,\"AveBedrms\":1.012087,\"Population\":2617.0,\"AveOccup\":2.666667,\"Latitude\":37.55,\"Longitude\":-121.94,\"target\":3.51},{\"MedInc\":4.2639,\"HouseAge\":25.0,\"AveRooms\":4.551022,\"AveBedrms\":0.817561,\"Population\":647.0,\"AveOccup\":2.825616,\"Latitude\":37.54,\"Longitude\":-121.96,\"target\":3.365},{\"MedInc\":5.7434,\"HouseAge\":28.0,\"AveRooms\":5.515374,\"AveBedrms\":0.94314,\"Population\":1815.0,\"AveOccup\":3.123716,\"Latitude\":37.54,\"Longitude\":-121.95,\"target\":3.479},{\"MedInc\":4.9324,\"HouseAge\":30.0,\"AveRooms\":5.891684,\"AveBedrms\":0.930232,\"Population\":1135.0,\"AveOccup\":2.63345,\"Latitude\":37.53,\"Longitude\":-121.95,\"target\":3.593},{\"MedInc\":2.5889,\"HouseAge\":34.0,\"AveRooms\":4.141758,\"AveBedrms\":0.892857,\"Population\":674.0,\"AveOccup\":2.485597,\"Latitude\":37.56,\"Longitude\":-121.88,\"target\":2.801},{\"MedInc\":5.4884,\"HouseAge\":20.0,\"AveRooms\":5.50559,\"AveBedrms\":1.049848,\"Population\":693.0,\"AveOccup\":3.054215,\"Latitude\":37.54,\"Longitude\":-121.96,\"target\":3.211},{\"MedInc\":2.7636,\"HouseAge\":24.0,\"AveRooms\":4.188966,\"AveBedrms\":1.019444,\"Population\":940.0,\"AveOccup\":2.289762,\"Latitude\":37.54,\"Longitude\":-121.99,\"target\":2.745},{\"MedInc\":4.3869,\"HouseAge\":17.0,\"AveRooms\":5.006451,\"AveBedrms\":1.010101,\"Population\":1805.0,\"AveOccup\":3.018646,\"Latitude\":37.56,\"Longitude\":-121.95,\"target\":3.370},{\"MedInc\":4.6796,\"HouseAge\":32.0,\"AveRooms\":5.788833,\"AveBedrms\":0.96835,\"Population\":808.0,\"AveOccup\":2.75033,\"Latitude\":37.54,\"Longitude\":-121.99,\"target\":3.489},{\"MedInc\":5.5418,\"HouseAge\":18.0,\"AveRooms\":6.161346,\"AveBedrms\":1.046,\"Population\":332.0,\"AveOccup\":2.166667,\"Latitude\":37.65,\"Longitude\":-121.64,\"target\":3.19},{\"MedInc\":2.9683,\"HouseAge\":26.0,\"AveRooms\":3.980688,\"AveBedrms\":0.868046,\"Population\":1831.0,\"AveOccup\":2.797285,\"Latitude\":37.54,\"Longitude\":-122.00,\"target\":2.493},{\"MedInc\":5.0232,\"HouseAge\":21.0,\"AveRooms\":5.293877,\"AveBedrms\":1.0127,\"Population\":804.0,\"AveOccup\":2.982,\"Latitude\":37.52,\"Longitude\":-121.96,\"target\":3.055},{\"MedInc\":4.6106,\"HouseAge\":17.0,\"AveRooms\":5.354,\"AveBedrms\":1.011694,\"Population\":1472.0,\"AveOccup\":2.407,\"Latitude\":37.51,\"Longitude\":-121.94,\"target\":3.084},{\"MedInc\":5.239,\"HouseAge\":16.0,\"AveRooms\":6.076,\"AveBedrms\":0.964434,\"Population\":1840.0,\"AveOccup\":3.181,\"Latitude\":37.54,\"Longitude\":-121.94,\"target\":3.289},{\"MedInc\":4.6684,\"HouseAge\":26.0,\"AveRooms\":5.506329,\"AveBedrms\":1.23,\"Population\":1004.0,\"AveOccup\":2.459,\"Latitude\":37.56,\"Longitude\":-121.94,\"target\":3.375},{\"MedInc\":5.1942,\"HouseAge\":25.0,\"AveRooms\":6.0211,\"AveBedrms\":1.01311,\"Population\":664.0,\"AveOccup\":2.637868,\"Latitude\":37.62,\"Longitude\":-121.89,\"target\":3.007},{\"MedInc\":5.6915,\"HouseAge\":21.0,\"AveRooms\":6.9404,\"AveBedrms\":0.96115,\"Population\":1208.0,\"AveOccup\":3.106,\"Latitude\":37.57,\"Longitude\":-121.84,\"target\":3.102},{\"MedInc\":4.0612,\"HouseAge\":22.0,\"AveRooms\":4.975,\"AveBedrms\":1.0866,\"Population\":948.0,\"AveOccup\":2.718,\"Latitude\":37.63,\"Longitude\":-121.86,\"target\":2.981},{\"MedInc\":3.3561,\"HouseAge\":23.0,\"AveRooms\":4.9419,\"AveBedrms\":1.0072,\"Population\":1832.0,\"AveOccup\":2.230,\"Latitude\":37.68,\"Longitude\":-121.87,\"target\":2.858},{\"MedInc\":3.5698,\"HouseAge\":26.0,\"AveRooms\":4.47834,\"AveBedrms\":1.0826,\"Population\":913.0,\"AveOccup\":2.917,\"Latitude\":37.6,\"Longitude\":-121.63,\"target\":2.789},{\"MedInc\":4.8722,\"HouseAge\":22.0,\"AveRooms\":5.9391,\"AveBedrms\":0.879,\"Population\":1500.0,\"AveOccup\":2.865,\"Latitude\":37.74,\"Longitude\":-121.98,\"target\":3.729},{\"MedInc\":5.1942,\"HouseAge\":26.0,\"AveRooms\":5.1818,\"AveBedrms\":1.0253,\"Population\":555.0,\"AveOccup\":2.4458,\"Latitude\":37.67,\"Longitude\":-121.84,\"target\":3.195},{\"MedInc\":3.6378,\"HouseAge\":26.0,\"AveRooms\":4.1409,\"AveBedrms\":1.0352,\"Population\":682.0,\"AveOccup\":3.056,\"Latitude\":37.8,\"Longitude\":-121.65,\"target\":2.382},{\"MedInc\":2.8785,\"HouseAge\":27.0,\"AveRooms\":4.7851,\"AveBedrms\":0.9639,\"Population\":1503.0,\"AveOccup\":2.224,\"Latitude\":37.52,\"Longitude\":-121.89,\"target\":2.774},{\"MedInc\":3.6476,\"HouseAge\":26.0,\"AveRooms\":4.48215,\"AveBedrms\":1.05847,\"Population\":2683.0,\"AveOccup\":2.803,\"Latitude\":37.82,\"Longitude\":-121.73,\"target\":2.292\"},{\"MedInc\":5.9619,\"HouseAge\":18.0,\"AveRooms\":6.8312,\"AveBedrms\":0.9819,\"Population\":2031.0,\"AveOccup\":2.649,\"Latitude\":37.54,\"Longitude\":-121.86,\"target\":3.198},{\"MedInc\":4.64944,\"HouseAge\":31.0,\"AveRooms\":5.3711,\"AveBedrms\":0.8785,\"Population\":1911.0,\"AveOccup\":2.9818,\"Latitude\":37.67,\"Longitude\":-121.84,\"target\":3.847},{\"MedInc\":3.3998,\"HouseAge\":29.0,\"AveRooms\":3.7529,\"AveBedrms\":0.8411,\"Population\":1321.0,\"AveOccup\":2.587,\"Latitude\":37.55,\"Longitude\":-121.97,\"target\":2.557},{\"MedInc\":6.8227,\"HouseAge\":20.0,\"AveRooms\":6.5761,\"AveBedrms\":1.0238,\"Population\":2303.0,\"AveOccup\":2.8637,\"Latitude\":37.76,\"Longitude\":-121.86,\"target\":3.772},{\"MedInc\":5.4599,\"HouseAge\":16.0,\"AveRooms\":5.4973,\"AveBedrms\":1.0232,\"Population\":1040.0,\"AveOccup\":2.9057,\"Latitude\":37.74,\"Longitude\":-121.72,\"target\":3.472},{\"MedInc\":4.0135,\"HouseAge\":27.0,\"AveRooms\":4.7994,\"AveBedrms\":1.0423,\"Population\":539.0,\"AveOccup\":2.5834,\"Latitude\":37.7,\"Longitude\":-121.73,\"target\":2.735},{\"MedInc\":4.3399,\"HouseAge\":6.0,\"AveRooms\":5.0781,\"AveBedrms\":1.2789,\"Population\":431.0,\"AveOccup\":2.7545,\"Latitude\":37.62,\"Longitude\":-121.81,\"target\":3.447}]\\n```'"
      ]
     },
     "execution_count": 19,
     "metadata": {},
     "output_type": "execute_result"
    }
   ],
   "execution_count": 19
  },
  {
   "metadata": {
    "ExecuteTime": {
     "end_time": "2024-10-16T14:49:50.862412Z",
     "start_time": "2024-10-16T14:49:50.855484Z"
    }
   },
   "cell_type": "code",
   "source": [
    "import json\n",
    "\n",
    "response = messages[0].content[0].text.value\n",
    "response = response.replace(\"```json\", \"\").replace(\"```\", \"\").replace(\"\\n\", \"\")\n",
    "\n",
    "predictions = json.loads(response)\n",
    "\n",
    "predictions"
   ],
   "id": "d76d91d5d7bcc3fb",
   "outputs": [
    {
     "data": {
      "text/plain": [
       "[{'MedInc': 8.3252,\n",
       "  'HouseAge': 41.0,\n",
       "  'AveRooms': 6.984127,\n",
       "  'AveBedrms': 1.02381,\n",
       "  'Population': 322.0,\n",
       "  'AveOccup': 2.555556,\n",
       "  'Latitude': 37.88,\n",
       "  'Longitude': -122.23,\n",
       "  'target': 4.526},\n",
       " {'MedInc': 8.3014,\n",
       "  'HouseAge': 21.0,\n",
       "  'AveRooms': 6.238137,\n",
       "  'AveBedrms': 0.97188,\n",
       "  'Population': 2401.0,\n",
       "  'AveOccup': 2.109842,\n",
       "  'Latitude': 37.86,\n",
       "  'Longitude': -122.22,\n",
       "  'target': 3.585},\n",
       " {'MedInc': 7.2574,\n",
       "  'HouseAge': 52.0,\n",
       "  'AveRooms': 8.288136,\n",
       "  'AveBedrms': 1.073446,\n",
       "  'Population': 496.0,\n",
       "  'AveOccup': 2.80226,\n",
       "  'Latitude': 37.85,\n",
       "  'Longitude': -122.24,\n",
       "  'target': 3.521},\n",
       " {'MedInc': 5.6431,\n",
       "  'HouseAge': 52.0,\n",
       "  'AveRooms': 5.817352,\n",
       "  'AveBedrms': 1.073059,\n",
       "  'Population': 558.0,\n",
       "  'AveOccup': 2.547945,\n",
       "  'Latitude': 37.85,\n",
       "  'Longitude': -122.25,\n",
       "  'target': 3.413},\n",
       " {'MedInc': 3.8462,\n",
       "  'HouseAge': 52.0,\n",
       "  'AveRooms': 6.281853,\n",
       "  'AveBedrms': 1.081081,\n",
       "  'Population': 565.0,\n",
       "  'AveOccup': 2.181467,\n",
       "  'Latitude': 37.85,\n",
       "  'Longitude': -122.25,\n",
       "  'target': 3.422},\n",
       " {'MedInc': 4.8437,\n",
       "  'HouseAge': 29.0,\n",
       "  'AveRooms': 5.674468,\n",
       "  'AveBedrms': 0.802631,\n",
       "  'Population': 1479.0,\n",
       "  'AveOccup': 2.950926,\n",
       "  'Latitude': 37.56,\n",
       "  'Longitude': -121.93,\n",
       "  'target': 3.496},\n",
       " {'MedInc': 5.7887,\n",
       "  'HouseAge': 15.0,\n",
       "  'AveRooms': 6.172413,\n",
       "  'AveBedrms': 1.012087,\n",
       "  'Population': 2617.0,\n",
       "  'AveOccup': 2.666667,\n",
       "  'Latitude': 37.55,\n",
       "  'Longitude': -121.94,\n",
       "  'target': 3.51},\n",
       " {'MedInc': 4.2639,\n",
       "  'HouseAge': 25.0,\n",
       "  'AveRooms': 4.551022,\n",
       "  'AveBedrms': 0.817561,\n",
       "  'Population': 647.0,\n",
       "  'AveOccup': 2.825616,\n",
       "  'Latitude': 37.54,\n",
       "  'Longitude': -121.96,\n",
       "  'target': 3.365},\n",
       " {'MedInc': 5.7434,\n",
       "  'HouseAge': 28.0,\n",
       "  'AveRooms': 5.515374,\n",
       "  'AveBedrms': 0.94314,\n",
       "  'Population': 1815.0,\n",
       "  'AveOccup': 3.123716,\n",
       "  'Latitude': 37.54,\n",
       "  'Longitude': -121.95,\n",
       "  'target': 3.479},\n",
       " {'MedInc': 4.9324,\n",
       "  'HouseAge': 30.0,\n",
       "  'AveRooms': 5.891684,\n",
       "  'AveBedrms': 0.930232,\n",
       "  'Population': 1135.0,\n",
       "  'AveOccup': 2.63345,\n",
       "  'Latitude': 37.53,\n",
       "  'Longitude': -121.95,\n",
       "  'target': 3.593},\n",
       " {'MedInc': 2.5889,\n",
       "  'HouseAge': 34.0,\n",
       "  'AveRooms': 4.141758,\n",
       "  'AveBedrms': 0.892857,\n",
       "  'Population': 674.0,\n",
       "  'AveOccup': 2.485597,\n",
       "  'Latitude': 37.56,\n",
       "  'Longitude': -121.88,\n",
       "  'target': 2.801},\n",
       " {'MedInc': 5.4884,\n",
       "  'HouseAge': 20.0,\n",
       "  'AveRooms': 5.50559,\n",
       "  'AveBedrms': 1.049848,\n",
       "  'Population': 693.0,\n",
       "  'AveOccup': 3.054215,\n",
       "  'Latitude': 37.54,\n",
       "  'Longitude': -121.96,\n",
       "  'target': 3.211},\n",
       " {'MedInc': 2.7636,\n",
       "  'HouseAge': 24.0,\n",
       "  'AveRooms': 4.188966,\n",
       "  'AveBedrms': 1.019444,\n",
       "  'Population': 940.0,\n",
       "  'AveOccup': 2.289762,\n",
       "  'Latitude': 37.54,\n",
       "  'Longitude': -121.99,\n",
       "  'target': 2.745},\n",
       " {'MedInc': 4.3869,\n",
       "  'HouseAge': 17.0,\n",
       "  'AveRooms': 5.006451,\n",
       "  'AveBedrms': 1.010101,\n",
       "  'Population': 1805.0,\n",
       "  'AveOccup': 3.018646,\n",
       "  'Latitude': 37.56,\n",
       "  'Longitude': -121.95,\n",
       "  'target': 3.37},\n",
       " {'MedInc': 4.6796,\n",
       "  'HouseAge': 32.0,\n",
       "  'AveRooms': 5.788833,\n",
       "  'AveBedrms': 0.96835,\n",
       "  'Population': 808.0,\n",
       "  'AveOccup': 2.75033,\n",
       "  'Latitude': 37.54,\n",
       "  'Longitude': -121.99,\n",
       "  'target': 3.489},\n",
       " {'MedInc': 5.5418,\n",
       "  'HouseAge': 18.0,\n",
       "  'AveRooms': 6.161346,\n",
       "  'AveBedrms': 1.046,\n",
       "  'Population': 332.0,\n",
       "  'AveOccup': 2.166667,\n",
       "  'Latitude': 37.65,\n",
       "  'Longitude': -121.64,\n",
       "  'target': 3.19},\n",
       " {'MedInc': 2.9683,\n",
       "  'HouseAge': 26.0,\n",
       "  'AveRooms': 3.980688,\n",
       "  'AveBedrms': 0.868046,\n",
       "  'Population': 1831.0,\n",
       "  'AveOccup': 2.797285,\n",
       "  'Latitude': 37.54,\n",
       "  'Longitude': -122.0,\n",
       "  'target': 2.493},\n",
       " {'MedInc': 5.0232,\n",
       "  'HouseAge': 21.0,\n",
       "  'AveRooms': 5.293877,\n",
       "  'AveBedrms': 1.0127,\n",
       "  'Population': 804.0,\n",
       "  'AveOccup': 2.982,\n",
       "  'Latitude': 37.52,\n",
       "  'Longitude': -121.96,\n",
       "  'target': 3.055},\n",
       " {'MedInc': 4.6106,\n",
       "  'HouseAge': 17.0,\n",
       "  'AveRooms': 5.354,\n",
       "  'AveBedrms': 1.011694,\n",
       "  'Population': 1472.0,\n",
       "  'AveOccup': 2.407,\n",
       "  'Latitude': 37.51,\n",
       "  'Longitude': -121.94,\n",
       "  'target': 3.084},\n",
       " {'MedInc': 5.239,\n",
       "  'HouseAge': 16.0,\n",
       "  'AveRooms': 6.076,\n",
       "  'AveBedrms': 0.964434,\n",
       "  'Population': 1840.0,\n",
       "  'AveOccup': 3.181,\n",
       "  'Latitude': 37.54,\n",
       "  'Longitude': -121.94,\n",
       "  'target': 3.289},\n",
       " {'MedInc': 4.6684,\n",
       "  'HouseAge': 26.0,\n",
       "  'AveRooms': 5.506329,\n",
       "  'AveBedrms': 1.23,\n",
       "  'Population': 1004.0,\n",
       "  'AveOccup': 2.459,\n",
       "  'Latitude': 37.56,\n",
       "  'Longitude': -121.94,\n",
       "  'target': 3.375},\n",
       " {'MedInc': 5.1942,\n",
       "  'HouseAge': 25.0,\n",
       "  'AveRooms': 6.0211,\n",
       "  'AveBedrms': 1.01311,\n",
       "  'Population': 664.0,\n",
       "  'AveOccup': 2.637868,\n",
       "  'Latitude': 37.62,\n",
       "  'Longitude': -121.89,\n",
       "  'target': 3.007},\n",
       " {'MedInc': 5.6915,\n",
       "  'HouseAge': 21.0,\n",
       "  'AveRooms': 6.9404,\n",
       "  'AveBedrms': 0.96115,\n",
       "  'Population': 1208.0,\n",
       "  'AveOccup': 3.106,\n",
       "  'Latitude': 37.57,\n",
       "  'Longitude': -121.84,\n",
       "  'target': 3.102},\n",
       " {'MedInc': 4.0612,\n",
       "  'HouseAge': 22.0,\n",
       "  'AveRooms': 4.975,\n",
       "  'AveBedrms': 1.0866,\n",
       "  'Population': 948.0,\n",
       "  'AveOccup': 2.718,\n",
       "  'Latitude': 37.63,\n",
       "  'Longitude': -121.86,\n",
       "  'target': 2.981},\n",
       " {'MedInc': 3.3561,\n",
       "  'HouseAge': 23.0,\n",
       "  'AveRooms': 4.9419,\n",
       "  'AveBedrms': 1.0072,\n",
       "  'Population': 1832.0,\n",
       "  'AveOccup': 2.23,\n",
       "  'Latitude': 37.68,\n",
       "  'Longitude': -121.87,\n",
       "  'target': 2.858},\n",
       " {'MedInc': 3.5698,\n",
       "  'HouseAge': 26.0,\n",
       "  'AveRooms': 4.47834,\n",
       "  'AveBedrms': 1.0826,\n",
       "  'Population': 913.0,\n",
       "  'AveOccup': 2.917,\n",
       "  'Latitude': 37.6,\n",
       "  'Longitude': -121.63,\n",
       "  'target': 2.789},\n",
       " {'MedInc': 4.8722,\n",
       "  'HouseAge': 22.0,\n",
       "  'AveRooms': 5.9391,\n",
       "  'AveBedrms': 0.879,\n",
       "  'Population': 1500.0,\n",
       "  'AveOccup': 2.865,\n",
       "  'Latitude': 37.74,\n",
       "  'Longitude': -121.98,\n",
       "  'target': 3.729},\n",
       " {'MedInc': 5.1942,\n",
       "  'HouseAge': 26.0,\n",
       "  'AveRooms': 5.1818,\n",
       "  'AveBedrms': 1.0253,\n",
       "  'Population': 555.0,\n",
       "  'AveOccup': 2.4458,\n",
       "  'Latitude': 37.67,\n",
       "  'Longitude': -121.84,\n",
       "  'target': 3.195},\n",
       " {'MedInc': 3.6378,\n",
       "  'HouseAge': 26.0,\n",
       "  'AveRooms': 4.1409,\n",
       "  'AveBedrms': 1.0352,\n",
       "  'Population': 682.0,\n",
       "  'AveOccup': 3.056,\n",
       "  'Latitude': 37.8,\n",
       "  'Longitude': -121.65,\n",
       "  'target': 2.382},\n",
       " {'MedInc': 2.8785,\n",
       "  'HouseAge': 27.0,\n",
       "  'AveRooms': 4.7851,\n",
       "  'AveBedrms': 0.9639,\n",
       "  'Population': 1503.0,\n",
       "  'AveOccup': 2.224,\n",
       "  'Latitude': 37.52,\n",
       "  'Longitude': -121.89,\n",
       "  'target': 2.774},\n",
       " {'MedInc': 3.6476,\n",
       "  'HouseAge': 26.0,\n",
       "  'AveRooms': 4.48215,\n",
       "  'AveBedrms': 1.05847,\n",
       "  'Population': 2683.0,\n",
       "  'AveOccup': 2.803,\n",
       "  'Latitude': 37.82,\n",
       "  'Longitude': -121.73,\n",
       "  'target': 2.292},\n",
       " {'MedInc': 5.9619,\n",
       "  'HouseAge': 18.0,\n",
       "  'AveRooms': 6.8312,\n",
       "  'AveBedrms': 0.9819,\n",
       "  'Population': 2031.0,\n",
       "  'AveOccup': 2.649,\n",
       "  'Latitude': 37.54,\n",
       "  'Longitude': -121.86,\n",
       "  'target': 3.198},\n",
       " {'MedInc': 4.64944,\n",
       "  'HouseAge': 31.0,\n",
       "  'AveRooms': 5.3711,\n",
       "  'AveBedrms': 0.8785,\n",
       "  'Population': 1911.0,\n",
       "  'AveOccup': 2.9818,\n",
       "  'Latitude': 37.67,\n",
       "  'Longitude': -121.84,\n",
       "  'target': 3.847},\n",
       " {'MedInc': 3.3998,\n",
       "  'HouseAge': 29.0,\n",
       "  'AveRooms': 3.7529,\n",
       "  'AveBedrms': 0.8411,\n",
       "  'Population': 1321.0,\n",
       "  'AveOccup': 2.587,\n",
       "  'Latitude': 37.55,\n",
       "  'Longitude': -121.97,\n",
       "  'target': 2.557},\n",
       " {'MedInc': 6.8227,\n",
       "  'HouseAge': 20.0,\n",
       "  'AveRooms': 6.5761,\n",
       "  'AveBedrms': 1.0238,\n",
       "  'Population': 2303.0,\n",
       "  'AveOccup': 2.8637,\n",
       "  'Latitude': 37.76,\n",
       "  'Longitude': -121.86,\n",
       "  'target': 3.772},\n",
       " {'MedInc': 5.4599,\n",
       "  'HouseAge': 16.0,\n",
       "  'AveRooms': 5.4973,\n",
       "  'AveBedrms': 1.0232,\n",
       "  'Population': 1040.0,\n",
       "  'AveOccup': 2.9057,\n",
       "  'Latitude': 37.74,\n",
       "  'Longitude': -121.72,\n",
       "  'target': 3.472},\n",
       " {'MedInc': 4.0135,\n",
       "  'HouseAge': 27.0,\n",
       "  'AveRooms': 4.7994,\n",
       "  'AveBedrms': 1.0423,\n",
       "  'Population': 539.0,\n",
       "  'AveOccup': 2.5834,\n",
       "  'Latitude': 37.7,\n",
       "  'Longitude': -121.73,\n",
       "  'target': 2.735},\n",
       " {'MedInc': 4.3399,\n",
       "  'HouseAge': 6.0,\n",
       "  'AveRooms': 5.0781,\n",
       "  'AveBedrms': 1.2789,\n",
       "  'Population': 431.0,\n",
       "  'AveOccup': 2.7545,\n",
       "  'Latitude': 37.62,\n",
       "  'Longitude': -121.81,\n",
       "  'target': 3.447}]"
      ]
     },
     "execution_count": 26,
     "metadata": {},
     "output_type": "execute_result"
    }
   ],
   "execution_count": 26
  },
  {
   "metadata": {
    "ExecuteTime": {
     "end_time": "2024-10-16T14:51:14.570436Z",
     "start_time": "2024-10-16T14:51:14.568107Z"
    }
   },
   "cell_type": "code",
   "source": [
    "# output the predictions target column\n",
    "predicted_targets = [row['target'] for row in predictions]\n",
    "len(predicted_targets)"
   ],
   "id": "b389b93e53179954",
   "outputs": [
    {
     "data": {
      "text/plain": [
       "38"
      ]
     },
     "execution_count": 30,
     "metadata": {},
     "output_type": "execute_result"
    }
   ],
   "execution_count": 30
  },
  {
   "metadata": {
    "ExecuteTime": {
     "end_time": "2024-10-16T14:49:55.006680Z",
     "start_time": "2024-10-16T14:49:55.003364Z"
    }
   },
   "cell_type": "code",
   "source": "targets",
   "id": "afd301e50d5b0872",
   "outputs": [
    {
     "data": {
      "text/plain": [
       "1000    1.844\n",
       "1001    1.584\n",
       "1002    1.746\n",
       "1003    1.684\n",
       "1004    1.884\n",
       "1005    2.567\n",
       "1006    1.838\n",
       "1007    1.834\n",
       "1008    1.775\n",
       "1009    1.869\n",
       "1010    2.389\n",
       "1011    1.725\n",
       "1012    1.792\n",
       "1013    2.044\n",
       "1014    2.094\n",
       "1015    2.642\n",
       "1016    3.500\n",
       "1017    1.998\n",
       "1018    2.110\n",
       "1019    2.011\n",
       "Name: target, dtype: float64"
      ]
     },
     "execution_count": 28,
     "metadata": {},
     "output_type": "execute_result"
    }
   ],
   "execution_count": 28
  },
  {
   "metadata": {
    "ExecuteTime": {
     "end_time": "2024-10-16T14:53:24.972158Z",
     "start_time": "2024-10-16T14:53:24.932897Z"
    }
   },
   "cell_type": "code",
   "source": [
    "pred_results = pd.DataFrame({'actual': targets, 'predicted': predicted_targets})\n",
    "pred_results.head(20)"
   ],
   "id": "f8e21f9ca7ce7662",
   "outputs": [
    {
     "ename": "ValueError",
     "evalue": "array length 38 does not match index length 20",
     "output_type": "error",
     "traceback": [
      "\u001B[0;31m---------------------------------------------------------------------------\u001B[0m",
      "\u001B[0;31mValueError\u001B[0m                                Traceback (most recent call last)",
      "Cell \u001B[0;32mIn[33], line 1\u001B[0m\n\u001B[0;32m----> 1\u001B[0m pred_results \u001B[38;5;241m=\u001B[39m \u001B[43mpd\u001B[49m\u001B[38;5;241;43m.\u001B[39;49m\u001B[43mDataFrame\u001B[49m\u001B[43m(\u001B[49m\u001B[43m{\u001B[49m\u001B[38;5;124;43m'\u001B[39;49m\u001B[38;5;124;43mactual\u001B[39;49m\u001B[38;5;124;43m'\u001B[39;49m\u001B[43m:\u001B[49m\u001B[43m \u001B[49m\u001B[43mtargets\u001B[49m\u001B[43m,\u001B[49m\u001B[43m \u001B[49m\u001B[38;5;124;43m'\u001B[39;49m\u001B[38;5;124;43mpredicted\u001B[39;49m\u001B[38;5;124;43m'\u001B[39;49m\u001B[43m:\u001B[49m\u001B[43m \u001B[49m\u001B[43mpredicted_targets\u001B[49m\u001B[43m}\u001B[49m\u001B[43m)\u001B[49m\n\u001B[1;32m      2\u001B[0m pred_results\u001B[38;5;241m.\u001B[39mhead(\u001B[38;5;241m20\u001B[39m)\n",
      "File \u001B[0;32m~/Projects/sloboda/_rnd/aiapi/openaiapi/.venv/lib/python3.11/site-packages/pandas/core/frame.py:778\u001B[0m, in \u001B[0;36mDataFrame.__init__\u001B[0;34m(self, data, index, columns, dtype, copy)\u001B[0m\n\u001B[1;32m    772\u001B[0m     mgr \u001B[38;5;241m=\u001B[39m \u001B[38;5;28mself\u001B[39m\u001B[38;5;241m.\u001B[39m_init_mgr(\n\u001B[1;32m    773\u001B[0m         data, axes\u001B[38;5;241m=\u001B[39m{\u001B[38;5;124m\"\u001B[39m\u001B[38;5;124mindex\u001B[39m\u001B[38;5;124m\"\u001B[39m: index, \u001B[38;5;124m\"\u001B[39m\u001B[38;5;124mcolumns\u001B[39m\u001B[38;5;124m\"\u001B[39m: columns}, dtype\u001B[38;5;241m=\u001B[39mdtype, copy\u001B[38;5;241m=\u001B[39mcopy\n\u001B[1;32m    774\u001B[0m     )\n\u001B[1;32m    776\u001B[0m \u001B[38;5;28;01melif\u001B[39;00m \u001B[38;5;28misinstance\u001B[39m(data, \u001B[38;5;28mdict\u001B[39m):\n\u001B[1;32m    777\u001B[0m     \u001B[38;5;66;03m# GH#38939 de facto copy defaults to False only in non-dict cases\u001B[39;00m\n\u001B[0;32m--> 778\u001B[0m     mgr \u001B[38;5;241m=\u001B[39m \u001B[43mdict_to_mgr\u001B[49m\u001B[43m(\u001B[49m\u001B[43mdata\u001B[49m\u001B[43m,\u001B[49m\u001B[43m \u001B[49m\u001B[43mindex\u001B[49m\u001B[43m,\u001B[49m\u001B[43m \u001B[49m\u001B[43mcolumns\u001B[49m\u001B[43m,\u001B[49m\u001B[43m \u001B[49m\u001B[43mdtype\u001B[49m\u001B[38;5;241;43m=\u001B[39;49m\u001B[43mdtype\u001B[49m\u001B[43m,\u001B[49m\u001B[43m \u001B[49m\u001B[43mcopy\u001B[49m\u001B[38;5;241;43m=\u001B[39;49m\u001B[43mcopy\u001B[49m\u001B[43m,\u001B[49m\u001B[43m \u001B[49m\u001B[43mtyp\u001B[49m\u001B[38;5;241;43m=\u001B[39;49m\u001B[43mmanager\u001B[49m\u001B[43m)\u001B[49m\n\u001B[1;32m    779\u001B[0m \u001B[38;5;28;01melif\u001B[39;00m \u001B[38;5;28misinstance\u001B[39m(data, ma\u001B[38;5;241m.\u001B[39mMaskedArray):\n\u001B[1;32m    780\u001B[0m     \u001B[38;5;28;01mfrom\u001B[39;00m \u001B[38;5;21;01mnumpy\u001B[39;00m\u001B[38;5;21;01m.\u001B[39;00m\u001B[38;5;21;01mma\u001B[39;00m \u001B[38;5;28;01mimport\u001B[39;00m mrecords\n",
      "File \u001B[0;32m~/Projects/sloboda/_rnd/aiapi/openaiapi/.venv/lib/python3.11/site-packages/pandas/core/internals/construction.py:503\u001B[0m, in \u001B[0;36mdict_to_mgr\u001B[0;34m(data, index, columns, dtype, typ, copy)\u001B[0m\n\u001B[1;32m    499\u001B[0m     \u001B[38;5;28;01melse\u001B[39;00m:\n\u001B[1;32m    500\u001B[0m         \u001B[38;5;66;03m# dtype check to exclude e.g. range objects, scalars\u001B[39;00m\n\u001B[1;32m    501\u001B[0m         arrays \u001B[38;5;241m=\u001B[39m [x\u001B[38;5;241m.\u001B[39mcopy() \u001B[38;5;28;01mif\u001B[39;00m \u001B[38;5;28mhasattr\u001B[39m(x, \u001B[38;5;124m\"\u001B[39m\u001B[38;5;124mdtype\u001B[39m\u001B[38;5;124m\"\u001B[39m) \u001B[38;5;28;01melse\u001B[39;00m x \u001B[38;5;28;01mfor\u001B[39;00m x \u001B[38;5;129;01min\u001B[39;00m arrays]\n\u001B[0;32m--> 503\u001B[0m \u001B[38;5;28;01mreturn\u001B[39;00m \u001B[43marrays_to_mgr\u001B[49m\u001B[43m(\u001B[49m\u001B[43marrays\u001B[49m\u001B[43m,\u001B[49m\u001B[43m \u001B[49m\u001B[43mcolumns\u001B[49m\u001B[43m,\u001B[49m\u001B[43m \u001B[49m\u001B[43mindex\u001B[49m\u001B[43m,\u001B[49m\u001B[43m \u001B[49m\u001B[43mdtype\u001B[49m\u001B[38;5;241;43m=\u001B[39;49m\u001B[43mdtype\u001B[49m\u001B[43m,\u001B[49m\u001B[43m \u001B[49m\u001B[43mtyp\u001B[49m\u001B[38;5;241;43m=\u001B[39;49m\u001B[43mtyp\u001B[49m\u001B[43m,\u001B[49m\u001B[43m \u001B[49m\u001B[43mconsolidate\u001B[49m\u001B[38;5;241;43m=\u001B[39;49m\u001B[43mcopy\u001B[49m\u001B[43m)\u001B[49m\n",
      "File \u001B[0;32m~/Projects/sloboda/_rnd/aiapi/openaiapi/.venv/lib/python3.11/site-packages/pandas/core/internals/construction.py:114\u001B[0m, in \u001B[0;36marrays_to_mgr\u001B[0;34m(arrays, columns, index, dtype, verify_integrity, typ, consolidate)\u001B[0m\n\u001B[1;32m    111\u001B[0m \u001B[38;5;28;01mif\u001B[39;00m verify_integrity:\n\u001B[1;32m    112\u001B[0m     \u001B[38;5;66;03m# figure out the index, if necessary\u001B[39;00m\n\u001B[1;32m    113\u001B[0m     \u001B[38;5;28;01mif\u001B[39;00m index \u001B[38;5;129;01mis\u001B[39;00m \u001B[38;5;28;01mNone\u001B[39;00m:\n\u001B[0;32m--> 114\u001B[0m         index \u001B[38;5;241m=\u001B[39m \u001B[43m_extract_index\u001B[49m\u001B[43m(\u001B[49m\u001B[43marrays\u001B[49m\u001B[43m)\u001B[49m\n\u001B[1;32m    115\u001B[0m     \u001B[38;5;28;01melse\u001B[39;00m:\n\u001B[1;32m    116\u001B[0m         index \u001B[38;5;241m=\u001B[39m ensure_index(index)\n",
      "File \u001B[0;32m~/Projects/sloboda/_rnd/aiapi/openaiapi/.venv/lib/python3.11/site-packages/pandas/core/internals/construction.py:690\u001B[0m, in \u001B[0;36m_extract_index\u001B[0;34m(data)\u001B[0m\n\u001B[1;32m    685\u001B[0m     \u001B[38;5;28;01mif\u001B[39;00m lengths[\u001B[38;5;241m0\u001B[39m] \u001B[38;5;241m!=\u001B[39m \u001B[38;5;28mlen\u001B[39m(index):\n\u001B[1;32m    686\u001B[0m         msg \u001B[38;5;241m=\u001B[39m (\n\u001B[1;32m    687\u001B[0m             \u001B[38;5;124mf\u001B[39m\u001B[38;5;124m\"\u001B[39m\u001B[38;5;124marray length \u001B[39m\u001B[38;5;132;01m{\u001B[39;00mlengths[\u001B[38;5;241m0\u001B[39m]\u001B[38;5;132;01m}\u001B[39;00m\u001B[38;5;124m does not match index \u001B[39m\u001B[38;5;124m\"\u001B[39m\n\u001B[1;32m    688\u001B[0m             \u001B[38;5;124mf\u001B[39m\u001B[38;5;124m\"\u001B[39m\u001B[38;5;124mlength \u001B[39m\u001B[38;5;132;01m{\u001B[39;00m\u001B[38;5;28mlen\u001B[39m(index)\u001B[38;5;132;01m}\u001B[39;00m\u001B[38;5;124m\"\u001B[39m\n\u001B[1;32m    689\u001B[0m         )\n\u001B[0;32m--> 690\u001B[0m         \u001B[38;5;28;01mraise\u001B[39;00m \u001B[38;5;167;01mValueError\u001B[39;00m(msg)\n\u001B[1;32m    691\u001B[0m \u001B[38;5;28;01melse\u001B[39;00m:\n\u001B[1;32m    692\u001B[0m     index \u001B[38;5;241m=\u001B[39m default_index(lengths[\u001B[38;5;241m0\u001B[39m])\n",
      "\u001B[0;31mValueError\u001B[0m: array length 38 does not match index length 20"
     ]
    }
   ],
   "execution_count": 33
  },
  {
   "metadata": {},
   "cell_type": "markdown",
   "source": [
    "## Summary\n",
    "\n",
    "This is not a perfect solution to use OpenAI for regression tasks"
   ],
   "id": "fbac93705cf360b4"
  },
  {
   "metadata": {},
   "cell_type": "code",
   "outputs": [],
   "execution_count": null,
   "source": "",
   "id": "b43159dd1c3e9c7c"
  }
 ],
 "metadata": {
  "kernelspec": {
   "display_name": "Python 3",
   "language": "python",
   "name": "python3"
  },
  "language_info": {
   "codemirror_mode": {
    "name": "ipython",
    "version": 2
   },
   "file_extension": ".py",
   "mimetype": "text/x-python",
   "name": "python",
   "nbconvert_exporter": "python",
   "pygments_lexer": "ipython2",
   "version": "2.7.6"
  }
 },
 "nbformat": 4,
 "nbformat_minor": 5
}
