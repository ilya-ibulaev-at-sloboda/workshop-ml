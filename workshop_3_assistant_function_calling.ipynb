{
 "cells": [
  {
   "metadata": {},
   "cell_type": "markdown",
   "source": "# Assistant with Function-calling ability",
   "id": "a0d9286a1631124b"
  },
  {
   "metadata": {
    "ExecuteTime": {
     "end_time": "2024-10-10T15:09:58.633138Z",
     "start_time": "2024-10-10T15:09:58.630571Z"
    }
   },
   "cell_type": "code",
   "source": [
    "import dotenv, os\n",
    "import csv\n",
    "import pandas\n",
    "from openai import OpenAI"
   ],
   "id": "b2caa30c74eade6",
   "outputs": [],
   "execution_count": 9
  },
  {
   "metadata": {
    "ExecuteTime": {
     "end_time": "2024-10-10T15:09:59.275416Z",
     "start_time": "2024-10-10T15:09:59.272362Z"
    }
   },
   "cell_type": "code",
   "source": [
    "dotenv.load_dotenv(\".env\")\n",
    "\n",
    "MODEL=\"gpt-4o-mini\""
   ],
   "id": "17273f2b8253ff44",
   "outputs": [],
   "execution_count": 10
  },
  {
   "metadata": {
    "ExecuteTime": {
     "end_time": "2024-10-10T15:09:59.901365Z",
     "start_time": "2024-10-10T15:09:59.866305Z"
    }
   },
   "cell_type": "code",
   "source": "client = OpenAI()",
   "id": "b7b0f1f71448ee1",
   "outputs": [],
   "execution_count": 11
  },
  {
   "metadata": {},
   "cell_type": "markdown",
   "source": [
    "## 1. Access order information\n",
    "\n",
    "We will use a CSV file as a data source to store the order information. The CSV file contains the order number and the order status. We will create a utility to get the order status by order number."
   ],
   "id": "1195a10f5ea4b826"
  },
  {
   "metadata": {
    "ExecuteTime": {
     "end_time": "2024-10-10T15:10:01.787721Z",
     "start_time": "2024-10-10T15:10:01.779357Z"
    }
   },
   "cell_type": "code",
   "source": [
    "# Let's see how the orders are stored in the csv file\n",
    "df = pandas.read_csv(os.getcwd()+'/data/orders.csv')\n",
    "df.head()"
   ],
   "id": "41564164d2eba057",
   "outputs": [
    {
     "data": {
      "text/plain": [
       "   number     status            tracking\n",
       "0    3001  delivered  1Z999AA10123456784\n",
       "1    3002   canceled  1Z999AA10123456785\n",
       "2    3003  delivered  1Z999AA10123456786\n",
       "3    3004    shipped  1Z999AA10123456787\n",
       "4    3005        new                 NaN"
      ],
      "text/html": [
       "<div>\n",
       "<style scoped>\n",
       "    .dataframe tbody tr th:only-of-type {\n",
       "        vertical-align: middle;\n",
       "    }\n",
       "\n",
       "    .dataframe tbody tr th {\n",
       "        vertical-align: top;\n",
       "    }\n",
       "\n",
       "    .dataframe thead th {\n",
       "        text-align: right;\n",
       "    }\n",
       "</style>\n",
       "<table border=\"1\" class=\"dataframe\">\n",
       "  <thead>\n",
       "    <tr style=\"text-align: right;\">\n",
       "      <th></th>\n",
       "      <th>number</th>\n",
       "      <th>status</th>\n",
       "      <th>tracking</th>\n",
       "    </tr>\n",
       "  </thead>\n",
       "  <tbody>\n",
       "    <tr>\n",
       "      <th>0</th>\n",
       "      <td>3001</td>\n",
       "      <td>delivered</td>\n",
       "      <td>1Z999AA10123456784</td>\n",
       "    </tr>\n",
       "    <tr>\n",
       "      <th>1</th>\n",
       "      <td>3002</td>\n",
       "      <td>canceled</td>\n",
       "      <td>1Z999AA10123456785</td>\n",
       "    </tr>\n",
       "    <tr>\n",
       "      <th>2</th>\n",
       "      <td>3003</td>\n",
       "      <td>delivered</td>\n",
       "      <td>1Z999AA10123456786</td>\n",
       "    </tr>\n",
       "    <tr>\n",
       "      <th>3</th>\n",
       "      <td>3004</td>\n",
       "      <td>shipped</td>\n",
       "      <td>1Z999AA10123456787</td>\n",
       "    </tr>\n",
       "    <tr>\n",
       "      <th>4</th>\n",
       "      <td>3005</td>\n",
       "      <td>new</td>\n",
       "      <td>NaN</td>\n",
       "    </tr>\n",
       "  </tbody>\n",
       "</table>\n",
       "</div>"
      ]
     },
     "execution_count": 12,
     "metadata": {},
     "output_type": "execute_result"
    }
   ],
   "execution_count": 12
  },
  {
   "metadata": {
    "ExecuteTime": {
     "end_time": "2024-10-10T15:10:03.324662Z",
     "start_time": "2024-10-10T15:10:03.321229Z"
    }
   },
   "cell_type": "code",
   "source": [
    "# Get all orders from the csv file\n",
    "def get_orders():\n",
    "  with open(os.getcwd()+'/data/orders.csv', mode='r') as infile:\n",
    "    reader = csv.reader(infile)\n",
    "    next(reader, None)\n",
    "    # create orders dict with key first column \n",
    "    orders = {str(row[0]):[row[1], row[2]] for row in reader}\n",
    "    \n",
    "  return orders\n",
    "\n",
    "# Get the order information by order number\n",
    "def get_order_info_by_number(number:str):\n",
    "  orders = get_orders()\n",
    "  try:\n",
    "    return str(orders[str(number)][0])\n",
    "  except KeyError:\n",
    "    return \"Order not found\""
   ],
   "id": "9fae32d80411fddd",
   "outputs": [],
   "execution_count": 13
  },
  {
   "metadata": {},
   "cell_type": "markdown",
   "source": [
    "## 2. Create an assistant\n",
    "\n",
    "Here we add a function name `get_order_info` to the assistant. We create a description, parameters, and required fields for the function. The function will take an order number as a parameter and return the order status."
   ],
   "id": "76814e5f9b742459"
  },
  {
   "metadata": {
    "ExecuteTime": {
     "end_time": "2024-10-10T15:10:06.783034Z",
     "start_time": "2024-10-10T15:10:05.694921Z"
    }
   },
   "cell_type": "code",
   "source": [
    "assistant = client.beta.assistants.create(\n",
    "  instructions=\"You are a e-shop order assistant. You can provide information about user's orders\",\n",
    "  model=MODEL,\n",
    "  tools=[\n",
    "    {\n",
    "      \"type\": \"function\",\n",
    "      \"function\": {\n",
    "        \"name\": \"get_order_info\",\n",
    "        \"description\": \"Get the order status\",\n",
    "        \"parameters\": {\n",
    "          \"type\": \"object\",\n",
    "          \"properties\": {\n",
    "            \"order_number\": {\n",
    "              \"type\": \"string\",\n",
    "              \"description\": \"The order number containing 4 digits and staring from 3\"\n",
    "            }\n",
    "          },\n",
    "          \"required\": [\"order_number\",]\n",
    "        }\n",
    "      }\n",
    "    },\n",
    "  ]\n",
    ")"
   ],
   "id": "13c48d75f5d1dbfb",
   "outputs": [],
   "execution_count": 14
  },
  {
   "metadata": {},
   "cell_type": "markdown",
   "source": [
    "## 3. Create a thread\n",
    "\n",
    "In our case the Thread is a conversation between the user and the assistant. "
   ],
   "id": "a38f19dcb283e246"
  },
  {
   "metadata": {
    "ExecuteTime": {
     "end_time": "2024-10-10T15:10:13.367705Z",
     "start_time": "2024-10-10T15:10:12.524132Z"
    }
   },
   "cell_type": "code",
   "source": "thread = client.beta.threads.create()",
   "id": "4b0398fa4219cc2b",
   "outputs": [],
   "execution_count": 15
  },
  {
   "metadata": {},
   "cell_type": "markdown",
   "source": [
    "## 4. Send a message\n",
    "\n",
    "### 4.1 Create a message"
   ],
   "id": "3b520cdccad7a4b"
  },
  {
   "metadata": {
    "ExecuteTime": {
     "end_time": "2024-10-10T15:22:53.091671Z",
     "start_time": "2024-10-10T15:22:52.346730Z"
    }
   },
   "cell_type": "code",
   "source": [
    "# message_text = \"I want to know the status of my order 1876238762401\"\n",
    "message_text = \"What is the status of order 3001\"\n",
    "# message_text = \"i am a cat\"\n",
    "\n",
    "message = client.beta.threads.messages.create(\n",
    "  thread_id=thread.id,\n",
    "  role=\"user\",\n",
    "  content=message_text\n",
    ")"
   ],
   "id": "a06d22401941a316",
   "outputs": [],
   "execution_count": 49
  },
  {
   "metadata": {},
   "cell_type": "markdown",
   "source": "### 4.2 Send the message via creating a Run",
   "id": "ea476f8bcc4b0069"
  },
  {
   "metadata": {
    "ExecuteTime": {
     "end_time": "2024-10-10T15:22:58.465380Z",
     "start_time": "2024-10-10T15:22:55.518336Z"
    }
   },
   "cell_type": "code",
   "source": [
    "run = client.beta.threads.runs.create_and_poll(\n",
    "  thread_id=thread.id,\n",
    "  assistant_id=assistant.id,\n",
    ")"
   ],
   "id": "d3afcf9ba35f60b4",
   "outputs": [],
   "execution_count": 50
  },
  {
   "metadata": {
    "ExecuteTime": {
     "end_time": "2024-10-10T15:23:00.951560Z",
     "start_time": "2024-10-10T15:23:00.948261Z"
    }
   },
   "cell_type": "code",
   "source": [
    "# let's check the status of the run\n",
    "run.status"
   ],
   "id": "651b65bd3facb8c2",
   "outputs": [
    {
     "data": {
      "text/plain": [
       "'requires_action'"
      ]
     },
     "execution_count": 51,
     "metadata": {},
     "output_type": "execute_result"
    }
   ],
   "execution_count": 51
  },
  {
   "metadata": {
    "ExecuteTime": {
     "end_time": "2024-10-10T15:28:23.897562Z",
     "start_time": "2024-10-10T15:28:23.894414Z"
    }
   },
   "cell_type": "code",
   "source": [
    "# If message is completed, we can show the response to user\n",
    "if run.status == 'completed':\n",
    "  messages = client.beta.threads.messages.list(\n",
    "    thread_id=thread.id\n",
    "  )\n",
    "  print(messages.data[0].content[0].text.value)\n",
    "  \n",
    "  # That means we can return to step 4.1 and send a new message"
   ],
   "id": "7f17370a7f1ab47c",
   "outputs": [],
   "execution_count": 53
  },
  {
   "metadata": {},
   "cell_type": "markdown",
   "source": [
    "## 5. Get the order information\n",
    "\n",
    "Only if the run.status == \"requires_action\""
   ],
   "id": "6e7a318b458802de"
  },
  {
   "metadata": {
    "ExecuteTime": {
     "end_time": "2024-10-10T15:28:41.634320Z",
     "start_time": "2024-10-10T15:28:41.628143Z"
    }
   },
   "cell_type": "code",
   "source": [
    "# Define the list to store tool outputs\n",
    "tool_outputs = []\n",
    " \n",
    "# Loop through each tool in the required action section\n",
    "for tool in run.required_action.submit_tool_outputs.tool_calls:\n",
    "  if tool.function.name == \"get_order_info\":\n",
    "    \n",
    "    kargs = eval(tool.function.arguments)\n",
    "    print(f\"passed kwargs are: {kargs}\")\n",
    "    \n",
    "    tool_outputs.append({\n",
    "      \"tool_call_id\": tool.id,\n",
    "      \"output\": get_order_info_by_number(kargs['order_number'])\n",
    "    })\n",
    "      \n",
    "tool_outputs"
   ],
   "id": "d8ed4d4acbf3bf18",
   "outputs": [
    {
     "name": "stdout",
     "output_type": "stream",
     "text": [
      "passed kwargs are: {'order_number': '3001'}\n"
     ]
    },
    {
     "data": {
      "text/plain": [
       "[{'tool_call_id': 'call_4FWDCW0BAsrbSQzXan5KQKd5', 'output': 'delivered'}]"
      ]
     },
     "execution_count": 54,
     "metadata": {},
     "output_type": "execute_result"
    }
   ],
   "execution_count": 54
  },
  {
   "metadata": {},
   "cell_type": "markdown",
   "source": "## 6. Submit the tool outputs",
   "id": "ddde208d2e057f87"
  },
  {
   "metadata": {
    "ExecuteTime": {
     "end_time": "2024-10-10T15:28:48.122272Z",
     "start_time": "2024-10-10T15:28:43.979519Z"
    }
   },
   "cell_type": "code",
   "source": [
    "# Submit all tool outputs at once after collecting them in a list\n",
    "if tool_outputs:\n",
    "  try:\n",
    "    run = client.beta.threads.runs.submit_tool_outputs_and_poll(\n",
    "      thread_id=thread.id,\n",
    "      run_id=run.id,\n",
    "      tool_outputs=tool_outputs\n",
    "    )\n",
    "    print(\"Tool outputs submitted successfully.\")\n",
    "  except Exception as e:\n",
    "    print(\"Failed to submit tool outputs:\", e)\n",
    "else:\n",
    "  print(\"No tool outputs to submit.\")\n",
    " "
   ],
   "id": "3181f45a4deea572",
   "outputs": [
    {
     "name": "stdout",
     "output_type": "stream",
     "text": [
      "Tool outputs submitted successfully.\n"
     ]
    }
   ],
   "execution_count": 55
  },
  {
   "metadata": {
    "ExecuteTime": {
     "end_time": "2024-10-10T15:28:49.795366Z",
     "start_time": "2024-10-10T15:28:49.792280Z"
    }
   },
   "cell_type": "code",
   "source": [
    "# let's check the status of the run\n",
    "run.status"
   ],
   "id": "f86c4181a4bb6e54",
   "outputs": [
    {
     "data": {
      "text/plain": [
       "'completed'"
      ]
     },
     "execution_count": 56,
     "metadata": {},
     "output_type": "execute_result"
    }
   ],
   "execution_count": 56
  },
  {
   "metadata": {
    "ExecuteTime": {
     "end_time": "2024-10-10T15:30:09.329127Z",
     "start_time": "2024-10-10T15:30:08.393479Z"
    }
   },
   "cell_type": "code",
   "source": [
    "if run.status == 'completed':\n",
    "  messages = client.beta.threads.messages.list(\n",
    "    thread_id=thread.id\n",
    "  )\n",
    "  print(messages.data[0].content[0].text.value)\n",
    "  \n",
    "   # That means we can return to step 4.1 and send a new message"
   ],
   "id": "4c9ceb6621240159",
   "outputs": [
    {
     "name": "stdout",
     "output_type": "stream",
     "text": [
      "The status of order 3001 is \"delivered.\" If you need any more information or assistance, just let me know!\n"
     ]
    }
   ],
   "execution_count": 60
  },
  {
   "metadata": {},
   "cell_type": "code",
   "outputs": [],
   "execution_count": null,
   "source": "",
   "id": "429ae6356c8b9436"
  }
 ],
 "metadata": {
  "kernelspec": {
   "display_name": "Python 3",
   "language": "python",
   "name": "python3"
  },
  "language_info": {
   "codemirror_mode": {
    "name": "ipython",
    "version": 2
   },
   "file_extension": ".py",
   "mimetype": "text/x-python",
   "name": "python",
   "nbconvert_exporter": "python",
   "pygments_lexer": "ipython2",
   "version": "2.7.6"
  }
 },
 "nbformat": 4,
 "nbformat_minor": 5
}
